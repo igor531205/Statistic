{
  "nbformat": 4,
  "nbformat_minor": 0,
  "metadata": {
    "colab": {
      "provenance": [],
      "authorship_tag": "ABX9TyN+ep183UvXfQCJK4hZkugr",
      "include_colab_link": true
    },
    "kernelspec": {
      "name": "python3",
      "display_name": "Python 3"
    },
    "language_info": {
      "name": "python"
    }
  },
  "cells": [
    {
      "cell_type": "markdown",
      "metadata": {
        "id": "view-in-github",
        "colab_type": "text"
      },
      "source": [
        "<a href=\"https://colab.research.google.com/github/igor531205/statistic/blob/main/statistic_2.ipynb\" target=\"_parent\"><img src=\"https://colab.research.google.com/assets/colab-badge.svg\" alt=\"Open In Colab\"/></a>"
      ]
    },
    {
      "cell_type": "markdown",
      "source": [
        "***Выполнил Пушкарев Игорь Игоревич. Группа 23.М08-мм. Вариант 10***"
      ],
      "metadata": {
        "id": "AV-JtwmKsqXn"
      }
    },
    {
      "cell_type": "markdown",
      "source": [
        "## Методы статистической обработки информации.\n",
        "### Статистический анализ категориальных признаков и проверка гипотез однородности.\n",
        "\n",
        "---\n",
        "\n",
        "* Данные [addicts.xlsx](https://github.com/igor531205/statistic/raw/main/data/addicts.xlsx), вариант 10. Для каждой из трех независимых категориальных переменных (intpla, ha, se) исследовать таблицы сопряженности с зависимой переменной end.\n",
        "\n",
        "---"
      ],
      "metadata": {
        "id": "MT-Ou_3ust_F"
      }
    },
    {
      "cell_type": "markdown",
      "source": [
        "*Импортируем необходимые для дальнейшей работы библиотеки.*"
      ],
      "metadata": {
        "id": "SbjtPBlDAl_u"
      }
    },
    {
      "cell_type": "code",
      "execution_count": null,
      "metadata": {
        "id": "JNEHkxFdr7Zx"
      },
      "outputs": [],
      "source": [
        "import numpy as np\n",
        "import pandas as pd\n",
        "import seaborn as sns\n",
        "import matplotlib.pyplot as plt\n",
        "from scipy.stats import chi2_contingency, fisher_exact, levene, ttest_ind, \\\n",
        "                        f_oneway, bartlett, mannwhitneyu, ttest_rel, wilcoxon\n",
        "from statsmodels.stats.contingency_tables import mcnemar, cochrans_q\n",
        "from statsmodels.stats.anova import AnovaRM\n",
        "from sklearn.preprocessing import LabelEncoder"
      ]
    },
    {
      "cell_type": "markdown",
      "source": [
        "*Загружаем данные по ссылке*"
      ],
      "metadata": {
        "id": "9xuQRjbxl08l"
      }
    },
    {
      "cell_type": "code",
      "source": [
        "# ссылка на данные\n",
        "link = 'https://github.com/igor531205/statistic/raw/main/data/addicts.xlsx'\n",
        "\n",
        "addicts_sheet_name = 'addicts'\n",
        "\n",
        "# Считываем данные\n",
        "addicts=pd.read_excel(link, sheet_name=addicts_sheet_name, usecols=['intpla', 'ha', 'se', 'end'], index_col=False)\n",
        "\n",
        "# Отключаем ограничение в отображении столбцов\n",
        "pd.options.display.max_columns = None\n",
        "\n",
        "# Выводим 5 первых строк\n",
        "addicts.head()"
      ],
      "metadata": {
        "colab": {
          "base_uri": "https://localhost:8080/",
          "height": 206
        },
        "id": "QAL-kIHUkIlk",
        "outputId": "a86147f9-2690-4409-a5a0-77076a01d567"
      },
      "execution_count": null,
      "outputs": [
        {
          "output_type": "execute_result",
          "data": {
            "text/plain": [
              "   intpla   ha   se  end\n",
              "0       1  1.0  0.0  0.0\n",
              "1       2  0.0  0.0  0.0\n",
              "2       1  0.0  0.0  0.0\n",
              "3       1  1.0  0.0  0.0\n",
              "4       2  0.0  0.0  0.0"
            ],
            "text/html": [
              "\n",
              "  <div id=\"df-250f2fd6-2b02-4a94-980b-f1241542f8b1\" class=\"colab-df-container\">\n",
              "    <div>\n",
              "<style scoped>\n",
              "    .dataframe tbody tr th:only-of-type {\n",
              "        vertical-align: middle;\n",
              "    }\n",
              "\n",
              "    .dataframe tbody tr th {\n",
              "        vertical-align: top;\n",
              "    }\n",
              "\n",
              "    .dataframe thead th {\n",
              "        text-align: right;\n",
              "    }\n",
              "</style>\n",
              "<table border=\"1\" class=\"dataframe\">\n",
              "  <thead>\n",
              "    <tr style=\"text-align: right;\">\n",
              "      <th></th>\n",
              "      <th>intpla</th>\n",
              "      <th>ha</th>\n",
              "      <th>se</th>\n",
              "      <th>end</th>\n",
              "    </tr>\n",
              "  </thead>\n",
              "  <tbody>\n",
              "    <tr>\n",
              "      <th>0</th>\n",
              "      <td>1</td>\n",
              "      <td>1.0</td>\n",
              "      <td>0.0</td>\n",
              "      <td>0.0</td>\n",
              "    </tr>\n",
              "    <tr>\n",
              "      <th>1</th>\n",
              "      <td>2</td>\n",
              "      <td>0.0</td>\n",
              "      <td>0.0</td>\n",
              "      <td>0.0</td>\n",
              "    </tr>\n",
              "    <tr>\n",
              "      <th>2</th>\n",
              "      <td>1</td>\n",
              "      <td>0.0</td>\n",
              "      <td>0.0</td>\n",
              "      <td>0.0</td>\n",
              "    </tr>\n",
              "    <tr>\n",
              "      <th>3</th>\n",
              "      <td>1</td>\n",
              "      <td>1.0</td>\n",
              "      <td>0.0</td>\n",
              "      <td>0.0</td>\n",
              "    </tr>\n",
              "    <tr>\n",
              "      <th>4</th>\n",
              "      <td>2</td>\n",
              "      <td>0.0</td>\n",
              "      <td>0.0</td>\n",
              "      <td>0.0</td>\n",
              "    </tr>\n",
              "  </tbody>\n",
              "</table>\n",
              "</div>\n",
              "    <div class=\"colab-df-buttons\">\n",
              "\n",
              "  <div class=\"colab-df-container\">\n",
              "    <button class=\"colab-df-convert\" onclick=\"convertToInteractive('df-250f2fd6-2b02-4a94-980b-f1241542f8b1')\"\n",
              "            title=\"Convert this dataframe to an interactive table.\"\n",
              "            style=\"display:none;\">\n",
              "\n",
              "  <svg xmlns=\"http://www.w3.org/2000/svg\" height=\"24px\" viewBox=\"0 -960 960 960\">\n",
              "    <path d=\"M120-120v-720h720v720H120Zm60-500h600v-160H180v160Zm220 220h160v-160H400v160Zm0 220h160v-160H400v160ZM180-400h160v-160H180v160Zm440 0h160v-160H620v160ZM180-180h160v-160H180v160Zm440 0h160v-160H620v160Z\"/>\n",
              "  </svg>\n",
              "    </button>\n",
              "\n",
              "  <style>\n",
              "    .colab-df-container {\n",
              "      display:flex;\n",
              "      gap: 12px;\n",
              "    }\n",
              "\n",
              "    .colab-df-convert {\n",
              "      background-color: #E8F0FE;\n",
              "      border: none;\n",
              "      border-radius: 50%;\n",
              "      cursor: pointer;\n",
              "      display: none;\n",
              "      fill: #1967D2;\n",
              "      height: 32px;\n",
              "      padding: 0 0 0 0;\n",
              "      width: 32px;\n",
              "    }\n",
              "\n",
              "    .colab-df-convert:hover {\n",
              "      background-color: #E2EBFA;\n",
              "      box-shadow: 0px 1px 2px rgba(60, 64, 67, 0.3), 0px 1px 3px 1px rgba(60, 64, 67, 0.15);\n",
              "      fill: #174EA6;\n",
              "    }\n",
              "\n",
              "    .colab-df-buttons div {\n",
              "      margin-bottom: 4px;\n",
              "    }\n",
              "\n",
              "    [theme=dark] .colab-df-convert {\n",
              "      background-color: #3B4455;\n",
              "      fill: #D2E3FC;\n",
              "    }\n",
              "\n",
              "    [theme=dark] .colab-df-convert:hover {\n",
              "      background-color: #434B5C;\n",
              "      box-shadow: 0px 1px 3px 1px rgba(0, 0, 0, 0.15);\n",
              "      filter: drop-shadow(0px 1px 2px rgba(0, 0, 0, 0.3));\n",
              "      fill: #FFFFFF;\n",
              "    }\n",
              "  </style>\n",
              "\n",
              "    <script>\n",
              "      const buttonEl =\n",
              "        document.querySelector('#df-250f2fd6-2b02-4a94-980b-f1241542f8b1 button.colab-df-convert');\n",
              "      buttonEl.style.display =\n",
              "        google.colab.kernel.accessAllowed ? 'block' : 'none';\n",
              "\n",
              "      async function convertToInteractive(key) {\n",
              "        const element = document.querySelector('#df-250f2fd6-2b02-4a94-980b-f1241542f8b1');\n",
              "        const dataTable =\n",
              "          await google.colab.kernel.invokeFunction('convertToInteractive',\n",
              "                                                    [key], {});\n",
              "        if (!dataTable) return;\n",
              "\n",
              "        const docLinkHtml = 'Like what you see? Visit the ' +\n",
              "          '<a target=\"_blank\" href=https://colab.research.google.com/notebooks/data_table.ipynb>data table notebook</a>'\n",
              "          + ' to learn more about interactive tables.';\n",
              "        element.innerHTML = '';\n",
              "        dataTable['output_type'] = 'display_data';\n",
              "        await google.colab.output.renderOutput(dataTable, element);\n",
              "        const docLink = document.createElement('div');\n",
              "        docLink.innerHTML = docLinkHtml;\n",
              "        element.appendChild(docLink);\n",
              "      }\n",
              "    </script>\n",
              "  </div>\n",
              "\n",
              "\n",
              "<div id=\"df-2630f2de-844f-4999-9ba7-11d9c09a0d02\">\n",
              "  <button class=\"colab-df-quickchart\" onclick=\"quickchart('df-2630f2de-844f-4999-9ba7-11d9c09a0d02')\"\n",
              "            title=\"Suggest charts\"\n",
              "            style=\"display:none;\">\n",
              "\n",
              "<svg xmlns=\"http://www.w3.org/2000/svg\" height=\"24px\"viewBox=\"0 0 24 24\"\n",
              "     width=\"24px\">\n",
              "    <g>\n",
              "        <path d=\"M19 3H5c-1.1 0-2 .9-2 2v14c0 1.1.9 2 2 2h14c1.1 0 2-.9 2-2V5c0-1.1-.9-2-2-2zM9 17H7v-7h2v7zm4 0h-2V7h2v10zm4 0h-2v-4h2v4z\"/>\n",
              "    </g>\n",
              "</svg>\n",
              "  </button>\n",
              "\n",
              "<style>\n",
              "  .colab-df-quickchart {\n",
              "      --bg-color: #E8F0FE;\n",
              "      --fill-color: #1967D2;\n",
              "      --hover-bg-color: #E2EBFA;\n",
              "      --hover-fill-color: #174EA6;\n",
              "      --disabled-fill-color: #AAA;\n",
              "      --disabled-bg-color: #DDD;\n",
              "  }\n",
              "\n",
              "  [theme=dark] .colab-df-quickchart {\n",
              "      --bg-color: #3B4455;\n",
              "      --fill-color: #D2E3FC;\n",
              "      --hover-bg-color: #434B5C;\n",
              "      --hover-fill-color: #FFFFFF;\n",
              "      --disabled-bg-color: #3B4455;\n",
              "      --disabled-fill-color: #666;\n",
              "  }\n",
              "\n",
              "  .colab-df-quickchart {\n",
              "    background-color: var(--bg-color);\n",
              "    border: none;\n",
              "    border-radius: 50%;\n",
              "    cursor: pointer;\n",
              "    display: none;\n",
              "    fill: var(--fill-color);\n",
              "    height: 32px;\n",
              "    padding: 0;\n",
              "    width: 32px;\n",
              "  }\n",
              "\n",
              "  .colab-df-quickchart:hover {\n",
              "    background-color: var(--hover-bg-color);\n",
              "    box-shadow: 0 1px 2px rgba(60, 64, 67, 0.3), 0 1px 3px 1px rgba(60, 64, 67, 0.15);\n",
              "    fill: var(--button-hover-fill-color);\n",
              "  }\n",
              "\n",
              "  .colab-df-quickchart-complete:disabled,\n",
              "  .colab-df-quickchart-complete:disabled:hover {\n",
              "    background-color: var(--disabled-bg-color);\n",
              "    fill: var(--disabled-fill-color);\n",
              "    box-shadow: none;\n",
              "  }\n",
              "\n",
              "  .colab-df-spinner {\n",
              "    border: 2px solid var(--fill-color);\n",
              "    border-color: transparent;\n",
              "    border-bottom-color: var(--fill-color);\n",
              "    animation:\n",
              "      spin 1s steps(1) infinite;\n",
              "  }\n",
              "\n",
              "  @keyframes spin {\n",
              "    0% {\n",
              "      border-color: transparent;\n",
              "      border-bottom-color: var(--fill-color);\n",
              "      border-left-color: var(--fill-color);\n",
              "    }\n",
              "    20% {\n",
              "      border-color: transparent;\n",
              "      border-left-color: var(--fill-color);\n",
              "      border-top-color: var(--fill-color);\n",
              "    }\n",
              "    30% {\n",
              "      border-color: transparent;\n",
              "      border-left-color: var(--fill-color);\n",
              "      border-top-color: var(--fill-color);\n",
              "      border-right-color: var(--fill-color);\n",
              "    }\n",
              "    40% {\n",
              "      border-color: transparent;\n",
              "      border-right-color: var(--fill-color);\n",
              "      border-top-color: var(--fill-color);\n",
              "    }\n",
              "    60% {\n",
              "      border-color: transparent;\n",
              "      border-right-color: var(--fill-color);\n",
              "    }\n",
              "    80% {\n",
              "      border-color: transparent;\n",
              "      border-right-color: var(--fill-color);\n",
              "      border-bottom-color: var(--fill-color);\n",
              "    }\n",
              "    90% {\n",
              "      border-color: transparent;\n",
              "      border-bottom-color: var(--fill-color);\n",
              "    }\n",
              "  }\n",
              "</style>\n",
              "\n",
              "  <script>\n",
              "    async function quickchart(key) {\n",
              "      const quickchartButtonEl =\n",
              "        document.querySelector('#' + key + ' button');\n",
              "      quickchartButtonEl.disabled = true;  // To prevent multiple clicks.\n",
              "      quickchartButtonEl.classList.add('colab-df-spinner');\n",
              "      try {\n",
              "        const charts = await google.colab.kernel.invokeFunction(\n",
              "            'suggestCharts', [key], {});\n",
              "      } catch (error) {\n",
              "        console.error('Error during call to suggestCharts:', error);\n",
              "      }\n",
              "      quickchartButtonEl.classList.remove('colab-df-spinner');\n",
              "      quickchartButtonEl.classList.add('colab-df-quickchart-complete');\n",
              "    }\n",
              "    (() => {\n",
              "      let quickchartButtonEl =\n",
              "        document.querySelector('#df-2630f2de-844f-4999-9ba7-11d9c09a0d02 button');\n",
              "      quickchartButtonEl.style.display =\n",
              "        google.colab.kernel.accessAllowed ? 'block' : 'none';\n",
              "    })();\n",
              "  </script>\n",
              "</div>\n",
              "    </div>\n",
              "  </div>\n"
            ],
            "application/vnd.google.colaboratory.intrinsic+json": {
              "type": "dataframe",
              "variable_name": "addicts",
              "summary": "{\n  \"name\": \"addicts\",\n  \"rows\": 280,\n  \"fields\": [\n    {\n      \"column\": \"intpla\",\n      \"properties\": {\n        \"dtype\": \"number\",\n        \"std\": 0,\n        \"min\": 1,\n        \"max\": 2,\n        \"num_unique_values\": 2,\n        \"samples\": [\n          2,\n          1\n        ],\n        \"semantic_type\": \"\",\n        \"description\": \"\"\n      }\n    },\n    {\n      \"column\": \"ha\",\n      \"properties\": {\n        \"dtype\": \"number\",\n        \"std\": 0.42846598163795946,\n        \"min\": 0.0,\n        \"max\": 1.0,\n        \"num_unique_values\": 2,\n        \"samples\": [\n          0.0,\n          1.0\n        ],\n        \"semantic_type\": \"\",\n        \"description\": \"\"\n      }\n    },\n    {\n      \"column\": \"se\",\n      \"properties\": {\n        \"dtype\": \"number\",\n        \"std\": 0.4240179065823277,\n        \"min\": 0.0,\n        \"max\": 1.0,\n        \"num_unique_values\": 2,\n        \"samples\": [\n          1.0,\n          0.0\n        ],\n        \"semantic_type\": \"\",\n        \"description\": \"\"\n      }\n    },\n    {\n      \"column\": \"end\",\n      \"properties\": {\n        \"dtype\": \"number\",\n        \"std\": 0.4478128460835558,\n        \"min\": 0.0,\n        \"max\": 1.0,\n        \"num_unique_values\": 2,\n        \"samples\": [\n          1.0,\n          0.0\n        ],\n        \"semantic_type\": \"\",\n        \"description\": \"\"\n      }\n    }\n  ]\n}"
            }
          },
          "metadata": {},
          "execution_count": 2
        }
      ]
    },
    {
      "cell_type": "markdown",
      "source": [
        "*Проверим пропущенные значения*"
      ],
      "metadata": {
        "id": "AT2ZeK4XXNG8"
      }
    },
    {
      "cell_type": "code",
      "source": [
        "addicts.isna().sum()"
      ],
      "metadata": {
        "colab": {
          "base_uri": "https://localhost:8080/"
        },
        "id": "EA-ojNFxXHRg",
        "outputId": "552b012c-d7fe-479c-d088-16eb4a559557"
      },
      "execution_count": null,
      "outputs": [
        {
          "output_type": "execute_result",
          "data": {
            "text/plain": [
              "intpla    0\n",
              "ha        2\n",
              "se        2\n",
              "end       1\n",
              "dtype: int64"
            ]
          },
          "metadata": {},
          "execution_count": 3
        }
      ]
    },
    {
      "cell_type": "markdown",
      "source": [
        "*Заполним пропущенные значения медианными значениями*"
      ],
      "metadata": {
        "id": "U6JAogw6XTAk"
      }
    },
    {
      "cell_type": "code",
      "source": [
        "# Заполнение пропущенных значений для каждого столбца\n",
        "for col in addicts.columns:\n",
        "    mode_value = addicts[col].mode().iloc[0]\n",
        "    addicts[col].fillna(mode_value, inplace=True)\n",
        "\n",
        "# Повторная проверка\n",
        "addicts.isna().sum()"
      ],
      "metadata": {
        "colab": {
          "base_uri": "https://localhost:8080/"
        },
        "id": "J0P9cZ7IXZ5b",
        "outputId": "b04238d9-bd98-4c4b-ae74-46f90b953b45"
      },
      "execution_count": null,
      "outputs": [
        {
          "output_type": "execute_result",
          "data": {
            "text/plain": [
              "intpla    0\n",
              "ha        0\n",
              "se        0\n",
              "end       0\n",
              "dtype: int64"
            ]
          },
          "metadata": {},
          "execution_count": 4
        }
      ]
    },
    {
      "cell_type": "markdown",
      "source": [
        "---\n",
        "\n",
        "Проверить гипотезы о независимости по критерию хи-квадрат и точному критерию Фишера. Представить условные вероятности и значимости их отличия.\n",
        "\n",
        "---"
      ],
      "metadata": {
        "id": "WSXQgdOO5LI1"
      }
    },
    {
      "cell_type": "code",
      "source": [
        "# Функция для нахождения хи-квадрат и критерия Фишера для проверки гипотезы о независимости\n",
        "def perform_tests(data, col, col2='end'):\n",
        "    contingency_table = pd.crosstab(data[col], data[col2]) # Создание таблицы сопряженности\n",
        "    chi2, p_chi2, _, _ = chi2_contingency(contingency_table) # Расчет хи-квадрат\n",
        "    try: # Точный критерий Фишера применим только для таблиц 2x2\n",
        "        _, p_fisher = fisher_exact(contingency_table)\n",
        "    except ValueError: # Если таблица не 2х2\n",
        "        p_fisher = str('Критерий Фишера не применим')\n",
        "    probs = contingency_table.div(contingency_table.sum(axis=1), axis=0) # Расчет условных вероятностей\n",
        "    return contingency_table, chi2, p_chi2, p_fisher, probs"
      ],
      "metadata": {
        "id": "x1A7WUtmkIiU"
      },
      "execution_count": null,
      "outputs": []
    },
    {
      "cell_type": "code",
      "source": [
        "# Функция вывода на экран хи-квадрат и критерия Фишера\n",
        "def view(feature, contingency_table, chi2, p_chi2, p_fisher, probs):\n",
        "  print(f'Проверка гипотезы о независимости для признака {feature}:\\n')\n",
        "  print(f'Построение таблицы сопряженности:\\n{contingency_table}\\n')\n",
        "  print(f'Критерий хи-квадрат: {chi2:.5f}\\n')\n",
        "  print(f'Значение p-value: {p_chi2:.5f}\\n')\n",
        "  print(f'Критерий Фишера: {p_fisher if isinstance(p_fisher, str) else f\"{p_fisher:.5f}\"}\\n')\n",
        "  print(f'Условные вероятности:\\n{probs.round(5)}\\n')"
      ],
      "metadata": {
        "id": "13KwD0t1_pDr"
      },
      "execution_count": null,
      "outputs": []
    },
    {
      "cell_type": "markdown",
      "source": [
        "*Проверка гипотезы о независимости признака intpla на итог лечения end*"
      ],
      "metadata": {
        "id": "5OVCxn3j57fJ"
      }
    },
    {
      "cell_type": "code",
      "source": [
        "feature_intpla = 'intpla'\n",
        "ct_intpla, chi2_intpla, p_chi2_intpla, p_fisher_intpla, probs_intpla = perform_tests(addicts, feature_intpla)\n",
        "\n",
        "view(feature_intpla, ct_intpla, chi2_intpla, p_chi2_intpla, p_fisher_intpla, probs_intpla)"
      ],
      "metadata": {
        "colab": {
          "base_uri": "https://localhost:8080/"
        },
        "id": "b3mVbkmzxHne",
        "outputId": "a2b0bff2-819c-48fc-af2c-43dd4537b8eb"
      },
      "execution_count": null,
      "outputs": [
        {
          "output_type": "stream",
          "name": "stdout",
          "text": [
            "Проверка гипотезы о независимости для признака intpla:\n",
            "\n",
            "Построение таблицы сопряженности:\n",
            "end     0.0  1.0\n",
            "intpla          \n",
            "1        96   45\n",
            "2       107   32\n",
            "\n",
            "Критерий хи-квадрат: 2.34857\n",
            "\n",
            "Значение p-value: 0.12540\n",
            "\n",
            "Критерий Фишера: 0.10888\n",
            "\n",
            "Условные вероятности:\n",
            "end         0.0      1.0\n",
            "intpla                  \n",
            "1       0.68085  0.31915\n",
            "2       0.76978  0.23022\n",
            "\n"
          ]
        }
      ]
    },
    {
      "cell_type": "markdown",
      "source": [
        "Проанализируем результаты влияния признака intpla (место лечения) на итог лечения (end).\n",
        "\n",
        "Анализ таблицы сопряженности:\n",
        "\n",
        "*   кто лечился амбулаторно (intpla = 1) 45 успешно вылечились, 96 не вылечились;\n",
        "*   кто лечился в диспансере (intpla = 2) 32 успешно вылечились, 107 не вылечились.\n",
        "\n",
        "Критерий хи-квадрат:\n",
        "\n",
        "*   значение p-value больше 0.05, нет оснований отвергнуть гипотезу о независимости между intpla и end. Место лечения не влияет на результат лечения.\n",
        "\n",
        "Точный критерий Фишера:\n",
        "\n",
        "*   точный критерий Фишера также подтверждает, что нет оснований отвергать нулевую гипотезу о независимости.\n",
        "\n",
        "Условные вероятности:\n",
        "\n",
        "*   вероятность успешного выздоровления для тех кто лечился амбулаторно (intpla = 1) 31.9%;\n",
        "*   вероятность успешного выздоровления для тех кто лечился в диспансере (intpla = 2) 23.0%."
      ],
      "metadata": {
        "id": "1hnw5mdoKEEL"
      }
    },
    {
      "cell_type": "markdown",
      "source": [
        "*Проверка гипотезы о независимости признака ha на итог лечения end*"
      ],
      "metadata": {
        "id": "pji1yMaD6B34"
      }
    },
    {
      "cell_type": "code",
      "source": [
        "feature_ha = 'ha'\n",
        "ct_ha, chi2_ha, p_chi2_ha, p_fisher_ha, probs_ha = perform_tests(addicts, feature_ha)\n",
        "\n",
        "view(feature_ha, ct_ha, chi2_ha, p_chi2_ha, p_fisher_ha, probs_ha)"
      ],
      "metadata": {
        "colab": {
          "base_uri": "https://localhost:8080/"
        },
        "id": "EbhNi2OXxHkb",
        "outputId": "fa8e3ae6-7e9a-4f52-fc71-9dc91b799461"
      },
      "execution_count": null,
      "outputs": [
        {
          "output_type": "stream",
          "name": "stdout",
          "text": [
            "Проверка гипотезы о независимости для признака ha:\n",
            "\n",
            "Построение таблицы сопряженности:\n",
            "end  0.0  1.0\n",
            "ha           \n",
            "0.0  147   66\n",
            "1.0   56   11\n",
            "\n",
            "Критерий хи-квадрат: 4.71924\n",
            "\n",
            "Значение p-value: 0.02983\n",
            "\n",
            "Критерий Фишера: 0.01929\n",
            "\n",
            "Условные вероятности:\n",
            "end      0.0      1.0\n",
            "ha                   \n",
            "0.0  0.69014  0.30986\n",
            "1.0  0.83582  0.16418\n",
            "\n"
          ]
        }
      ]
    },
    {
      "cell_type": "markdown",
      "source": [
        "Проанализируем результаты влияния признака ha (использование препаратов, вызывающих галлюцинации) на итог лечения (end).\n",
        "\n",
        "Анализ таблицы сопряженности:\n",
        "\n",
        "*   кто принимал препараты (ha = 1) 11 успешно вылечились, 56 не вылечились;\n",
        "*   кто не принимал препараты (ha = 0) 66 успешно вылечились, 147 не вылечились.\n",
        "\n",
        "Критерий хи-квадрат:\n",
        "\n",
        "*   значение p-value меньше 0.05, есть основания отвергнуть гипотезу о независимости между ha и end. Использование препаратов, вызывающих галлюцинации влияет на результат лечения.\n",
        "\n",
        "Точный критерий Фишера:\n",
        "\n",
        "*   точный критерий Фишера также подтверждает статистическую значимость связи между ha и end.\n",
        "\n",
        "Условные вероятности:\n",
        "\n",
        "*   вероятность успешного выздоровления для тех кто принимал препараты (ha = 1) 16.4%;\n",
        "*   вероятность успешного выздоровления для тех кто не принимал препараты (ha = 0) 30.1%."
      ],
      "metadata": {
        "id": "zQUekQf3Qp2W"
      }
    },
    {
      "cell_type": "markdown",
      "source": [
        "*Проверка гипотезы о независимости признака ha на итог лечения se*"
      ],
      "metadata": {
        "id": "Ur3tQthE6FF3"
      }
    },
    {
      "cell_type": "code",
      "source": [
        "feature_se = 'se'\n",
        "ct_se, chi2_se, p_chi2_se, p_fisher_se, probs_se = perform_tests(addicts, feature_se)\n",
        "\n",
        "view(feature_se, ct_se, chi2_se, p_chi2_se, p_fisher_se, probs_se)"
      ],
      "metadata": {
        "colab": {
          "base_uri": "https://localhost:8080/"
        },
        "id": "hk9iSw4OxHhJ",
        "outputId": "f1e692a0-c6e6-4841-b2f2-2342ba236004"
      },
      "execution_count": null,
      "outputs": [
        {
          "output_type": "stream",
          "name": "stdout",
          "text": [
            "Проверка гипотезы о независимости для признака se:\n",
            "\n",
            "Построение таблицы сопряженности:\n",
            "end  0.0  1.0\n",
            "se           \n",
            "0.0  150   65\n",
            "1.0   53   12\n",
            "\n",
            "Критерий хи-квадрат: 2.90330\n",
            "\n",
            "Значение p-value: 0.08840\n",
            "\n",
            "Критерий Фишера: 0.08058\n",
            "\n",
            "Условные вероятности:\n",
            "end      0.0      1.0\n",
            "se                   \n",
            "0.0  0.69767  0.30233\n",
            "1.0  0.81538  0.18462\n",
            "\n"
          ]
        }
      ]
    },
    {
      "cell_type": "markdown",
      "source": [
        "Проанализируем результаты влияния признака se (использование успокоительных средств) на итог лечения (end).\n",
        "\n",
        "Анализ таблицы сопряженности:\n",
        "\n",
        "*   кто использовал успокоительные (se = 1) 12 успешно вылечились, 53 не вылечились;\n",
        "*   кто не использовал успокоительные (se = 0) 65 успешно вылечились, 150 не вылечились.\n",
        "\n",
        "Критерий хи-квадрат:\n",
        "\n",
        "*   значение p-value больше 0.05, нет оснований отвергнуть гипотезу о независимости между se и end. Использование успокоительных не влияет на результат лечения.\n",
        "\n",
        "Точный критерий Фишера:\n",
        "\n",
        "*   точный критерий Фишера также подтверждает, что нет оснований отвергать нулевую гипотезу о независимости.\n",
        "\n",
        "Условные вероятности:\n",
        "\n",
        "*   вероятность успешного выздоровления для тех кто использовал успокоительные (se = 1) 18.5%;\n",
        "*   вероятность успешного выздоровления для тех кто не использовал успокоительные (se = 0) 30.2%."
      ],
      "metadata": {
        "id": "mtbZbi9sQrAK"
      }
    },
    {
      "cell_type": "markdown",
      "source": [],
      "metadata": {
        "id": "4HAcVPvOh1BM"
      }
    },
    {
      "cell_type": "markdown",
      "source": [
        "---\n",
        "\n",
        "Вычислить коэффициенты неопределенности для зависимой переменной end и\n",
        "для каждой из независимых переменных по-отдельности.\n",
        "\n",
        "---"
      ],
      "metadata": {
        "id": "Ngdjo_B9h5NJ"
      }
    },
    {
      "cell_type": "markdown",
      "source": [
        "Функция расчета энтропии по Шеннону:\n",
        "\n",
        "![image.png](data:image/png;base64,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)"
      ],
      "metadata": {
        "id": "iIhONQ-tvmGs"
      }
    },
    {
      "cell_type": "code",
      "source": [
        "# Функция для нахождения энтропии\n",
        "def entropy(column):\n",
        "    probs = column.value_counts(normalize=True)\n",
        "    return -sum(probs * np.log2(probs))"
      ],
      "metadata": {
        "id": "TpSq2RYe6eco"
      },
      "execution_count": null,
      "outputs": []
    },
    {
      "cell_type": "markdown",
      "source": [
        "Функция расчета взаимной информации:\n",
        "\n",
        "![image.png](data:image/png;base64,iVBORw0KGgoAAAANSUhEUgAAAaAAAAAUCAYAAADLGumOAAAQXUlEQVR4Ae2cA7AtzRHH/7Ft26mYFdu2bdv4YhsV20nFtm07Fbti6/xupm/169uDPXrvVJ2uOrW7g56e2Z5p7pG2sF2B7QpsV2C7AtsV2KAVOPkBSOupD0CaRkk6iaRDjDautNvE+R9R0rEr81m0eBV4N3GNbR23PGYrMe26ie/8eJION22aK299itEz7mCS7JdRdWlJt8wqShl9a9Cq831sfLv6utr9oyRdsVa5pvLa/GweWf1JJT1O0sETGq1fUrWn6LaSbr+ndPUFIzRm8z6MpCdXBNC8OP1s3+gfknsbw65Jkz1Fj5F0hT2l6y3I1hIKbB5ZPQrjMnjsdpLgs3WDzW3quIeV9FTHY4bHriP4ni7pIiMNV9Ame5c2TG0Ox5X0JEnsrwi1Pr5da0zfzu5bOD2u80p6gXWqXV8o6UuS/jsTMj+V9AFJF3KNQfKpwuyueOf2sZJ+W/r+R9K7SgMO2J+X8q9LekvsGJ4h+t2SvlP6/E3Ss0KbJ5a6f0n6iKQjSTpUofdcoe06Ht8k6duFJq6sG9r9Ncs96wmtlN/MEXR0Sd+QdHxXZrc3lPStgpP+X5N0glL5+VJu74gDhnV7jaSrGII1XO8n6ZOFlt+U+bFZ0baZ669K3Wdmc3x2oOcVs3d8/VDG46lmh/xnJcFDzBueunpp95BS9veC/9pJfyt6Q4VPqWet4E97Z/DYc61juSJs7L3BY0cuPPZBSWcNbdfx+HpHL3uD9YXvWRvu/+147BaOIHiMfZfxGOsfeexEpe8nyvx/VvCfsqzbayVd2eFf9e19JBkt8AJzvbgk6Iw8Ft/hK2drdr1CIMLo/ZK+X+b1l9k7fUIgHh7lnf9D0nskHVrS4cv4pw9tV/n4PElfLbT8sMyTPXXRcv/XUvchSfdyhCB0vijpdK7Mbi/jcDLHH0g6S6lkr1Bme7h3ht5f0sdKH/ohM45lA81ovLAk9hR135N0sVIHrQ917dLbO5WO2UHGoGdLe/2/kJf86yK8DunavUiS3xSuqnp77kLH85MWCEIOEKS9h0vMXhIvZX8A2jwLbhvYaIBxKI8HMPUPl3Q3a1i5vqP052A2uJUk1iVaTZi5MOyi7jwbZ+QKYzO/2ySNv1Lo8ZoQzXh/bPAW3LHghR8NWIOPzxQSXAw9aAkg63v2Mgb8GQH+g8Y41iVnGjFCaH+AKV7RBY5w4R3EAxga4bG7dIh9a+l/GtcORYl1yXjsR3PwGO8urqUbrnnLvmZ+mYXPgYuQjDx2gQqPcRiC6ynJiNS9WdIxQx2KJErmOoHDGjrPHwbFtfZPSW8L5TyyZ/AEtYBzA7zesLicJHggs5pquFhvhPnvi2Lm2yG0PxzGoB4j4SczPj2hbxzv0bTQ1o8QKs4n6aOhLHu0g9jcYfed02xngmh6TNDTwiH79qKZZONjKXB4rBu+XOiN46KB8cKxaDwgrLEQ0GJbgJZPfzRygE3y4uRgKNU7G+g69rCGK5Yv9J02jIXmTfnLQzmPCIeeFn2MstF4n/ACGtY7E6UjQb9TNCKAaIgF8GdJR3GITlY2pOc7V73T5zy+YE33HLZorhGuVdb6JqHCFMIej12j9H986Y8G+7IOj7Wsz0DGziP8z0E3Dzyy0HeG0BmrFMvv1aGcR1ywV0rKUc7wyLD3WB8DrAa8M77M6hDCHJzrjAeheGKlcWh7QHCwr+7tC8seQTFoHu4z7xLnOP15v8CZy36cInxK1x3lBlwIaAPWF8uzZkU9MLE8re+O5vyHiuaAxoALpAdnKhOEATgIEUDzwkEFFxo/QGAZDbi1yE9zh3XptvILhyUvAhdmBNyH1EXLiAMYLaEHMAab5RfF+nxpR/vEosJNsi7APfLLZDAsaOYd44UchpjnvUMRlDAyOHA9MCfcuaMwKoDYEIxhFhyCE7fiiRsDERd4dKN+FVUISOjMrLVnlrq4Plcd9AjgaoLH8F7gXkRp8B6MOJ+7F3dvLG8932gBAYQLFNoiEI9jTWJcCvd3i8dwvdHP3HPsTd55K3GFA3uRsyzS3npm7f9YFK7Y7kGF9qgAIVi+GRtXnnH748ZG+LCvaopWpftuMUKbdfTeDPizpQBfsGKx7iCFIBBmC/25IOl2qUhu3lusKNOokia6azm4Wi49zHboweXBQYwZfM4MmSu7bmEmV5TeolWP/NLOodAO2xskOHFD4c+NwNpwcIyAxT6IjXFYtADGxJfL3FYNCBGsZeI5cS3NMooHOe4UTPcR+pgL7x/hSwxiCowKINxZjMEhx9qiOMXNHcfl4ELw9iCuSe25h4d6O2yxciIeLCMOlQgctM+IhZVnE8Ts3cwK8N1woU7lsRvP4seX9UgG7zkccTlh5cR5owTw7qJLEh4j9kD7DDhz6IcbC/xYGyjOLUDIYYGvAzjjoA83XJwzNBALiwoCFtHrBolD2QI/Z7q3/Ae779OMeC24MApYo16Mh3OcGBtehj1AlgvIkKYeWIQ/DWxM64OGBB581jVgcTm8zlFrUMotyI1vFo2uBxweaA815qM/GUEINf8joJn9omspGx/rkPkaPvBw/+lSHoOd4OCgI8A6AhYPA18PcFVBS0ub6+EYrb9UGYsgJPO1eXNFA8V9FgEmpe0I4H5AM59nPqMCCDosoMo7sYSHFn0cwHgKWjzG4Wj8YNeMvyiLrqVsbNPaPS7uSQpifXB9R8ClFF01sY0926HHodSD45QxfeC51wfBOY8LzmI2uLiZb+QxXKgR4DHatYDEDAQba0Rmbw9og4ur9c57OEbr71nWF2+PnzNKEu/6VQkiEhda563vYjFD3IqLAh4XaGIdM3d7xM/6oYCmvIAmS4ZF9DuiJTAIFlIPEChIaXzVP+64i3q4qDdhNnpYmxW3zkA8Gmhm/mKKsm5Z6i4a9J0HFgCXEJsJ6wdcPUuAACDtWoKTTDXcWq1fzwqAdPPNRw0UlyS+eVxVEXCronGOALEuTHrmg3I0BaYIIIL0jEF2zwiQPUT7dfIYmuZ3kwMQ/zu0ZDE1FJYscB/nCI+RvENiD7h6sQ5iL7TzSQseJ9pw5C2C4wjDWN5TlEiiyGg6alFgY4YsdMBjxIlbYO79O7QauTqSGlDCawKIMzLOLXs+o8NZuyUhAAUnWjm4r1iLWycdEQCPSMpjEUkMuMzYH+CKSQ6xfe+Zdw0eeG0kjsT6Ya3jLdoHqCCtNzscCMIxSE8AYVZxUOKaMV9ltjH2GbjzQE57lhRR64YPG1phiHUAGTOMl2UgcXhCOxs2AppNTwDBLDAWTGuaINZbC+xwqLkUcDNlGyOWjXz7gHUKz0SwxAmC2xFQJDIei+04eG5e3EG/q7gxYx//bC4bX1a7xx3Ke+JQGwFz4SDs1wEWY8wyQilD2Ge0E2MkM6oFuNvgMfjFAtw9TZqx4PnaYUqiUOSnmgCKLtpIK1ZAxmNYqtCQxRsIIfQEEBYDyScjhyY0sR9wHdUEEEI8zjl77nl82J8IOt5JhJowph2xnJ4A4hwnroowRXlg/UaslkiHf8YbAB5ifCPA+qGs3zQ2NoIyLZBO+HxbWjGaDC4MNgsAY0EYB+0iQPzkfRMQ8I0ApnWNUUDFi4SukV8M7EZS+JaCee6R6MUK5BuYDPDXtqw6tGsSDkgVBpgPGjCaUSuAD73QY98Mle5Lv5jgzRjYguKZdks6fo8n0Eq9xUMcgzmR8j0KUwSQuRBHcRNj6PEYcbsR/qINB3YLiGsy/5jlRh9iHV+odCajFVd3DeCxlzgeox3fRuHCzpQmw2Nxsylp1fO44DjUmXfmcuIDU+oyGuCxngsO99OU1GoEXpbubWuyrCtCi3nhhouAq5iEn+xsY8/1FAcStFBkDVBQ4ONWUpe1rV3N0Bh1x0I7bvU9GYokBTDxWgozKdg+3c4ThBTEPxm1GaQ4OLMP9y4/Yx7M55alYr7KB/jBOvdkXWUB2diNhRj5xX7x2fLq44HPM3O39OnYDyFYS0JAiBAg5ZsTDwgscLbcBghg4i+rdg9drdCSfd+Fvx63ZLZRMPlrSQhYFBzccSOZy8s+bvZrUrsfFUB8S8aaPriGKCnHBZLFt2LTEf7K1ijisQ8k+abMg9FeS/bBRZq5QcEBLuKqMf5h8YfWt0PwJa76KTw2jwDCe8K7sQxFP3c+xrYUfV/OPRp+KwkB9zR4W3OMOO9RMnBj+bKfLeEoWkpYqggLS5+O4/K9XC0JAUUQRYNEEA+kxrMO2RnF2cuH7ZYp6Pv5e8599vsoHK2MuetNw4RFC7NgL4KGRYiAeRfLSY8mzsMk0My91ormZXV8z4Nf0/s0LXiFIIpAGiWHDRlk4EagjKYWs1lZ7FUDhxBaFq4bftyjJaE5cm+0Y26iiUZgE8ePZrEw2VTMmZ/3b5NBZF9H867IVsriPPjZR77XivSMPqNMMD/7dwuC1mS8ARx2zAnaSZulXYwn4GKIGjYWHf1IDaUva2fZOWhWhpM6cGb/oFBI2L30BBDCjlglmwe8tfe0i9DdPKd8i+WKVnJrmjyuH9xszB33JvuDr/qNxwjE432IgHCJPMb3GcZHzNu7jmlvOHl/eB6yfwBAEZrKY1MEEO5Az2MIGxOyaPGcV9BuX+7HfWBurGjFYVGxbiQg0J91GD0r4CesrlUBCh1zxv0GbVgnCF7cZris2WeUE1unnT9LoQklLcah8WqhCMI79PVuPfjAcHJ2gxNDwgB87Ef6Z/Cw0ge89g8VNbe/748Fhusz5hnstDGNzXeweyyjjOlaGlwLH3j54K31QZv1b41h9NmVYO1IJpO1X8bV6Iy4auW0I76DGyCmvLbmavhabRDUaGvrgBYdRmtGBzTah8pW32pPG6tvjWm4uPYEkG9ruH1Z6x6XV/ZPIa0+i9bVaKyVM16Nx1q0GD6uNUDTJjloCkwRQB5viw6j1be3e2jMkn+ot34t3IbHrri/R+Ki1n6Rq9EXcVh5RjeCCqsvemIijvhsOGO5PbfS+Ht9DYe/orwQh5oL0Dz8X8LMhcR1IsGg5/92zbu3pJKOfJ/RRbSmBliUmQtr3uFhPrTh0cDqvOMs2g9NK7MKF8Xr+08RQL5f7x4eIzC+KcB3GSRzLAuIF6BpY2VMARIWevHUKfh6beGxmkuq1zfWE5cZSZyJ/db9TMYj/8+4LOAD3V7S05SxsNrw8MSs2WEcmG0E7pC2iwLfEmT/HDAvXkw6UgFJVdwUIJsIoc5aLApoIxzq/s9OF8W5yv64PmL8YZnjrUIAbSKP4XNfJo+Rvrsng2mZL26JuEjiiXHUqeixInHV4ZI60AFvCq759CPPOYjH1Rz/b3MONLtdCA/U4t67jXo3xGxGP25r4cIfm/oBW50adQT18aNuGsAsHMaZWT1lLiRf+D/unNJ3f7RFG8IUzzLllkEPAmjZgDUx8jH0ssddFB88xmG8KI8Rk2glwCxK57L7w2Nk0C3CYyTELCrElj2vFj7mypyXcbZm/6rdGrtVR3ybGPFUyznFuSwJmyKfs/BApGl0Kpi6UzKKMrybOH8yIEfTN7M5t8rmNvMbSDdxjW06ZKhuecxWY/y6ie8cqwXL7UCCZYZaDqR5bWnZrsB2BbYrsF2BTVyB/wF+J3hrhenb3AAAAABJRU5ErkJggg==)"
      ],
      "metadata": {
        "id": "OHuBWncrwwyN"
      }
    },
    {
      "cell_type": "code",
      "source": [
        "# Функция для нахождения взаимной информации\n",
        "def mutual_information(x, y):\n",
        "    joint_prob = pd.crosstab(x, y, normalize='all')\n",
        "    x_prob = x.value_counts(normalize=True)\n",
        "    y_prob = y.value_counts(normalize=True)\n",
        "    mi = 0\n",
        "    for xi in x_prob.index:\n",
        "        for yi in y_prob.index:\n",
        "            if joint_prob.at[xi, yi] > 0:\n",
        "                mi += joint_prob.at[xi, yi] * np.log2(joint_prob.at[xi, yi] / (x_prob[xi] * y_prob[yi]))\n",
        "    return mi"
      ],
      "metadata": {
        "id": "n0AuVpsSwuAg"
      },
      "execution_count": null,
      "outputs": []
    },
    {
      "cell_type": "markdown",
      "source": [
        "Функция расчета коэффициентов неопределенности для зависимой переменной и для независимых признаках по-отдельности\n",
        "\n",
        "![image.png](data:image/png;base64,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)\n",
        "![image.png](data:image/png;base64,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)"
      ],
      "metadata": {
        "id": "FgMpoHJTxSOo"
      }
    },
    {
      "cell_type": "code",
      "source": [
        "# Функция расчета коэффициентов неопределенности\n",
        "def uncertainty_coefficients(x, y):\n",
        "    mi = mutual_information(x, y)\n",
        "    h_x = entropy(x)\n",
        "    h_y = entropy(y)\n",
        "    h_xy = entropy(pd.crosstab(x, y).stack())\n",
        "    u_xy = mi / h_x if h_x else 0\n",
        "    u_yx = mi / h_y if h_y else 0\n",
        "    return u_xy, u_yx"
      ],
      "metadata": {
        "id": "Np-FKwKyBIcz"
      },
      "execution_count": null,
      "outputs": []
    },
    {
      "cell_type": "code",
      "source": [
        "# Применение функций для каждого признака\n",
        "for col in ['intpla', 'ha', 'se']:\n",
        "    u_xy, u_yx = uncertainty_coefficients(addicts[col], addicts['end'])\n",
        "    print(f\"Коэффициенты неопределенности для {col}: U(X|Y)={u_xy:.5f}, U(Y|X)={u_yx:.5f}\")"
      ],
      "metadata": {
        "colab": {
          "base_uri": "https://localhost:8080/"
        },
        "id": "gmtGp7rQBING",
        "outputId": "d6904e5b-3d98-43c3-a0bf-742e9062bea1"
      },
      "execution_count": null,
      "outputs": [
        {
          "output_type": "stream",
          "name": "stdout",
          "text": [
            "Коэффициенты неопределенности для intpla: U(X|Y)=0.00718, U(Y|X)=0.00846\n",
            "Коэффициенты неопределенности для ha: U(X|Y)=0.01898, U(Y|X)=0.01776\n",
            "Коэффициенты неопределенности для se: U(X|Y)=0.01213, U(Y|X)=0.01117\n"
          ]
        }
      ]
    },
    {
      "cell_type": "markdown",
      "source": [
        "Для признака intpla (место лечения):\n",
        "* U(X|Y) низкое значение, что указывает на слабую зависимость между местом лечения и итогом лечения;\n",
        "* U(Y|X) низкое значение, что указывает на слабую зависимость между итогом лечения и местом лечения.\n",
        "\n",
        "Для признака ha (использование препаратов, вызывающих галлюцинации):\n",
        "* U(X|Y) низкое значение, что указывает на слабую зависимость между использованием препаратов и итогом лечения;\n",
        "* U(Y|X) низкое значение, что указывает на слабую зависимость между итогом лечения и использованием препаратов.\n",
        "\n",
        "Для признака se (использование успокоительных средств):\n",
        "* U(X|Y) низкое значение, что указывает на слабую зависимость между использованием успокоительных и итогом лечения;\n",
        "* U(Y|X) низкое значение, что указывает на слабую зависимость между итогом лечения и использованием успокоительных.\n",
        "\n",
        "Все три коэффициента неопределенности указывают на относительно слабую связь между независимыми признаками и исходом лечения. Это может означать, что эти признаки не основные предикторы исхода лечения."
      ],
      "metadata": {
        "id": "65g59snM4AVE"
      }
    },
    {
      "cell_type": "markdown",
      "source": [
        "---\n",
        "\n",
        "Вычислить коэффициенты неопределенности для зависимой переменной end и\n",
        "для всех трех независимых переменных одновременно.\n",
        "\n",
        "---"
      ],
      "metadata": {
        "id": "_7cUmGO98ReU"
      }
    },
    {
      "cell_type": "code",
      "source": [
        "# Создание новой переменной, объединяющей значения intpla, ha, se\n",
        "combined_features = addicts['intpla'].astype(str) + \"_\" + addicts['ha'].astype(str) + \"_\" + addicts['se'].astype(str)\n",
        "\n",
        "# Вычисление коэффициентов неопределенности\n",
        "u_xy_comb, u_yx_comb = uncertainty_coefficients(combined_features, addicts['end'])\n",
        "\n",
        "# Вывод результатов\n",
        "print(f\"Коэффициенты неопределенности для комбинированных признаков: U(X|Y)={u_xy_comb:.5f}, U(Y|X)={u_yx_comb:.5f}\")"
      ],
      "metadata": {
        "colab": {
          "base_uri": "https://localhost:8080/"
        },
        "id": "6CDsD0_O-YFE",
        "outputId": "d5c938bf-e7e5-47db-ac2e-10d4d20ffc89"
      },
      "execution_count": null,
      "outputs": [
        {
          "output_type": "stream",
          "name": "stdout",
          "text": [
            "Коэффициенты неопределенности для комбинированных признаков: U(X|Y)=0.01254, U(Y|X)=0.03444\n"
          ]
        }
      ]
    },
    {
      "cell_type": "markdown",
      "source": [
        "Для комбинированных признаков intpla, ha, se:\n",
        "* U(X|Y) низкое значение, что указывает на слабую зависимость между комбинацией признаков и итогом лечения;\n",
        "* U(Y|X) низкое значение, что указывает на слабую зависимость между итогом лечения и комбинацией признаков.\n",
        "\n",
        "Низкие значения коэффициентов неопределенности указывают на сложность предсказания исходов лечения на основе этих трех переменных. Эти признаки не основные предикторы исхода лечения."
      ],
      "metadata": {
        "id": "4r20_74PEef2"
      }
    },
    {
      "cell_type": "markdown",
      "source": [
        "---\n",
        "\n",
        "* Данные [addicts.xlsx](https://github.com/igor531205/statistic/raw/main/data/addicts.xlsx), вариант 10. Метрическая переменная (rubsex), категориальная с двумя градациями (st), категориальная с четырьмя градациями (educat).\n",
        "\n",
        "---"
      ],
      "metadata": {
        "id": "TX7wNJqPOcJ8"
      }
    },
    {
      "cell_type": "code",
      "source": [
        "# ссылка на данные\n",
        "link = 'https://github.com/igor531205/statistic/raw/main/data/addicts.xlsx'\n",
        "\n",
        "addicts_sheet_name = 'addicts'\n",
        "\n",
        "# Считываем данные\n",
        "addicts=pd.read_excel(link, sheet_name=addicts_sheet_name, usecols=['rubsex', 'st', 'educat'], index_col=False)\n",
        "\n",
        "# Отключаем ограничение в отображении столбцов\n",
        "pd.options.display.max_columns = None\n",
        "\n",
        "# Выводим 5 первых строк\n",
        "addicts.head()"
      ],
      "metadata": {
        "colab": {
          "base_uri": "https://localhost:8080/",
          "height": 206
        },
        "id": "hgcvIcOBOV5J",
        "outputId": "7e69bfba-cbeb-4fb9-a462-fb6f769a121f"
      },
      "execution_count": null,
      "outputs": [
        {
          "output_type": "execute_result",
          "data": {
            "text/plain": [
              "   educat   st  rubsex\n",
              "0       1  0.0       4\n",
              "1       4  0.0       5\n",
              "2       2  0.0       1\n",
              "3       2  0.0       4\n",
              "4       2  0.0       4"
            ],
            "text/html": [
              "\n",
              "  <div id=\"df-d0bd15d8-f725-48d1-b1bb-be393f467c23\" class=\"colab-df-container\">\n",
              "    <div>\n",
              "<style scoped>\n",
              "    .dataframe tbody tr th:only-of-type {\n",
              "        vertical-align: middle;\n",
              "    }\n",
              "\n",
              "    .dataframe tbody tr th {\n",
              "        vertical-align: top;\n",
              "    }\n",
              "\n",
              "    .dataframe thead th {\n",
              "        text-align: right;\n",
              "    }\n",
              "</style>\n",
              "<table border=\"1\" class=\"dataframe\">\n",
              "  <thead>\n",
              "    <tr style=\"text-align: right;\">\n",
              "      <th></th>\n",
              "      <th>educat</th>\n",
              "      <th>st</th>\n",
              "      <th>rubsex</th>\n",
              "    </tr>\n",
              "  </thead>\n",
              "  <tbody>\n",
              "    <tr>\n",
              "      <th>0</th>\n",
              "      <td>1</td>\n",
              "      <td>0.0</td>\n",
              "      <td>4</td>\n",
              "    </tr>\n",
              "    <tr>\n",
              "      <th>1</th>\n",
              "      <td>4</td>\n",
              "      <td>0.0</td>\n",
              "      <td>5</td>\n",
              "    </tr>\n",
              "    <tr>\n",
              "      <th>2</th>\n",
              "      <td>2</td>\n",
              "      <td>0.0</td>\n",
              "      <td>1</td>\n",
              "    </tr>\n",
              "    <tr>\n",
              "      <th>3</th>\n",
              "      <td>2</td>\n",
              "      <td>0.0</td>\n",
              "      <td>4</td>\n",
              "    </tr>\n",
              "    <tr>\n",
              "      <th>4</th>\n",
              "      <td>2</td>\n",
              "      <td>0.0</td>\n",
              "      <td>4</td>\n",
              "    </tr>\n",
              "  </tbody>\n",
              "</table>\n",
              "</div>\n",
              "    <div class=\"colab-df-buttons\">\n",
              "\n",
              "  <div class=\"colab-df-container\">\n",
              "    <button class=\"colab-df-convert\" onclick=\"convertToInteractive('df-d0bd15d8-f725-48d1-b1bb-be393f467c23')\"\n",
              "            title=\"Convert this dataframe to an interactive table.\"\n",
              "            style=\"display:none;\">\n",
              "\n",
              "  <svg xmlns=\"http://www.w3.org/2000/svg\" height=\"24px\" viewBox=\"0 -960 960 960\">\n",
              "    <path d=\"M120-120v-720h720v720H120Zm60-500h600v-160H180v160Zm220 220h160v-160H400v160Zm0 220h160v-160H400v160ZM180-400h160v-160H180v160Zm440 0h160v-160H620v160ZM180-180h160v-160H180v160Zm440 0h160v-160H620v160Z\"/>\n",
              "  </svg>\n",
              "    </button>\n",
              "\n",
              "  <style>\n",
              "    .colab-df-container {\n",
              "      display:flex;\n",
              "      gap: 12px;\n",
              "    }\n",
              "\n",
              "    .colab-df-convert {\n",
              "      background-color: #E8F0FE;\n",
              "      border: none;\n",
              "      border-radius: 50%;\n",
              "      cursor: pointer;\n",
              "      display: none;\n",
              "      fill: #1967D2;\n",
              "      height: 32px;\n",
              "      padding: 0 0 0 0;\n",
              "      width: 32px;\n",
              "    }\n",
              "\n",
              "    .colab-df-convert:hover {\n",
              "      background-color: #E2EBFA;\n",
              "      box-shadow: 0px 1px 2px rgba(60, 64, 67, 0.3), 0px 1px 3px 1px rgba(60, 64, 67, 0.15);\n",
              "      fill: #174EA6;\n",
              "    }\n",
              "\n",
              "    .colab-df-buttons div {\n",
              "      margin-bottom: 4px;\n",
              "    }\n",
              "\n",
              "    [theme=dark] .colab-df-convert {\n",
              "      background-color: #3B4455;\n",
              "      fill: #D2E3FC;\n",
              "    }\n",
              "\n",
              "    [theme=dark] .colab-df-convert:hover {\n",
              "      background-color: #434B5C;\n",
              "      box-shadow: 0px 1px 3px 1px rgba(0, 0, 0, 0.15);\n",
              "      filter: drop-shadow(0px 1px 2px rgba(0, 0, 0, 0.3));\n",
              "      fill: #FFFFFF;\n",
              "    }\n",
              "  </style>\n",
              "\n",
              "    <script>\n",
              "      const buttonEl =\n",
              "        document.querySelector('#df-d0bd15d8-f725-48d1-b1bb-be393f467c23 button.colab-df-convert');\n",
              "      buttonEl.style.display =\n",
              "        google.colab.kernel.accessAllowed ? 'block' : 'none';\n",
              "\n",
              "      async function convertToInteractive(key) {\n",
              "        const element = document.querySelector('#df-d0bd15d8-f725-48d1-b1bb-be393f467c23');\n",
              "        const dataTable =\n",
              "          await google.colab.kernel.invokeFunction('convertToInteractive',\n",
              "                                                    [key], {});\n",
              "        if (!dataTable) return;\n",
              "\n",
              "        const docLinkHtml = 'Like what you see? Visit the ' +\n",
              "          '<a target=\"_blank\" href=https://colab.research.google.com/notebooks/data_table.ipynb>data table notebook</a>'\n",
              "          + ' to learn more about interactive tables.';\n",
              "        element.innerHTML = '';\n",
              "        dataTable['output_type'] = 'display_data';\n",
              "        await google.colab.output.renderOutput(dataTable, element);\n",
              "        const docLink = document.createElement('div');\n",
              "        docLink.innerHTML = docLinkHtml;\n",
              "        element.appendChild(docLink);\n",
              "      }\n",
              "    </script>\n",
              "  </div>\n",
              "\n",
              "\n",
              "<div id=\"df-672f67be-43c3-465e-b13d-81a321ad24e6\">\n",
              "  <button class=\"colab-df-quickchart\" onclick=\"quickchart('df-672f67be-43c3-465e-b13d-81a321ad24e6')\"\n",
              "            title=\"Suggest charts\"\n",
              "            style=\"display:none;\">\n",
              "\n",
              "<svg xmlns=\"http://www.w3.org/2000/svg\" height=\"24px\"viewBox=\"0 0 24 24\"\n",
              "     width=\"24px\">\n",
              "    <g>\n",
              "        <path d=\"M19 3H5c-1.1 0-2 .9-2 2v14c0 1.1.9 2 2 2h14c1.1 0 2-.9 2-2V5c0-1.1-.9-2-2-2zM9 17H7v-7h2v7zm4 0h-2V7h2v10zm4 0h-2v-4h2v4z\"/>\n",
              "    </g>\n",
              "</svg>\n",
              "  </button>\n",
              "\n",
              "<style>\n",
              "  .colab-df-quickchart {\n",
              "      --bg-color: #E8F0FE;\n",
              "      --fill-color: #1967D2;\n",
              "      --hover-bg-color: #E2EBFA;\n",
              "      --hover-fill-color: #174EA6;\n",
              "      --disabled-fill-color: #AAA;\n",
              "      --disabled-bg-color: #DDD;\n",
              "  }\n",
              "\n",
              "  [theme=dark] .colab-df-quickchart {\n",
              "      --bg-color: #3B4455;\n",
              "      --fill-color: #D2E3FC;\n",
              "      --hover-bg-color: #434B5C;\n",
              "      --hover-fill-color: #FFFFFF;\n",
              "      --disabled-bg-color: #3B4455;\n",
              "      --disabled-fill-color: #666;\n",
              "  }\n",
              "\n",
              "  .colab-df-quickchart {\n",
              "    background-color: var(--bg-color);\n",
              "    border: none;\n",
              "    border-radius: 50%;\n",
              "    cursor: pointer;\n",
              "    display: none;\n",
              "    fill: var(--fill-color);\n",
              "    height: 32px;\n",
              "    padding: 0;\n",
              "    width: 32px;\n",
              "  }\n",
              "\n",
              "  .colab-df-quickchart:hover {\n",
              "    background-color: var(--hover-bg-color);\n",
              "    box-shadow: 0 1px 2px rgba(60, 64, 67, 0.3), 0 1px 3px 1px rgba(60, 64, 67, 0.15);\n",
              "    fill: var(--button-hover-fill-color);\n",
              "  }\n",
              "\n",
              "  .colab-df-quickchart-complete:disabled,\n",
              "  .colab-df-quickchart-complete:disabled:hover {\n",
              "    background-color: var(--disabled-bg-color);\n",
              "    fill: var(--disabled-fill-color);\n",
              "    box-shadow: none;\n",
              "  }\n",
              "\n",
              "  .colab-df-spinner {\n",
              "    border: 2px solid var(--fill-color);\n",
              "    border-color: transparent;\n",
              "    border-bottom-color: var(--fill-color);\n",
              "    animation:\n",
              "      spin 1s steps(1) infinite;\n",
              "  }\n",
              "\n",
              "  @keyframes spin {\n",
              "    0% {\n",
              "      border-color: transparent;\n",
              "      border-bottom-color: var(--fill-color);\n",
              "      border-left-color: var(--fill-color);\n",
              "    }\n",
              "    20% {\n",
              "      border-color: transparent;\n",
              "      border-left-color: var(--fill-color);\n",
              "      border-top-color: var(--fill-color);\n",
              "    }\n",
              "    30% {\n",
              "      border-color: transparent;\n",
              "      border-left-color: var(--fill-color);\n",
              "      border-top-color: var(--fill-color);\n",
              "      border-right-color: var(--fill-color);\n",
              "    }\n",
              "    40% {\n",
              "      border-color: transparent;\n",
              "      border-right-color: var(--fill-color);\n",
              "      border-top-color: var(--fill-color);\n",
              "    }\n",
              "    60% {\n",
              "      border-color: transparent;\n",
              "      border-right-color: var(--fill-color);\n",
              "    }\n",
              "    80% {\n",
              "      border-color: transparent;\n",
              "      border-right-color: var(--fill-color);\n",
              "      border-bottom-color: var(--fill-color);\n",
              "    }\n",
              "    90% {\n",
              "      border-color: transparent;\n",
              "      border-bottom-color: var(--fill-color);\n",
              "    }\n",
              "  }\n",
              "</style>\n",
              "\n",
              "  <script>\n",
              "    async function quickchart(key) {\n",
              "      const quickchartButtonEl =\n",
              "        document.querySelector('#' + key + ' button');\n",
              "      quickchartButtonEl.disabled = true;  // To prevent multiple clicks.\n",
              "      quickchartButtonEl.classList.add('colab-df-spinner');\n",
              "      try {\n",
              "        const charts = await google.colab.kernel.invokeFunction(\n",
              "            'suggestCharts', [key], {});\n",
              "      } catch (error) {\n",
              "        console.error('Error during call to suggestCharts:', error);\n",
              "      }\n",
              "      quickchartButtonEl.classList.remove('colab-df-spinner');\n",
              "      quickchartButtonEl.classList.add('colab-df-quickchart-complete');\n",
              "    }\n",
              "    (() => {\n",
              "      let quickchartButtonEl =\n",
              "        document.querySelector('#df-672f67be-43c3-465e-b13d-81a321ad24e6 button');\n",
              "      quickchartButtonEl.style.display =\n",
              "        google.colab.kernel.accessAllowed ? 'block' : 'none';\n",
              "    })();\n",
              "  </script>\n",
              "</div>\n",
              "    </div>\n",
              "  </div>\n"
            ],
            "application/vnd.google.colaboratory.intrinsic+json": {
              "type": "dataframe",
              "variable_name": "addicts",
              "summary": "{\n  \"name\": \"addicts\",\n  \"rows\": 280,\n  \"fields\": [\n    {\n      \"column\": \"educat\",\n      \"properties\": {\n        \"dtype\": \"number\",\n        \"std\": 0,\n        \"min\": 1,\n        \"max\": 4,\n        \"num_unique_values\": 4,\n        \"samples\": [\n          4,\n          3,\n          1\n        ],\n        \"semantic_type\": \"\",\n        \"description\": \"\"\n      }\n    },\n    {\n      \"column\": \"st\",\n      \"properties\": {\n        \"dtype\": \"number\",\n        \"std\": 0.32771626844826823,\n        \"min\": 0.0,\n        \"max\": 1.0,\n        \"num_unique_values\": 2,\n        \"samples\": [\n          1.0,\n          0.0\n        ],\n        \"semantic_type\": \"\",\n        \"description\": \"\"\n      }\n    },\n    {\n      \"column\": \"rubsex\",\n      \"properties\": {\n        \"dtype\": \"number\",\n        \"std\": 2,\n        \"min\": 0,\n        \"max\": 13,\n        \"num_unique_values\": 14,\n        \"samples\": [\n          6,\n          12\n        ],\n        \"semantic_type\": \"\",\n        \"description\": \"\"\n      }\n    }\n  ]\n}"
            }
          },
          "metadata": {},
          "execution_count": 15
        }
      ]
    },
    {
      "cell_type": "markdown",
      "source": [
        "*Проверим пропущенные значения*"
      ],
      "metadata": {
        "id": "3AJEFsf4PQ3h"
      }
    },
    {
      "cell_type": "code",
      "source": [
        "addicts.isna().sum()"
      ],
      "metadata": {
        "colab": {
          "base_uri": "https://localhost:8080/"
        },
        "id": "k6Op3JomOV2H",
        "outputId": "617f8b7c-509c-4174-8c54-784b445a34ca"
      },
      "execution_count": null,
      "outputs": [
        {
          "output_type": "execute_result",
          "data": {
            "text/plain": [
              "educat    0\n",
              "st        1\n",
              "rubsex    0\n",
              "dtype: int64"
            ]
          },
          "metadata": {},
          "execution_count": 16
        }
      ]
    },
    {
      "cell_type": "markdown",
      "source": [
        "*Заполним пропущенные значения медианными значениями*"
      ],
      "metadata": {
        "id": "q2FM18BAPcEE"
      }
    },
    {
      "cell_type": "code",
      "source": [
        "# Заполнение пропущенных значений для каждого столбца\n",
        "for col in addicts.columns:\n",
        "    mode_value = addicts[col].mode().iloc[0]\n",
        "    addicts[col].fillna(mode_value, inplace=True)\n",
        "\n",
        "# Повторная проверка\n",
        "addicts.isna().sum()"
      ],
      "metadata": {
        "colab": {
          "base_uri": "https://localhost:8080/"
        },
        "id": "u7t4eNXDOVy_",
        "outputId": "129ad464-f5cc-49b2-fe6e-652114445fba"
      },
      "execution_count": null,
      "outputs": [
        {
          "output_type": "execute_result",
          "data": {
            "text/plain": [
              "educat    0\n",
              "st        0\n",
              "rubsex    0\n",
              "dtype: int64"
            ]
          },
          "metadata": {},
          "execution_count": 17
        }
      ]
    },
    {
      "cell_type": "markdown",
      "source": [
        "---\n",
        "\n",
        "* Проверить гипотезу о равенстве дисперсий двух выборок, привести несмещенные оценки дисперсии и значимость критерия Фишера равенства дисперсий с выводом о том, считаем дисперсии разными или говорим о том, что различие между дисперсиями можно объяснить случайностью, и, согласно полученному выводу, применить соответствующий критерий Стьюдента для проверки равенства средних. Группирующая переменная st.\n",
        "\n",
        "---"
      ],
      "metadata": {
        "id": "s3Wdds1cPlMj"
      }
    },
    {
      "cell_type": "markdown",
      "source": [
        "*Группировка данных по переменной st и расчёт дисперсий для каждой группы*"
      ],
      "metadata": {
        "id": "__Pzup7AVmU8"
      }
    },
    {
      "cell_type": "code",
      "source": [
        "unique_st_values = addicts['st'].unique()  # Получение уникальных значений для признака st\n",
        "grouped_st = {}  # Словарь для хранения данных по группам\n",
        "grouped_variance_st = {} # Словарь для хранения дисперсий для каждой группы\n",
        "\n",
        "for value in unique_st_values:\n",
        "    grouped_st[value] = addicts[addicts['st'] == value]['rubsex']\n",
        "    grouped_variance_st[value] = grouped_st[value].var(ddof=1)\n",
        "    print(f'Дисперсия для группы {value} = {grouped_variance_st[value]:.5f}')"
      ],
      "metadata": {
        "colab": {
          "base_uri": "https://localhost:8080/"
        },
        "id": "WfBwMeNnToIS",
        "outputId": "cc178e9f-1b14-45f7-e7bc-f2be940b2bee"
      },
      "execution_count": null,
      "outputs": [
        {
          "output_type": "stream",
          "name": "stdout",
          "text": [
            "Дисперсия для группы 0.0 = 4.65235\n",
            "Дисперсия для группы 1.0 = 5.57932\n"
          ]
        }
      ]
    },
    {
      "cell_type": "markdown",
      "source": [
        "*Критерий Фишера равенства дисперсий*"
      ],
      "metadata": {
        "id": "0ETAWWlPXBU2"
      }
    },
    {
      "cell_type": "code",
      "source": [
        "# Расчет критерия Фишера равенства дисперсий\n",
        "f_value_levene, p_value_levene = levene(*grouped_st.values(), center='mean')\n",
        "\n",
        "print(f'F-value: {f_value_levene:.5f}, p-value: {p_value_levene:.5f}')"
      ],
      "metadata": {
        "colab": {
          "base_uri": "https://localhost:8080/"
        },
        "id": "MFvAiru3Pk4G",
        "outputId": "a788ecd0-8b98-49fb-e4ad-c5ce3bd81e9b"
      },
      "execution_count": null,
      "outputs": [
        {
          "output_type": "stream",
          "name": "stdout",
          "text": [
            "F-value: 0.90919, p-value: 0.34116\n"
          ]
        }
      ]
    },
    {
      "cell_type": "markdown",
      "source": [
        "*   F-value: значение близкое к 1 говорит о том, что дисперсии по группам в целом схожи;\n",
        "*   p-value: значение p-value больше 0.05, нет оснований отвергнуть нулевую гипотезу о том, что дисперсии в группах равны."
      ],
      "metadata": {
        "id": "5pFbaH-BXxjf"
      }
    },
    {
      "cell_type": "markdown",
      "source": [
        "*Критерий Стьюдента равенства дисперсий*"
      ],
      "metadata": {
        "id": "3Vr8NkRUaQPj"
      }
    },
    {
      "cell_type": "code",
      "source": [
        "# Расчет критерия Стьюдента равенства дисперсий\n",
        "t_stat, p_value_ttest = ttest_ind(*grouped_st.values(), equal_var=True)\n",
        "\n",
        "t_stat, p_value_ttest\n",
        "print(f't-statistic: {t_stat:.5f}, p-value: {p_value_ttest:.5f}')"
      ],
      "metadata": {
        "colab": {
          "base_uri": "https://localhost:8080/"
        },
        "id": "oQ5_VD76PkyP",
        "outputId": "20cd1456-09c1-4a67-b2a9-f2140b03d0ac"
      },
      "execution_count": null,
      "outputs": [
        {
          "output_type": "stream",
          "name": "stdout",
          "text": [
            "t-statistic: -2.57693, p-value: 0.01048\n"
          ]
        }
      ]
    },
    {
      "cell_type": "markdown",
      "source": [
        "*   t-statistic: отрицательное значение t-статистики говорит о том, что среднее значение переменной в нулевой группе ниже, чем в первой группе;\n",
        "*   p-value: значение p-value меньше 0.05, поэтому мы отвергаем нулевую гипотезу о равенстве средних между двумя группами, есть статистически значимые различия между средними значениями групп."
      ],
      "metadata": {
        "id": "jgrNkuqJcJ1k"
      }
    },
    {
      "cell_type": "markdown",
      "source": [
        "---\n",
        "\n",
        "* Применить однофакторный дисперсионный анализ в случае фактора с четырьмя градациями и множественные сравнения с разными поправками. Проверить гипотезу о равенстве дисперсий при помощи критерия Ливиня и Бартлетта.\n",
        "\n",
        "---"
      ],
      "metadata": {
        "id": "v3Rfzb1ve5in"
      }
    },
    {
      "cell_type": "markdown",
      "source": [
        "*Однофакторный дисперсионный анализ*"
      ],
      "metadata": {
        "id": "9c96Ph1vmJil"
      }
    },
    {
      "cell_type": "code",
      "source": [
        "unique_educat_values = addicts['educat'].unique()  # Получение уникальных значений для признака educat\n",
        "grouped_educat = {}  # Словарь для хранения данных по группам\n",
        "\n",
        "for value in unique_educat_values:\n",
        "    grouped_educat[value] = addicts[addicts['educat'] == value]['rubsex']\n",
        "\n",
        "# Выполнение однофакторного дисперсионного анализа\n",
        "anova_results = f_oneway(*grouped_educat.values())\n",
        "anova_results"
      ],
      "metadata": {
        "colab": {
          "base_uri": "https://localhost:8080/"
        },
        "id": "jUKMbWYXOVpq",
        "outputId": "cf6dfd09-2d04-4220-8a67-13db964c967f"
      },
      "execution_count": null,
      "outputs": [
        {
          "output_type": "execute_result",
          "data": {
            "text/plain": [
              "F_onewayResult(statistic=0.5266891524144115, pvalue=0.6642949601271322)"
            ]
          },
          "metadata": {},
          "execution_count": 32
        }
      ]
    },
    {
      "cell_type": "markdown",
      "source": [
        "Результаты однофакторного дисперсионного анализа показывают, что нет статистически значимых различий в оценках риска в сексуальных связях (rubsex) между различными группами разделенными по образованию."
      ],
      "metadata": {
        "id": "RallnXX-mW56"
      }
    },
    {
      "cell_type": "markdown",
      "source": [
        "*Проверить гипотезу о равенстве дисперсий при помощи критерия Ливиня и Бартлетта.*"
      ],
      "metadata": {
        "id": "VSPr0DSgosML"
      }
    },
    {
      "cell_type": "code",
      "source": [
        "# Критерий Ливиня на равенство дисперсий\n",
        "levene_test = levene(*grouped_educat.values())\n",
        "\n",
        "# Критерий Бартлетта на равенство дисперсий\n",
        "bartlett_test = bartlett(*grouped_educat.values())\n",
        "\n",
        "print(f'Критерий Ливиня на равенство дисперсий: {levene_test}')\n",
        "print(f'Критерий Бартлетта на равенство дисперсий: {bartlett_test}')"
      ],
      "metadata": {
        "colab": {
          "base_uri": "https://localhost:8080/"
        },
        "id": "j936x_ReOVmg",
        "outputId": "05616384-7b31-4bb8-a1df-59d1c54369db"
      },
      "execution_count": null,
      "outputs": [
        {
          "output_type": "stream",
          "name": "stdout",
          "text": [
            "Критерий Ливиня на равенство дисперсий: LeveneResult(statistic=0.7848962462370895, pvalue=0.5032103281709439)\n",
            "Критерий Бартлетта на равенство дисперсий: BartlettResult(statistic=3.39113005393191, pvalue=0.33515909866553284)\n"
          ]
        }
      ]
    },
    {
      "cell_type": "markdown",
      "source": [
        "Оба критерия не отвергают нулевую гипотезу о равенстве дисперсий между группами, а это указывает на то, что дисперсии оценок риска в сексуальных связях (rubsex) не различаются статистически значимо между группами разделенными по образованию."
      ],
      "metadata": {
        "id": "xRppxePcoLy2"
      }
    },
    {
      "cell_type": "markdown",
      "source": [
        "*Повторить обработку с применением непараметрических аналогов (критерий\n",
        "Вилкоксона).*"
      ],
      "metadata": {
        "id": "evYDlZ_Mpaj-"
      }
    },
    {
      "cell_type": "code",
      "source": [
        "# Критерий Вилкоксона на равенство дисперсий\n",
        "wilcoxon_test = mannwhitneyu(*grouped_st.values(), alternative='two-sided')\n",
        "wilcoxon_test"
      ],
      "metadata": {
        "colab": {
          "base_uri": "https://localhost:8080/"
        },
        "id": "uKljXcA8mFVu",
        "outputId": "a8002f15-5190-4790-a46c-1429d2e80e27"
      },
      "execution_count": null,
      "outputs": [
        {
          "output_type": "execute_result",
          "data": {
            "text/plain": [
              "MannwhitneyuResult(statistic=3160.0, pvalue=0.019279690743914085)"
            ]
          },
          "metadata": {},
          "execution_count": 38
        }
      ]
    },
    {
      "cell_type": "markdown",
      "source": [
        "Критерий Вилкоксона показал наличие статистически значимых различий в оценках риска в сексуальных связях (rubsex) между двумя группами разделенными на использование стимулирующих средств (st)."
      ],
      "metadata": {
        "id": "C2ZqSYhYqBlN"
      }
    },
    {
      "cell_type": "markdown",
      "source": [
        "---\n",
        "\n",
        "* Данные [dataNF.xls](https://github.com/igor531205/statistic/raw/main/data/dataNF.xls), вариант 10. Для первых двух зависимых переменных (BDI.1, BDI.2, BDI.6, BDI.7, данные dataNF.xls) найти med1 медиану в первой точке и преобразовать признаки в дихотомические в зависимости от положения относительно медианы med1.\n",
        "\n",
        "---"
      ],
      "metadata": {
        "id": "3bIJvOfDJ5JB"
      }
    },
    {
      "cell_type": "code",
      "source": [
        "# ссылка на данные\n",
        "link = 'https://github.com/igor531205/statistic/raw/main/data/dataNF.xls'\n",
        "\n",
        "data_sheet_name = 'bdi'\n",
        "\n",
        "# Считываем данные\n",
        "datas=pd.read_excel(link, sheet_name=data_sheet_name,\n",
        "                    usecols=['BDI.1', 'BDI.2', 'BDI.6', 'BDI.7', 'PRCOD.1', 'SEX.1'],\n",
        "                    index_col=False)\n",
        "\n",
        "# Отключаем ограничение в отображении столбцов\n",
        "pd.options.display.max_columns = None\n",
        "\n",
        "# Выводим 5 первых строк\n",
        "datas.head()"
      ],
      "metadata": {
        "id": "Dl9n2xRy-YCH",
        "colab": {
          "base_uri": "https://localhost:8080/",
          "height": 206
        },
        "outputId": "61505938-ca3d-465c-ef04-477e2ee6a21f"
      },
      "execution_count": null,
      "outputs": [
        {
          "output_type": "execute_result",
          "data": {
            "text/plain": [
              "           PRCOD.1   SEX.1  BDI.1  BDI.2  BDI.6  BDI.7\n",
              "0  Placebo+Placebo    male    NaN    NaN    NaN    NaN\n",
              "1   Placebo+Framex    male   18.0    5.0    NaN    NaN\n",
              "2      NLTX+Framex  female   12.0    8.0    NaN    NaN\n",
              "3   Placebo+Framex    male   14.0   12.0    NaN    NaN\n",
              "4     NLTX+Placebo    male   19.0    7.0    0.0    NaN"
            ],
            "text/html": [
              "\n",
              "  <div id=\"df-b1e5d889-86e0-4e46-afe6-dc05d3c648e9\" class=\"colab-df-container\">\n",
              "    <div>\n",
              "<style scoped>\n",
              "    .dataframe tbody tr th:only-of-type {\n",
              "        vertical-align: middle;\n",
              "    }\n",
              "\n",
              "    .dataframe tbody tr th {\n",
              "        vertical-align: top;\n",
              "    }\n",
              "\n",
              "    .dataframe thead th {\n",
              "        text-align: right;\n",
              "    }\n",
              "</style>\n",
              "<table border=\"1\" class=\"dataframe\">\n",
              "  <thead>\n",
              "    <tr style=\"text-align: right;\">\n",
              "      <th></th>\n",
              "      <th>PRCOD.1</th>\n",
              "      <th>SEX.1</th>\n",
              "      <th>BDI.1</th>\n",
              "      <th>BDI.2</th>\n",
              "      <th>BDI.6</th>\n",
              "      <th>BDI.7</th>\n",
              "    </tr>\n",
              "  </thead>\n",
              "  <tbody>\n",
              "    <tr>\n",
              "      <th>0</th>\n",
              "      <td>Placebo+Placebo</td>\n",
              "      <td>male</td>\n",
              "      <td>NaN</td>\n",
              "      <td>NaN</td>\n",
              "      <td>NaN</td>\n",
              "      <td>NaN</td>\n",
              "    </tr>\n",
              "    <tr>\n",
              "      <th>1</th>\n",
              "      <td>Placebo+Framex</td>\n",
              "      <td>male</td>\n",
              "      <td>18.0</td>\n",
              "      <td>5.0</td>\n",
              "      <td>NaN</td>\n",
              "      <td>NaN</td>\n",
              "    </tr>\n",
              "    <tr>\n",
              "      <th>2</th>\n",
              "      <td>NLTX+Framex</td>\n",
              "      <td>female</td>\n",
              "      <td>12.0</td>\n",
              "      <td>8.0</td>\n",
              "      <td>NaN</td>\n",
              "      <td>NaN</td>\n",
              "    </tr>\n",
              "    <tr>\n",
              "      <th>3</th>\n",
              "      <td>Placebo+Framex</td>\n",
              "      <td>male</td>\n",
              "      <td>14.0</td>\n",
              "      <td>12.0</td>\n",
              "      <td>NaN</td>\n",
              "      <td>NaN</td>\n",
              "    </tr>\n",
              "    <tr>\n",
              "      <th>4</th>\n",
              "      <td>NLTX+Placebo</td>\n",
              "      <td>male</td>\n",
              "      <td>19.0</td>\n",
              "      <td>7.0</td>\n",
              "      <td>0.0</td>\n",
              "      <td>NaN</td>\n",
              "    </tr>\n",
              "  </tbody>\n",
              "</table>\n",
              "</div>\n",
              "    <div class=\"colab-df-buttons\">\n",
              "\n",
              "  <div class=\"colab-df-container\">\n",
              "    <button class=\"colab-df-convert\" onclick=\"convertToInteractive('df-b1e5d889-86e0-4e46-afe6-dc05d3c648e9')\"\n",
              "            title=\"Convert this dataframe to an interactive table.\"\n",
              "            style=\"display:none;\">\n",
              "\n",
              "  <svg xmlns=\"http://www.w3.org/2000/svg\" height=\"24px\" viewBox=\"0 -960 960 960\">\n",
              "    <path d=\"M120-120v-720h720v720H120Zm60-500h600v-160H180v160Zm220 220h160v-160H400v160Zm0 220h160v-160H400v160ZM180-400h160v-160H180v160Zm440 0h160v-160H620v160ZM180-180h160v-160H180v160Zm440 0h160v-160H620v160Z\"/>\n",
              "  </svg>\n",
              "    </button>\n",
              "\n",
              "  <style>\n",
              "    .colab-df-container {\n",
              "      display:flex;\n",
              "      gap: 12px;\n",
              "    }\n",
              "\n",
              "    .colab-df-convert {\n",
              "      background-color: #E8F0FE;\n",
              "      border: none;\n",
              "      border-radius: 50%;\n",
              "      cursor: pointer;\n",
              "      display: none;\n",
              "      fill: #1967D2;\n",
              "      height: 32px;\n",
              "      padding: 0 0 0 0;\n",
              "      width: 32px;\n",
              "    }\n",
              "\n",
              "    .colab-df-convert:hover {\n",
              "      background-color: #E2EBFA;\n",
              "      box-shadow: 0px 1px 2px rgba(60, 64, 67, 0.3), 0px 1px 3px 1px rgba(60, 64, 67, 0.15);\n",
              "      fill: #174EA6;\n",
              "    }\n",
              "\n",
              "    .colab-df-buttons div {\n",
              "      margin-bottom: 4px;\n",
              "    }\n",
              "\n",
              "    [theme=dark] .colab-df-convert {\n",
              "      background-color: #3B4455;\n",
              "      fill: #D2E3FC;\n",
              "    }\n",
              "\n",
              "    [theme=dark] .colab-df-convert:hover {\n",
              "      background-color: #434B5C;\n",
              "      box-shadow: 0px 1px 3px 1px rgba(0, 0, 0, 0.15);\n",
              "      filter: drop-shadow(0px 1px 2px rgba(0, 0, 0, 0.3));\n",
              "      fill: #FFFFFF;\n",
              "    }\n",
              "  </style>\n",
              "\n",
              "    <script>\n",
              "      const buttonEl =\n",
              "        document.querySelector('#df-b1e5d889-86e0-4e46-afe6-dc05d3c648e9 button.colab-df-convert');\n",
              "      buttonEl.style.display =\n",
              "        google.colab.kernel.accessAllowed ? 'block' : 'none';\n",
              "\n",
              "      async function convertToInteractive(key) {\n",
              "        const element = document.querySelector('#df-b1e5d889-86e0-4e46-afe6-dc05d3c648e9');\n",
              "        const dataTable =\n",
              "          await google.colab.kernel.invokeFunction('convertToInteractive',\n",
              "                                                    [key], {});\n",
              "        if (!dataTable) return;\n",
              "\n",
              "        const docLinkHtml = 'Like what you see? Visit the ' +\n",
              "          '<a target=\"_blank\" href=https://colab.research.google.com/notebooks/data_table.ipynb>data table notebook</a>'\n",
              "          + ' to learn more about interactive tables.';\n",
              "        element.innerHTML = '';\n",
              "        dataTable['output_type'] = 'display_data';\n",
              "        await google.colab.output.renderOutput(dataTable, element);\n",
              "        const docLink = document.createElement('div');\n",
              "        docLink.innerHTML = docLinkHtml;\n",
              "        element.appendChild(docLink);\n",
              "      }\n",
              "    </script>\n",
              "  </div>\n",
              "\n",
              "\n",
              "<div id=\"df-3e8923c9-3312-4084-9548-3bf527144a2f\">\n",
              "  <button class=\"colab-df-quickchart\" onclick=\"quickchart('df-3e8923c9-3312-4084-9548-3bf527144a2f')\"\n",
              "            title=\"Suggest charts\"\n",
              "            style=\"display:none;\">\n",
              "\n",
              "<svg xmlns=\"http://www.w3.org/2000/svg\" height=\"24px\"viewBox=\"0 0 24 24\"\n",
              "     width=\"24px\">\n",
              "    <g>\n",
              "        <path d=\"M19 3H5c-1.1 0-2 .9-2 2v14c0 1.1.9 2 2 2h14c1.1 0 2-.9 2-2V5c0-1.1-.9-2-2-2zM9 17H7v-7h2v7zm4 0h-2V7h2v10zm4 0h-2v-4h2v4z\"/>\n",
              "    </g>\n",
              "</svg>\n",
              "  </button>\n",
              "\n",
              "<style>\n",
              "  .colab-df-quickchart {\n",
              "      --bg-color: #E8F0FE;\n",
              "      --fill-color: #1967D2;\n",
              "      --hover-bg-color: #E2EBFA;\n",
              "      --hover-fill-color: #174EA6;\n",
              "      --disabled-fill-color: #AAA;\n",
              "      --disabled-bg-color: #DDD;\n",
              "  }\n",
              "\n",
              "  [theme=dark] .colab-df-quickchart {\n",
              "      --bg-color: #3B4455;\n",
              "      --fill-color: #D2E3FC;\n",
              "      --hover-bg-color: #434B5C;\n",
              "      --hover-fill-color: #FFFFFF;\n",
              "      --disabled-bg-color: #3B4455;\n",
              "      --disabled-fill-color: #666;\n",
              "  }\n",
              "\n",
              "  .colab-df-quickchart {\n",
              "    background-color: var(--bg-color);\n",
              "    border: none;\n",
              "    border-radius: 50%;\n",
              "    cursor: pointer;\n",
              "    display: none;\n",
              "    fill: var(--fill-color);\n",
              "    height: 32px;\n",
              "    padding: 0;\n",
              "    width: 32px;\n",
              "  }\n",
              "\n",
              "  .colab-df-quickchart:hover {\n",
              "    background-color: var(--hover-bg-color);\n",
              "    box-shadow: 0 1px 2px rgba(60, 64, 67, 0.3), 0 1px 3px 1px rgba(60, 64, 67, 0.15);\n",
              "    fill: var(--button-hover-fill-color);\n",
              "  }\n",
              "\n",
              "  .colab-df-quickchart-complete:disabled,\n",
              "  .colab-df-quickchart-complete:disabled:hover {\n",
              "    background-color: var(--disabled-bg-color);\n",
              "    fill: var(--disabled-fill-color);\n",
              "    box-shadow: none;\n",
              "  }\n",
              "\n",
              "  .colab-df-spinner {\n",
              "    border: 2px solid var(--fill-color);\n",
              "    border-color: transparent;\n",
              "    border-bottom-color: var(--fill-color);\n",
              "    animation:\n",
              "      spin 1s steps(1) infinite;\n",
              "  }\n",
              "\n",
              "  @keyframes spin {\n",
              "    0% {\n",
              "      border-color: transparent;\n",
              "      border-bottom-color: var(--fill-color);\n",
              "      border-left-color: var(--fill-color);\n",
              "    }\n",
              "    20% {\n",
              "      border-color: transparent;\n",
              "      border-left-color: var(--fill-color);\n",
              "      border-top-color: var(--fill-color);\n",
              "    }\n",
              "    30% {\n",
              "      border-color: transparent;\n",
              "      border-left-color: var(--fill-color);\n",
              "      border-top-color: var(--fill-color);\n",
              "      border-right-color: var(--fill-color);\n",
              "    }\n",
              "    40% {\n",
              "      border-color: transparent;\n",
              "      border-right-color: var(--fill-color);\n",
              "      border-top-color: var(--fill-color);\n",
              "    }\n",
              "    60% {\n",
              "      border-color: transparent;\n",
              "      border-right-color: var(--fill-color);\n",
              "    }\n",
              "    80% {\n",
              "      border-color: transparent;\n",
              "      border-right-color: var(--fill-color);\n",
              "      border-bottom-color: var(--fill-color);\n",
              "    }\n",
              "    90% {\n",
              "      border-color: transparent;\n",
              "      border-bottom-color: var(--fill-color);\n",
              "    }\n",
              "  }\n",
              "</style>\n",
              "\n",
              "  <script>\n",
              "    async function quickchart(key) {\n",
              "      const quickchartButtonEl =\n",
              "        document.querySelector('#' + key + ' button');\n",
              "      quickchartButtonEl.disabled = true;  // To prevent multiple clicks.\n",
              "      quickchartButtonEl.classList.add('colab-df-spinner');\n",
              "      try {\n",
              "        const charts = await google.colab.kernel.invokeFunction(\n",
              "            'suggestCharts', [key], {});\n",
              "      } catch (error) {\n",
              "        console.error('Error during call to suggestCharts:', error);\n",
              "      }\n",
              "      quickchartButtonEl.classList.remove('colab-df-spinner');\n",
              "      quickchartButtonEl.classList.add('colab-df-quickchart-complete');\n",
              "    }\n",
              "    (() => {\n",
              "      let quickchartButtonEl =\n",
              "        document.querySelector('#df-3e8923c9-3312-4084-9548-3bf527144a2f button');\n",
              "      quickchartButtonEl.style.display =\n",
              "        google.colab.kernel.accessAllowed ? 'block' : 'none';\n",
              "    })();\n",
              "  </script>\n",
              "</div>\n",
              "    </div>\n",
              "  </div>\n"
            ],
            "application/vnd.google.colaboratory.intrinsic+json": {
              "type": "dataframe",
              "variable_name": "datas",
              "summary": "{\n  \"name\": \"datas\",\n  \"rows\": 332,\n  \"fields\": [\n    {\n      \"column\": \"PRCOD.1\",\n      \"properties\": {\n        \"dtype\": \"category\",\n        \"num_unique_values\": 4,\n        \"samples\": [\n          \"Placebo+Framex\",\n          \"NLTX+Placebo\",\n          \"Placebo+Placebo\"\n        ],\n        \"semantic_type\": \"\",\n        \"description\": \"\"\n      }\n    },\n    {\n      \"column\": \"SEX.1\",\n      \"properties\": {\n        \"dtype\": \"category\",\n        \"num_unique_values\": 2,\n        \"samples\": [\n          \"female\",\n          \"male\"\n        ],\n        \"semantic_type\": \"\",\n        \"description\": \"\"\n      }\n    },\n    {\n      \"column\": \"BDI.1\",\n      \"properties\": {\n        \"dtype\": \"number\",\n        \"std\": 8.703874471735046,\n        \"min\": 2.0,\n        \"max\": 48.0,\n        \"num_unique_values\": 42,\n        \"samples\": [\n          27.0,\n          28.0\n        ],\n        \"semantic_type\": \"\",\n        \"description\": \"\"\n      }\n    },\n    {\n      \"column\": \"BDI.2\",\n      \"properties\": {\n        \"dtype\": \"number\",\n        \"std\": 7.966679613474175,\n        \"min\": 1.0,\n        \"max\": 44.0,\n        \"num_unique_values\": 35,\n        \"samples\": [\n          9.0,\n          6.0\n        ],\n        \"semantic_type\": \"\",\n        \"description\": \"\"\n      }\n    },\n    {\n      \"column\": \"BDI.6\",\n      \"properties\": {\n        \"dtype\": \"number\",\n        \"std\": 6.056772382693439,\n        \"min\": 0.0,\n        \"max\": 33.0,\n        \"num_unique_values\": 21,\n        \"samples\": [\n          0.0,\n          6.0\n        ],\n        \"semantic_type\": \"\",\n        \"description\": \"\"\n      }\n    },\n    {\n      \"column\": \"BDI.7\",\n      \"properties\": {\n        \"dtype\": \"number\",\n        \"std\": 5.412550803529459,\n        \"min\": 0.0,\n        \"max\": 23.0,\n        \"num_unique_values\": 20,\n        \"samples\": [\n          5.0,\n          22.0\n        ],\n        \"semantic_type\": \"\",\n        \"description\": \"\"\n      }\n    }\n  ]\n}"
            }
          },
          "metadata": {},
          "execution_count": 34
        }
      ]
    },
    {
      "cell_type": "code",
      "source": [
        "# Заполним пропущенные значения средними значениями\n",
        "features = ['BDI.1', 'BDI.2', 'BDI.6', 'BDI.7']\n",
        "datas.fillna(datas[features].mean(), inplace=True)\n",
        "datas.head()"
      ],
      "metadata": {
        "colab": {
          "base_uri": "https://localhost:8080/",
          "height": 206
        },
        "id": "iI-Obbj7SR11",
        "outputId": "790f1974-62ee-42e3-ff9c-e0859f05d11d"
      },
      "execution_count": null,
      "outputs": [
        {
          "output_type": "execute_result",
          "data": {
            "text/plain": [
              "           PRCOD.1   SEX.1     BDI.1      BDI.2     BDI.6     BDI.7\n",
              "0  Placebo+Placebo    male  20.35061  13.003984  5.427536  4.664062\n",
              "1   Placebo+Framex    male  18.00000   5.000000  5.427536  4.664062\n",
              "2      NLTX+Framex  female  12.00000   8.000000  5.427536  4.664062\n",
              "3   Placebo+Framex    male  14.00000  12.000000  5.427536  4.664062\n",
              "4     NLTX+Placebo    male  19.00000   7.000000  0.000000  4.664062"
            ],
            "text/html": [
              "\n",
              "  <div id=\"df-93639372-5174-49f1-9a49-fad7de7c7ddc\" class=\"colab-df-container\">\n",
              "    <div>\n",
              "<style scoped>\n",
              "    .dataframe tbody tr th:only-of-type {\n",
              "        vertical-align: middle;\n",
              "    }\n",
              "\n",
              "    .dataframe tbody tr th {\n",
              "        vertical-align: top;\n",
              "    }\n",
              "\n",
              "    .dataframe thead th {\n",
              "        text-align: right;\n",
              "    }\n",
              "</style>\n",
              "<table border=\"1\" class=\"dataframe\">\n",
              "  <thead>\n",
              "    <tr style=\"text-align: right;\">\n",
              "      <th></th>\n",
              "      <th>PRCOD.1</th>\n",
              "      <th>SEX.1</th>\n",
              "      <th>BDI.1</th>\n",
              "      <th>BDI.2</th>\n",
              "      <th>BDI.6</th>\n",
              "      <th>BDI.7</th>\n",
              "    </tr>\n",
              "  </thead>\n",
              "  <tbody>\n",
              "    <tr>\n",
              "      <th>0</th>\n",
              "      <td>Placebo+Placebo</td>\n",
              "      <td>male</td>\n",
              "      <td>20.35061</td>\n",
              "      <td>13.003984</td>\n",
              "      <td>5.427536</td>\n",
              "      <td>4.664062</td>\n",
              "    </tr>\n",
              "    <tr>\n",
              "      <th>1</th>\n",
              "      <td>Placebo+Framex</td>\n",
              "      <td>male</td>\n",
              "      <td>18.00000</td>\n",
              "      <td>5.000000</td>\n",
              "      <td>5.427536</td>\n",
              "      <td>4.664062</td>\n",
              "    </tr>\n",
              "    <tr>\n",
              "      <th>2</th>\n",
              "      <td>NLTX+Framex</td>\n",
              "      <td>female</td>\n",
              "      <td>12.00000</td>\n",
              "      <td>8.000000</td>\n",
              "      <td>5.427536</td>\n",
              "      <td>4.664062</td>\n",
              "    </tr>\n",
              "    <tr>\n",
              "      <th>3</th>\n",
              "      <td>Placebo+Framex</td>\n",
              "      <td>male</td>\n",
              "      <td>14.00000</td>\n",
              "      <td>12.000000</td>\n",
              "      <td>5.427536</td>\n",
              "      <td>4.664062</td>\n",
              "    </tr>\n",
              "    <tr>\n",
              "      <th>4</th>\n",
              "      <td>NLTX+Placebo</td>\n",
              "      <td>male</td>\n",
              "      <td>19.00000</td>\n",
              "      <td>7.000000</td>\n",
              "      <td>0.000000</td>\n",
              "      <td>4.664062</td>\n",
              "    </tr>\n",
              "  </tbody>\n",
              "</table>\n",
              "</div>\n",
              "    <div class=\"colab-df-buttons\">\n",
              "\n",
              "  <div class=\"colab-df-container\">\n",
              "    <button class=\"colab-df-convert\" onclick=\"convertToInteractive('df-93639372-5174-49f1-9a49-fad7de7c7ddc')\"\n",
              "            title=\"Convert this dataframe to an interactive table.\"\n",
              "            style=\"display:none;\">\n",
              "\n",
              "  <svg xmlns=\"http://www.w3.org/2000/svg\" height=\"24px\" viewBox=\"0 -960 960 960\">\n",
              "    <path d=\"M120-120v-720h720v720H120Zm60-500h600v-160H180v160Zm220 220h160v-160H400v160Zm0 220h160v-160H400v160ZM180-400h160v-160H180v160Zm440 0h160v-160H620v160ZM180-180h160v-160H180v160Zm440 0h160v-160H620v160Z\"/>\n",
              "  </svg>\n",
              "    </button>\n",
              "\n",
              "  <style>\n",
              "    .colab-df-container {\n",
              "      display:flex;\n",
              "      gap: 12px;\n",
              "    }\n",
              "\n",
              "    .colab-df-convert {\n",
              "      background-color: #E8F0FE;\n",
              "      border: none;\n",
              "      border-radius: 50%;\n",
              "      cursor: pointer;\n",
              "      display: none;\n",
              "      fill: #1967D2;\n",
              "      height: 32px;\n",
              "      padding: 0 0 0 0;\n",
              "      width: 32px;\n",
              "    }\n",
              "\n",
              "    .colab-df-convert:hover {\n",
              "      background-color: #E2EBFA;\n",
              "      box-shadow: 0px 1px 2px rgba(60, 64, 67, 0.3), 0px 1px 3px 1px rgba(60, 64, 67, 0.15);\n",
              "      fill: #174EA6;\n",
              "    }\n",
              "\n",
              "    .colab-df-buttons div {\n",
              "      margin-bottom: 4px;\n",
              "    }\n",
              "\n",
              "    [theme=dark] .colab-df-convert {\n",
              "      background-color: #3B4455;\n",
              "      fill: #D2E3FC;\n",
              "    }\n",
              "\n",
              "    [theme=dark] .colab-df-convert:hover {\n",
              "      background-color: #434B5C;\n",
              "      box-shadow: 0px 1px 3px 1px rgba(0, 0, 0, 0.15);\n",
              "      filter: drop-shadow(0px 1px 2px rgba(0, 0, 0, 0.3));\n",
              "      fill: #FFFFFF;\n",
              "    }\n",
              "  </style>\n",
              "\n",
              "    <script>\n",
              "      const buttonEl =\n",
              "        document.querySelector('#df-93639372-5174-49f1-9a49-fad7de7c7ddc button.colab-df-convert');\n",
              "      buttonEl.style.display =\n",
              "        google.colab.kernel.accessAllowed ? 'block' : 'none';\n",
              "\n",
              "      async function convertToInteractive(key) {\n",
              "        const element = document.querySelector('#df-93639372-5174-49f1-9a49-fad7de7c7ddc');\n",
              "        const dataTable =\n",
              "          await google.colab.kernel.invokeFunction('convertToInteractive',\n",
              "                                                    [key], {});\n",
              "        if (!dataTable) return;\n",
              "\n",
              "        const docLinkHtml = 'Like what you see? Visit the ' +\n",
              "          '<a target=\"_blank\" href=https://colab.research.google.com/notebooks/data_table.ipynb>data table notebook</a>'\n",
              "          + ' to learn more about interactive tables.';\n",
              "        element.innerHTML = '';\n",
              "        dataTable['output_type'] = 'display_data';\n",
              "        await google.colab.output.renderOutput(dataTable, element);\n",
              "        const docLink = document.createElement('div');\n",
              "        docLink.innerHTML = docLinkHtml;\n",
              "        element.appendChild(docLink);\n",
              "      }\n",
              "    </script>\n",
              "  </div>\n",
              "\n",
              "\n",
              "<div id=\"df-e299865b-57c9-44e4-ba59-5d167a11524e\">\n",
              "  <button class=\"colab-df-quickchart\" onclick=\"quickchart('df-e299865b-57c9-44e4-ba59-5d167a11524e')\"\n",
              "            title=\"Suggest charts\"\n",
              "            style=\"display:none;\">\n",
              "\n",
              "<svg xmlns=\"http://www.w3.org/2000/svg\" height=\"24px\"viewBox=\"0 0 24 24\"\n",
              "     width=\"24px\">\n",
              "    <g>\n",
              "        <path d=\"M19 3H5c-1.1 0-2 .9-2 2v14c0 1.1.9 2 2 2h14c1.1 0 2-.9 2-2V5c0-1.1-.9-2-2-2zM9 17H7v-7h2v7zm4 0h-2V7h2v10zm4 0h-2v-4h2v4z\"/>\n",
              "    </g>\n",
              "</svg>\n",
              "  </button>\n",
              "\n",
              "<style>\n",
              "  .colab-df-quickchart {\n",
              "      --bg-color: #E8F0FE;\n",
              "      --fill-color: #1967D2;\n",
              "      --hover-bg-color: #E2EBFA;\n",
              "      --hover-fill-color: #174EA6;\n",
              "      --disabled-fill-color: #AAA;\n",
              "      --disabled-bg-color: #DDD;\n",
              "  }\n",
              "\n",
              "  [theme=dark] .colab-df-quickchart {\n",
              "      --bg-color: #3B4455;\n",
              "      --fill-color: #D2E3FC;\n",
              "      --hover-bg-color: #434B5C;\n",
              "      --hover-fill-color: #FFFFFF;\n",
              "      --disabled-bg-color: #3B4455;\n",
              "      --disabled-fill-color: #666;\n",
              "  }\n",
              "\n",
              "  .colab-df-quickchart {\n",
              "    background-color: var(--bg-color);\n",
              "    border: none;\n",
              "    border-radius: 50%;\n",
              "    cursor: pointer;\n",
              "    display: none;\n",
              "    fill: var(--fill-color);\n",
              "    height: 32px;\n",
              "    padding: 0;\n",
              "    width: 32px;\n",
              "  }\n",
              "\n",
              "  .colab-df-quickchart:hover {\n",
              "    background-color: var(--hover-bg-color);\n",
              "    box-shadow: 0 1px 2px rgba(60, 64, 67, 0.3), 0 1px 3px 1px rgba(60, 64, 67, 0.15);\n",
              "    fill: var(--button-hover-fill-color);\n",
              "  }\n",
              "\n",
              "  .colab-df-quickchart-complete:disabled,\n",
              "  .colab-df-quickchart-complete:disabled:hover {\n",
              "    background-color: var(--disabled-bg-color);\n",
              "    fill: var(--disabled-fill-color);\n",
              "    box-shadow: none;\n",
              "  }\n",
              "\n",
              "  .colab-df-spinner {\n",
              "    border: 2px solid var(--fill-color);\n",
              "    border-color: transparent;\n",
              "    border-bottom-color: var(--fill-color);\n",
              "    animation:\n",
              "      spin 1s steps(1) infinite;\n",
              "  }\n",
              "\n",
              "  @keyframes spin {\n",
              "    0% {\n",
              "      border-color: transparent;\n",
              "      border-bottom-color: var(--fill-color);\n",
              "      border-left-color: var(--fill-color);\n",
              "    }\n",
              "    20% {\n",
              "      border-color: transparent;\n",
              "      border-left-color: var(--fill-color);\n",
              "      border-top-color: var(--fill-color);\n",
              "    }\n",
              "    30% {\n",
              "      border-color: transparent;\n",
              "      border-left-color: var(--fill-color);\n",
              "      border-top-color: var(--fill-color);\n",
              "      border-right-color: var(--fill-color);\n",
              "    }\n",
              "    40% {\n",
              "      border-color: transparent;\n",
              "      border-right-color: var(--fill-color);\n",
              "      border-top-color: var(--fill-color);\n",
              "    }\n",
              "    60% {\n",
              "      border-color: transparent;\n",
              "      border-right-color: var(--fill-color);\n",
              "    }\n",
              "    80% {\n",
              "      border-color: transparent;\n",
              "      border-right-color: var(--fill-color);\n",
              "      border-bottom-color: var(--fill-color);\n",
              "    }\n",
              "    90% {\n",
              "      border-color: transparent;\n",
              "      border-bottom-color: var(--fill-color);\n",
              "    }\n",
              "  }\n",
              "</style>\n",
              "\n",
              "  <script>\n",
              "    async function quickchart(key) {\n",
              "      const quickchartButtonEl =\n",
              "        document.querySelector('#' + key + ' button');\n",
              "      quickchartButtonEl.disabled = true;  // To prevent multiple clicks.\n",
              "      quickchartButtonEl.classList.add('colab-df-spinner');\n",
              "      try {\n",
              "        const charts = await google.colab.kernel.invokeFunction(\n",
              "            'suggestCharts', [key], {});\n",
              "      } catch (error) {\n",
              "        console.error('Error during call to suggestCharts:', error);\n",
              "      }\n",
              "      quickchartButtonEl.classList.remove('colab-df-spinner');\n",
              "      quickchartButtonEl.classList.add('colab-df-quickchart-complete');\n",
              "    }\n",
              "    (() => {\n",
              "      let quickchartButtonEl =\n",
              "        document.querySelector('#df-e299865b-57c9-44e4-ba59-5d167a11524e button');\n",
              "      quickchartButtonEl.style.display =\n",
              "        google.colab.kernel.accessAllowed ? 'block' : 'none';\n",
              "    })();\n",
              "  </script>\n",
              "</div>\n",
              "    </div>\n",
              "  </div>\n"
            ],
            "application/vnd.google.colaboratory.intrinsic+json": {
              "type": "dataframe",
              "variable_name": "datas",
              "summary": "{\n  \"name\": \"datas\",\n  \"rows\": 332,\n  \"fields\": [\n    {\n      \"column\": \"PRCOD.1\",\n      \"properties\": {\n        \"dtype\": \"category\",\n        \"num_unique_values\": 4,\n        \"samples\": [\n          \"Placebo+Framex\",\n          \"NLTX+Placebo\",\n          \"Placebo+Placebo\"\n        ],\n        \"semantic_type\": \"\",\n        \"description\": \"\"\n      }\n    },\n    {\n      \"column\": \"SEX.1\",\n      \"properties\": {\n        \"dtype\": \"category\",\n        \"num_unique_values\": 2,\n        \"samples\": [\n          \"female\",\n          \"male\"\n        ],\n        \"semantic_type\": \"\",\n        \"description\": \"\"\n      }\n    },\n    {\n      \"column\": \"BDI.1\",\n      \"properties\": {\n        \"dtype\": \"number\",\n        \"std\": 8.651123231483327,\n        \"min\": 2.0,\n        \"max\": 48.0,\n        \"num_unique_values\": 43,\n        \"samples\": [\n          38.0,\n          15.0\n        ],\n        \"semantic_type\": \"\",\n        \"description\": \"\"\n      }\n    },\n    {\n      \"column\": \"BDI.2\",\n      \"properties\": {\n        \"dtype\": \"number\",\n        \"std\": 6.923622162913882,\n        \"min\": 1.0,\n        \"max\": 44.0,\n        \"num_unique_values\": 36,\n        \"samples\": [\n          41.0,\n          27.0\n        ],\n        \"semantic_type\": \"\",\n        \"description\": \"\"\n      }\n    },\n    {\n      \"column\": \"BDI.6\",\n      \"properties\": {\n        \"dtype\": \"number\",\n        \"std\": 3.8966153731824975,\n        \"min\": 0.0,\n        \"max\": 33.0,\n        \"num_unique_values\": 22,\n        \"samples\": [\n          5.427536231884058,\n          16.0\n        ],\n        \"semantic_type\": \"\",\n        \"description\": \"\"\n      }\n    },\n    {\n      \"column\": \"BDI.7\",\n      \"properties\": {\n        \"dtype\": \"number\",\n        \"std\": 3.3526625967901107,\n        \"min\": 0.0,\n        \"max\": 23.0,\n        \"num_unique_values\": 21,\n        \"samples\": [\n          4.6640625,\n          11.0\n        ],\n        \"semantic_type\": \"\",\n        \"description\": \"\"\n      }\n    }\n  ]\n}"
            }
          },
          "metadata": {},
          "execution_count": 35
        }
      ]
    },
    {
      "cell_type": "markdown",
      "source": [
        "*Нахождение med1 медиан*"
      ],
      "metadata": {
        "id": "3EKaA6W516O_"
      }
    },
    {
      "cell_type": "code",
      "source": [
        "# Расчет медианы для BDI.1, BDI.2, BDI.6, BDI.7\n",
        "medians = datas[features].median()\n",
        "\n",
        "for feature in features:\n",
        "    print(f'Медиана для признака {feature} = {medians[feature]:.1f}')"
      ],
      "metadata": {
        "id": "UbArotHh8_eY",
        "colab": {
          "base_uri": "https://localhost:8080/"
        },
        "outputId": "bc6bb318-3561-4d86-d486-73c4177724e2"
      },
      "execution_count": null,
      "outputs": [
        {
          "output_type": "stream",
          "name": "stdout",
          "text": [
            "Медиана для признака BDI.1 = 20.0\n",
            "Медиана для признака BDI.2 = 13.0\n",
            "Медиана для признака BDI.6 = 5.4\n",
            "Медиана для признака BDI.7 = 4.7\n"
          ]
        }
      ]
    },
    {
      "cell_type": "code",
      "source": [
        "sns.boxplot(data=datas[features])\n",
        "plt.show()"
      ],
      "metadata": {
        "colab": {
          "base_uri": "https://localhost:8080/",
          "height": 433
        },
        "id": "JoDLh_X6DrbK",
        "outputId": "66acfd83-1652-40ca-868a-0305605cfa01"
      },
      "execution_count": null,
      "outputs": [
        {
          "output_type": "display_data",
          "data": {
            "text/plain": [
              "<Figure size 640x480 with 1 Axes>"
            ],
            "image/png": "[encoded data removed]"
          },
          "metadata": {}
        }
      ]
    },
    {
      "cell_type": "markdown",
      "source": [
        "*Преобразование признаков в дихотомические в зависимости от положения относительно медианы med1*"
      ],
      "metadata": {
        "id": "V5KR6lVO2EHw"
      }
    },
    {
      "cell_type": "code",
      "source": [
        "# Преобразование в дихотомические признаки\n",
        "dichotomous = (datas[features] > medians).astype(int)\n",
        "\n",
        "dichotomous.head()"
      ],
      "metadata": {
        "id": "HmFY7Bbu8_bU",
        "colab": {
          "base_uri": "https://localhost:8080/",
          "height": 206
        },
        "outputId": "6f398829-4210-457e-8d44-d82306ebd970"
      },
      "execution_count": null,
      "outputs": [
        {
          "output_type": "execute_result",
          "data": {
            "text/plain": [
              "   BDI.1  BDI.2  BDI.6  BDI.7\n",
              "0      1      0      0      0\n",
              "1      0      0      0      0\n",
              "2      0      0      0      0\n",
              "3      0      0      0      0\n",
              "4      0      0      0      0"
            ],
            "text/html": [
              "\n",
              "  <div id=\"df-624ce0bd-b08b-420a-9824-d6c52a247097\" class=\"colab-df-container\">\n",
              "    <div>\n",
              "<style scoped>\n",
              "    .dataframe tbody tr th:only-of-type {\n",
              "        vertical-align: middle;\n",
              "    }\n",
              "\n",
              "    .dataframe tbody tr th {\n",
              "        vertical-align: top;\n",
              "    }\n",
              "\n",
              "    .dataframe thead th {\n",
              "        text-align: right;\n",
              "    }\n",
              "</style>\n",
              "<table border=\"1\" class=\"dataframe\">\n",
              "  <thead>\n",
              "    <tr style=\"text-align: right;\">\n",
              "      <th></th>\n",
              "      <th>BDI.1</th>\n",
              "      <th>BDI.2</th>\n",
              "      <th>BDI.6</th>\n",
              "      <th>BDI.7</th>\n",
              "    </tr>\n",
              "  </thead>\n",
              "  <tbody>\n",
              "    <tr>\n",
              "      <th>0</th>\n",
              "      <td>1</td>\n",
              "      <td>0</td>\n",
              "      <td>0</td>\n",
              "      <td>0</td>\n",
              "    </tr>\n",
              "    <tr>\n",
              "      <th>1</th>\n",
              "      <td>0</td>\n",
              "      <td>0</td>\n",
              "      <td>0</td>\n",
              "      <td>0</td>\n",
              "    </tr>\n",
              "    <tr>\n",
              "      <th>2</th>\n",
              "      <td>0</td>\n",
              "      <td>0</td>\n",
              "      <td>0</td>\n",
              "      <td>0</td>\n",
              "    </tr>\n",
              "    <tr>\n",
              "      <th>3</th>\n",
              "      <td>0</td>\n",
              "      <td>0</td>\n",
              "      <td>0</td>\n",
              "      <td>0</td>\n",
              "    </tr>\n",
              "    <tr>\n",
              "      <th>4</th>\n",
              "      <td>0</td>\n",
              "      <td>0</td>\n",
              "      <td>0</td>\n",
              "      <td>0</td>\n",
              "    </tr>\n",
              "  </tbody>\n",
              "</table>\n",
              "</div>\n",
              "    <div class=\"colab-df-buttons\">\n",
              "\n",
              "  <div class=\"colab-df-container\">\n",
              "    <button class=\"colab-df-convert\" onclick=\"convertToInteractive('df-624ce0bd-b08b-420a-9824-d6c52a247097')\"\n",
              "            title=\"Convert this dataframe to an interactive table.\"\n",
              "            style=\"display:none;\">\n",
              "\n",
              "  <svg xmlns=\"http://www.w3.org/2000/svg\" height=\"24px\" viewBox=\"0 -960 960 960\">\n",
              "    <path d=\"M120-120v-720h720v720H120Zm60-500h600v-160H180v160Zm220 220h160v-160H400v160Zm0 220h160v-160H400v160ZM180-400h160v-160H180v160Zm440 0h160v-160H620v160ZM180-180h160v-160H180v160Zm440 0h160v-160H620v160Z\"/>\n",
              "  </svg>\n",
              "    </button>\n",
              "\n",
              "  <style>\n",
              "    .colab-df-container {\n",
              "      display:flex;\n",
              "      gap: 12px;\n",
              "    }\n",
              "\n",
              "    .colab-df-convert {\n",
              "      background-color: #E8F0FE;\n",
              "      border: none;\n",
              "      border-radius: 50%;\n",
              "      cursor: pointer;\n",
              "      display: none;\n",
              "      fill: #1967D2;\n",
              "      height: 32px;\n",
              "      padding: 0 0 0 0;\n",
              "      width: 32px;\n",
              "    }\n",
              "\n",
              "    .colab-df-convert:hover {\n",
              "      background-color: #E2EBFA;\n",
              "      box-shadow: 0px 1px 2px rgba(60, 64, 67, 0.3), 0px 1px 3px 1px rgba(60, 64, 67, 0.15);\n",
              "      fill: #174EA6;\n",
              "    }\n",
              "\n",
              "    .colab-df-buttons div {\n",
              "      margin-bottom: 4px;\n",
              "    }\n",
              "\n",
              "    [theme=dark] .colab-df-convert {\n",
              "      background-color: #3B4455;\n",
              "      fill: #D2E3FC;\n",
              "    }\n",
              "\n",
              "    [theme=dark] .colab-df-convert:hover {\n",
              "      background-color: #434B5C;\n",
              "      box-shadow: 0px 1px 3px 1px rgba(0, 0, 0, 0.15);\n",
              "      filter: drop-shadow(0px 1px 2px rgba(0, 0, 0, 0.3));\n",
              "      fill: #FFFFFF;\n",
              "    }\n",
              "  </style>\n",
              "\n",
              "    <script>\n",
              "      const buttonEl =\n",
              "        document.querySelector('#df-624ce0bd-b08b-420a-9824-d6c52a247097 button.colab-df-convert');\n",
              "      buttonEl.style.display =\n",
              "        google.colab.kernel.accessAllowed ? 'block' : 'none';\n",
              "\n",
              "      async function convertToInteractive(key) {\n",
              "        const element = document.querySelector('#df-624ce0bd-b08b-420a-9824-d6c52a247097');\n",
              "        const dataTable =\n",
              "          await google.colab.kernel.invokeFunction('convertToInteractive',\n",
              "                                                    [key], {});\n",
              "        if (!dataTable) return;\n",
              "\n",
              "        const docLinkHtml = 'Like what you see? Visit the ' +\n",
              "          '<a target=\"_blank\" href=https://colab.research.google.com/notebooks/data_table.ipynb>data table notebook</a>'\n",
              "          + ' to learn more about interactive tables.';\n",
              "        element.innerHTML = '';\n",
              "        dataTable['output_type'] = 'display_data';\n",
              "        await google.colab.output.renderOutput(dataTable, element);\n",
              "        const docLink = document.createElement('div');\n",
              "        docLink.innerHTML = docLinkHtml;\n",
              "        element.appendChild(docLink);\n",
              "      }\n",
              "    </script>\n",
              "  </div>\n",
              "\n",
              "\n",
              "<div id=\"df-7f23e17e-0d5e-4a34-a184-955975e4896a\">\n",
              "  <button class=\"colab-df-quickchart\" onclick=\"quickchart('df-7f23e17e-0d5e-4a34-a184-955975e4896a')\"\n",
              "            title=\"Suggest charts\"\n",
              "            style=\"display:none;\">\n",
              "\n",
              "<svg xmlns=\"http://www.w3.org/2000/svg\" height=\"24px\"viewBox=\"0 0 24 24\"\n",
              "     width=\"24px\">\n",
              "    <g>\n",
              "        <path d=\"M19 3H5c-1.1 0-2 .9-2 2v14c0 1.1.9 2 2 2h14c1.1 0 2-.9 2-2V5c0-1.1-.9-2-2-2zM9 17H7v-7h2v7zm4 0h-2V7h2v10zm4 0h-2v-4h2v4z\"/>\n",
              "    </g>\n",
              "</svg>\n",
              "  </button>\n",
              "\n",
              "<style>\n",
              "  .colab-df-quickchart {\n",
              "      --bg-color: #E8F0FE;\n",
              "      --fill-color: #1967D2;\n",
              "      --hover-bg-color: #E2EBFA;\n",
              "      --hover-fill-color: #174EA6;\n",
              "      --disabled-fill-color: #AAA;\n",
              "      --disabled-bg-color: #DDD;\n",
              "  }\n",
              "\n",
              "  [theme=dark] .colab-df-quickchart {\n",
              "      --bg-color: #3B4455;\n",
              "      --fill-color: #D2E3FC;\n",
              "      --hover-bg-color: #434B5C;\n",
              "      --hover-fill-color: #FFFFFF;\n",
              "      --disabled-bg-color: #3B4455;\n",
              "      --disabled-fill-color: #666;\n",
              "  }\n",
              "\n",
              "  .colab-df-quickchart {\n",
              "    background-color: var(--bg-color);\n",
              "    border: none;\n",
              "    border-radius: 50%;\n",
              "    cursor: pointer;\n",
              "    display: none;\n",
              "    fill: var(--fill-color);\n",
              "    height: 32px;\n",
              "    padding: 0;\n",
              "    width: 32px;\n",
              "  }\n",
              "\n",
              "  .colab-df-quickchart:hover {\n",
              "    background-color: var(--hover-bg-color);\n",
              "    box-shadow: 0 1px 2px rgba(60, 64, 67, 0.3), 0 1px 3px 1px rgba(60, 64, 67, 0.15);\n",
              "    fill: var(--button-hover-fill-color);\n",
              "  }\n",
              "\n",
              "  .colab-df-quickchart-complete:disabled,\n",
              "  .colab-df-quickchart-complete:disabled:hover {\n",
              "    background-color: var(--disabled-bg-color);\n",
              "    fill: var(--disabled-fill-color);\n",
              "    box-shadow: none;\n",
              "  }\n",
              "\n",
              "  .colab-df-spinner {\n",
              "    border: 2px solid var(--fill-color);\n",
              "    border-color: transparent;\n",
              "    border-bottom-color: var(--fill-color);\n",
              "    animation:\n",
              "      spin 1s steps(1) infinite;\n",
              "  }\n",
              "\n",
              "  @keyframes spin {\n",
              "    0% {\n",
              "      border-color: transparent;\n",
              "      border-bottom-color: var(--fill-color);\n",
              "      border-left-color: var(--fill-color);\n",
              "    }\n",
              "    20% {\n",
              "      border-color: transparent;\n",
              "      border-left-color: var(--fill-color);\n",
              "      border-top-color: var(--fill-color);\n",
              "    }\n",
              "    30% {\n",
              "      border-color: transparent;\n",
              "      border-left-color: var(--fill-color);\n",
              "      border-top-color: var(--fill-color);\n",
              "      border-right-color: var(--fill-color);\n",
              "    }\n",
              "    40% {\n",
              "      border-color: transparent;\n",
              "      border-right-color: var(--fill-color);\n",
              "      border-top-color: var(--fill-color);\n",
              "    }\n",
              "    60% {\n",
              "      border-color: transparent;\n",
              "      border-right-color: var(--fill-color);\n",
              "    }\n",
              "    80% {\n",
              "      border-color: transparent;\n",
              "      border-right-color: var(--fill-color);\n",
              "      border-bottom-color: var(--fill-color);\n",
              "    }\n",
              "    90% {\n",
              "      border-color: transparent;\n",
              "      border-bottom-color: var(--fill-color);\n",
              "    }\n",
              "  }\n",
              "</style>\n",
              "\n",
              "  <script>\n",
              "    async function quickchart(key) {\n",
              "      const quickchartButtonEl =\n",
              "        document.querySelector('#' + key + ' button');\n",
              "      quickchartButtonEl.disabled = true;  // To prevent multiple clicks.\n",
              "      quickchartButtonEl.classList.add('colab-df-spinner');\n",
              "      try {\n",
              "        const charts = await google.colab.kernel.invokeFunction(\n",
              "            'suggestCharts', [key], {});\n",
              "      } catch (error) {\n",
              "        console.error('Error during call to suggestCharts:', error);\n",
              "      }\n",
              "      quickchartButtonEl.classList.remove('colab-df-spinner');\n",
              "      quickchartButtonEl.classList.add('colab-df-quickchart-complete');\n",
              "    }\n",
              "    (() => {\n",
              "      let quickchartButtonEl =\n",
              "        document.querySelector('#df-7f23e17e-0d5e-4a34-a184-955975e4896a button');\n",
              "      quickchartButtonEl.style.display =\n",
              "        google.colab.kernel.accessAllowed ? 'block' : 'none';\n",
              "    })();\n",
              "  </script>\n",
              "</div>\n",
              "    </div>\n",
              "  </div>\n"
            ],
            "application/vnd.google.colaboratory.intrinsic+json": {
              "type": "dataframe",
              "variable_name": "dichotomous",
              "summary": "{\n  \"name\": \"dichotomous\",\n  \"rows\": 332,\n  \"fields\": [\n    {\n      \"column\": \"BDI.1\",\n      \"properties\": {\n        \"dtype\": \"number\",\n        \"std\": 0,\n        \"min\": 0,\n        \"max\": 1,\n        \"num_unique_values\": 2,\n        \"samples\": [\n          0,\n          1\n        ],\n        \"semantic_type\": \"\",\n        \"description\": \"\"\n      }\n    },\n    {\n      \"column\": \"BDI.2\",\n      \"properties\": {\n        \"dtype\": \"number\",\n        \"std\": 0,\n        \"min\": 0,\n        \"max\": 1,\n        \"num_unique_values\": 2,\n        \"samples\": [\n          1,\n          0\n        ],\n        \"semantic_type\": \"\",\n        \"description\": \"\"\n      }\n    },\n    {\n      \"column\": \"BDI.6\",\n      \"properties\": {\n        \"dtype\": \"number\",\n        \"std\": 0,\n        \"min\": 0,\n        \"max\": 1,\n        \"num_unique_values\": 2,\n        \"samples\": [\n          1,\n          0\n        ],\n        \"semantic_type\": \"\",\n        \"description\": \"\"\n      }\n    },\n    {\n      \"column\": \"BDI.7\",\n      \"properties\": {\n        \"dtype\": \"number\",\n        \"std\": 0,\n        \"min\": 0,\n        \"max\": 1,\n        \"num_unique_values\": 2,\n        \"samples\": [\n          1,\n          0\n        ],\n        \"semantic_type\": \"\",\n        \"description\": \"\"\n      }\n    }\n  ]\n}"
            }
          },
          "metadata": {},
          "execution_count": 12
        }
      ]
    },
    {
      "cell_type": "markdown",
      "source": [
        "---\n",
        "\n",
        "* Применить критерии Мак-Немара (первая и последняя точки наблюдения) и Кохрена\n",
        "для проверки значимости изменений в динамике.\n",
        "\n",
        "---"
      ],
      "metadata": {
        "id": "nXP2qxCSIfZ8"
      }
    },
    {
      "cell_type": "markdown",
      "source": [
        "*Критерий Мак-Немара (первая и последняя точки наблюдения)*"
      ],
      "metadata": {
        "id": "caoZGJcqDPHH"
      }
    },
    {
      "cell_type": "code",
      "source": [
        "# Подготовка данных для критерия Мак-Немара (первая и последняя точки)\n",
        "data_for_mcnemar = dichotomous.dropna(subset=['BDI.1', 'BDI.7'])\n",
        "\n",
        "# Применение критерия Мак-Немара\n",
        "contingency_table = pd.crosstab(data_for_mcnemar['BDI.1'], data_for_mcnemar['BDI.7'])\n",
        "mcnemar_test = mcnemar(contingency_table, exact=False, correction=True)\n",
        "mcnemar_result = (mcnemar_test.statistic, mcnemar_test.pvalue)\n",
        "\n",
        "mcnemar_result"
      ],
      "metadata": {
        "id": "PjSs6bKt6eQQ",
        "colab": {
          "base_uri": "https://localhost:8080/"
        },
        "outputId": "fea21377-146b-4493-94e9-4610540ab73f"
      },
      "execution_count": null,
      "outputs": [
        {
          "output_type": "execute_result",
          "data": {
            "text/plain": [
              "(65.36170212765957, 6.233865540949093e-16)"
            ]
          },
          "metadata": {},
          "execution_count": 13
        }
      ]
    },
    {
      "cell_type": "markdown",
      "source": [
        "Критерий Мак-Немара показал значимые изменения между первой (BDI.1) и последней (BDI.7) точками наблюдения с низким p-значением, что указывает на статистическую значимость изменений."
      ],
      "metadata": {
        "id": "rjLZnPQ8IEqb"
      }
    },
    {
      "cell_type": "markdown",
      "source": [
        "*Критерий Кохрена*"
      ],
      "metadata": {
        "id": "Y7qvYePyGd9c"
      }
    },
    {
      "cell_type": "code",
      "source": [
        "# Применение критерия Кохрена\n",
        "cochran_test = cochrans_q(dichotomous)\n",
        "cochran_result = (cochran_test.statistic, cochran_test.pvalue)\n",
        "\n",
        "cochran_result"
      ],
      "metadata": {
        "id": "F_iP62lHr0VV",
        "colab": {
          "base_uri": "https://localhost:8080/"
        },
        "outputId": "9b2dcb4c-817b-4d19-c6e3-9f88509f9ef0"
      },
      "execution_count": null,
      "outputs": [
        {
          "output_type": "execute_result",
          "data": {
            "text/plain": [
              "(124.15950920245399, 9.805997076698726e-27)"
            ]
          },
          "metadata": {},
          "execution_count": 14
        }
      ]
    },
    {
      "cell_type": "markdown",
      "source": [
        "Критерий Кохрена также показал значимые изменения в динамике между всеми четырьмя точками (BDI.1, BDI.2, BDI.6, BDI.7) с низким p-значением, что говорит о статистической значимости наблюдаемых изменений."
      ],
      "metadata": {
        "id": "-FVun8ChIUzF"
      }
    },
    {
      "cell_type": "markdown",
      "source": [
        "---\n",
        "\n",
        "* Для первых двух зависимых переменных (BDI.1, BDI.2, данные dataNF.xls) проверить\n",
        "однородность изменений во времени по критерию Стьюдента для зависимых\n",
        "выборок и по ранговому критерию Вилкоксона.\n",
        "\n",
        "---"
      ],
      "metadata": {
        "id": "RHApO1c-Ip0-"
      }
    },
    {
      "cell_type": "code",
      "source": [
        "# Подготовка данных\n",
        "features = ['BDI.1', 'BDI.2']\n",
        "filtered_data = datas[features].dropna()"
      ],
      "metadata": {
        "id": "9oRy_4SxIpgc"
      },
      "execution_count": null,
      "outputs": []
    },
    {
      "cell_type": "markdown",
      "source": [
        "*Критерий Стьюдента*"
      ],
      "metadata": {
        "id": "38NTMlb8LJ1J"
      }
    },
    {
      "cell_type": "code",
      "source": [
        "# Критерий Стьюдента для зависимых выборок\n",
        "t_test_results = ttest_rel(filtered_data['BDI.1'], filtered_data['BDI.2'])\n",
        "t_test_results"
      ],
      "metadata": {
        "colab": {
          "base_uri": "https://localhost:8080/"
        },
        "id": "0ZcfkK-NIpdj",
        "outputId": "38690231-f1b8-4a6f-a571-308a5136ba3d"
      },
      "execution_count": null,
      "outputs": [
        {
          "output_type": "execute_result",
          "data": {
            "text/plain": [
              "TtestResult(statistic=16.66759142952914, pvalue=1.024445568287824e-45, df=331)"
            ]
          },
          "metadata": {},
          "execution_count": 16
        }
      ]
    },
    {
      "cell_type": "markdown",
      "source": [
        "Критерий Стьюдента для зависимых выборок показал значимое различие между признаками BDI.1 и BDI.2, что указывает на то, что средние значения между этими двумя точками времени статистически значимо различаются."
      ],
      "metadata": {
        "id": "93jlQF81Lthc"
      }
    },
    {
      "cell_type": "markdown",
      "source": [
        "*Критерий Вилкоксона*"
      ],
      "metadata": {
        "id": "HTBqLFLWLiRN"
      }
    },
    {
      "cell_type": "code",
      "source": [
        "# Критерий Вилкоксона\n",
        "wilcoxon_results = wilcoxon(filtered_data['BDI.1'], filtered_data['BDI.2'])\n",
        "wilcoxon_results"
      ],
      "metadata": {
        "colab": {
          "base_uri": "https://localhost:8080/"
        },
        "id": "x9TEVb38LgzM",
        "outputId": "9483ca68-7c36-45d4-92a0-252dc013bcc0"
      },
      "execution_count": null,
      "outputs": [
        {
          "output_type": "execute_result",
          "data": {
            "text/plain": [
              "WilcoxonResult(statistic=4570.5, pvalue=2.995784773997346e-38)"
            ]
          },
          "metadata": {},
          "execution_count": 17
        }
      ]
    },
    {
      "cell_type": "markdown",
      "source": [
        "Критерий Вилкоксона также показал значимые различия между BDI.1 и BDI.2, что подтверждает наличие значимых изменений между этими двумя моментами времени."
      ],
      "metadata": {
        "id": "Jxfym6nML5Bb"
      }
    },
    {
      "cell_type": "markdown",
      "source": [
        "---\n",
        "\n",
        "* Для зависимых переменных (BDI.1, BDI.2, BDI.6, BDI.7, данные dataNF.xls) с факторами PRCOD.1 и SEX.1 выполнить ANOVA Repeated Measures. Проверить значимость факторов PRCOD.1 и SEX.1, времени и эффектов взаимодействия. В выводах должны быть представлены средние, р-значения и фраза о том, с различие значимо или может быть объяснено случайностью и с каким уровнем значимости.\n",
        "\n",
        "---"
      ],
      "metadata": {
        "id": "5_1UN3XDMjsM"
      }
    },
    {
      "cell_type": "code",
      "source": [
        "# Переименование колонок для избежания проблем с \".\" в имени признака\n",
        "new_column_names = {'BDI.1': 'BDI_1', 'BDI.2': 'BDI_2', 'BDI.6': 'BDI_6', 'BDI.7': 'BDI_7',\n",
        "                    'PRCOD.1': 'PRCOD_1', 'SEX.1': 'SEX_1'}\n",
        "datas = datas.rename(columns=new_column_names)\n",
        "datas.head()"
      ],
      "metadata": {
        "colab": {
          "base_uri": "https://localhost:8080/",
          "height": 206
        },
        "id": "uyqZf7xcIpZ8",
        "outputId": "35778c4b-ea5a-4db6-959f-5e719cb3713f"
      },
      "execution_count": null,
      "outputs": [
        {
          "output_type": "execute_result",
          "data": {
            "text/plain": [
              "           PRCOD_1   SEX_1     BDI_1      BDI_2     BDI_6     BDI_7\n",
              "0  Placebo+Placebo    male  20.35061  13.003984  5.427536  4.664062\n",
              "1   Placebo+Framex    male  18.00000   5.000000  5.427536  4.664062\n",
              "2      NLTX+Framex  female  12.00000   8.000000  5.427536  4.664062\n",
              "3   Placebo+Framex    male  14.00000  12.000000  5.427536  4.664062\n",
              "4     NLTX+Placebo    male  19.00000   7.000000  0.000000  4.664062"
            ],
            "text/html": [
              "\n",
              "  <div id=\"df-1301f7dd-ce23-49d8-893c-c56f826762bf\" class=\"colab-df-container\">\n",
              "    <div>\n",
              "<style scoped>\n",
              "    .dataframe tbody tr th:only-of-type {\n",
              "        vertical-align: middle;\n",
              "    }\n",
              "\n",
              "    .dataframe tbody tr th {\n",
              "        vertical-align: top;\n",
              "    }\n",
              "\n",
              "    .dataframe thead th {\n",
              "        text-align: right;\n",
              "    }\n",
              "</style>\n",
              "<table border=\"1\" class=\"dataframe\">\n",
              "  <thead>\n",
              "    <tr style=\"text-align: right;\">\n",
              "      <th></th>\n",
              "      <th>PRCOD_1</th>\n",
              "      <th>SEX_1</th>\n",
              "      <th>BDI_1</th>\n",
              "      <th>BDI_2</th>\n",
              "      <th>BDI_6</th>\n",
              "      <th>BDI_7</th>\n",
              "    </tr>\n",
              "  </thead>\n",
              "  <tbody>\n",
              "    <tr>\n",
              "      <th>0</th>\n",
              "      <td>Placebo+Placebo</td>\n",
              "      <td>male</td>\n",
              "      <td>20.35061</td>\n",
              "      <td>13.003984</td>\n",
              "      <td>5.427536</td>\n",
              "      <td>4.664062</td>\n",
              "    </tr>\n",
              "    <tr>\n",
              "      <th>1</th>\n",
              "      <td>Placebo+Framex</td>\n",
              "      <td>male</td>\n",
              "      <td>18.00000</td>\n",
              "      <td>5.000000</td>\n",
              "      <td>5.427536</td>\n",
              "      <td>4.664062</td>\n",
              "    </tr>\n",
              "    <tr>\n",
              "      <th>2</th>\n",
              "      <td>NLTX+Framex</td>\n",
              "      <td>female</td>\n",
              "      <td>12.00000</td>\n",
              "      <td>8.000000</td>\n",
              "      <td>5.427536</td>\n",
              "      <td>4.664062</td>\n",
              "    </tr>\n",
              "    <tr>\n",
              "      <th>3</th>\n",
              "      <td>Placebo+Framex</td>\n",
              "      <td>male</td>\n",
              "      <td>14.00000</td>\n",
              "      <td>12.000000</td>\n",
              "      <td>5.427536</td>\n",
              "      <td>4.664062</td>\n",
              "    </tr>\n",
              "    <tr>\n",
              "      <th>4</th>\n",
              "      <td>NLTX+Placebo</td>\n",
              "      <td>male</td>\n",
              "      <td>19.00000</td>\n",
              "      <td>7.000000</td>\n",
              "      <td>0.000000</td>\n",
              "      <td>4.664062</td>\n",
              "    </tr>\n",
              "  </tbody>\n",
              "</table>\n",
              "</div>\n",
              "    <div class=\"colab-df-buttons\">\n",
              "\n",
              "  <div class=\"colab-df-container\">\n",
              "    <button class=\"colab-df-convert\" onclick=\"convertToInteractive('df-1301f7dd-ce23-49d8-893c-c56f826762bf')\"\n",
              "            title=\"Convert this dataframe to an interactive table.\"\n",
              "            style=\"display:none;\">\n",
              "\n",
              "  <svg xmlns=\"http://www.w3.org/2000/svg\" height=\"24px\" viewBox=\"0 -960 960 960\">\n",
              "    <path d=\"M120-120v-720h720v720H120Zm60-500h600v-160H180v160Zm220 220h160v-160H400v160Zm0 220h160v-160H400v160ZM180-400h160v-160H180v160Zm440 0h160v-160H620v160ZM180-180h160v-160H180v160Zm440 0h160v-160H620v160Z\"/>\n",
              "  </svg>\n",
              "    </button>\n",
              "\n",
              "  <style>\n",
              "    .colab-df-container {\n",
              "      display:flex;\n",
              "      gap: 12px;\n",
              "    }\n",
              "\n",
              "    .colab-df-convert {\n",
              "      background-color: #E8F0FE;\n",
              "      border: none;\n",
              "      border-radius: 50%;\n",
              "      cursor: pointer;\n",
              "      display: none;\n",
              "      fill: #1967D2;\n",
              "      height: 32px;\n",
              "      padding: 0 0 0 0;\n",
              "      width: 32px;\n",
              "    }\n",
              "\n",
              "    .colab-df-convert:hover {\n",
              "      background-color: #E2EBFA;\n",
              "      box-shadow: 0px 1px 2px rgba(60, 64, 67, 0.3), 0px 1px 3px 1px rgba(60, 64, 67, 0.15);\n",
              "      fill: #174EA6;\n",
              "    }\n",
              "\n",
              "    .colab-df-buttons div {\n",
              "      margin-bottom: 4px;\n",
              "    }\n",
              "\n",
              "    [theme=dark] .colab-df-convert {\n",
              "      background-color: #3B4455;\n",
              "      fill: #D2E3FC;\n",
              "    }\n",
              "\n",
              "    [theme=dark] .colab-df-convert:hover {\n",
              "      background-color: #434B5C;\n",
              "      box-shadow: 0px 1px 3px 1px rgba(0, 0, 0, 0.15);\n",
              "      filter: drop-shadow(0px 1px 2px rgba(0, 0, 0, 0.3));\n",
              "      fill: #FFFFFF;\n",
              "    }\n",
              "  </style>\n",
              "\n",
              "    <script>\n",
              "      const buttonEl =\n",
              "        document.querySelector('#df-1301f7dd-ce23-49d8-893c-c56f826762bf button.colab-df-convert');\n",
              "      buttonEl.style.display =\n",
              "        google.colab.kernel.accessAllowed ? 'block' : 'none';\n",
              "\n",
              "      async function convertToInteractive(key) {\n",
              "        const element = document.querySelector('#df-1301f7dd-ce23-49d8-893c-c56f826762bf');\n",
              "        const dataTable =\n",
              "          await google.colab.kernel.invokeFunction('convertToInteractive',\n",
              "                                                    [key], {});\n",
              "        if (!dataTable) return;\n",
              "\n",
              "        const docLinkHtml = 'Like what you see? Visit the ' +\n",
              "          '<a target=\"_blank\" href=https://colab.research.google.com/notebooks/data_table.ipynb>data table notebook</a>'\n",
              "          + ' to learn more about interactive tables.';\n",
              "        element.innerHTML = '';\n",
              "        dataTable['output_type'] = 'display_data';\n",
              "        await google.colab.output.renderOutput(dataTable, element);\n",
              "        const docLink = document.createElement('div');\n",
              "        docLink.innerHTML = docLinkHtml;\n",
              "        element.appendChild(docLink);\n",
              "      }\n",
              "    </script>\n",
              "  </div>\n",
              "\n",
              "\n",
              "<div id=\"df-73543865-084e-475c-be80-ab11167ae210\">\n",
              "  <button class=\"colab-df-quickchart\" onclick=\"quickchart('df-73543865-084e-475c-be80-ab11167ae210')\"\n",
              "            title=\"Suggest charts\"\n",
              "            style=\"display:none;\">\n",
              "\n",
              "<svg xmlns=\"http://www.w3.org/2000/svg\" height=\"24px\"viewBox=\"0 0 24 24\"\n",
              "     width=\"24px\">\n",
              "    <g>\n",
              "        <path d=\"M19 3H5c-1.1 0-2 .9-2 2v14c0 1.1.9 2 2 2h14c1.1 0 2-.9 2-2V5c0-1.1-.9-2-2-2zM9 17H7v-7h2v7zm4 0h-2V7h2v10zm4 0h-2v-4h2v4z\"/>\n",
              "    </g>\n",
              "</svg>\n",
              "  </button>\n",
              "\n",
              "<style>\n",
              "  .colab-df-quickchart {\n",
              "      --bg-color: #E8F0FE;\n",
              "      --fill-color: #1967D2;\n",
              "      --hover-bg-color: #E2EBFA;\n",
              "      --hover-fill-color: #174EA6;\n",
              "      --disabled-fill-color: #AAA;\n",
              "      --disabled-bg-color: #DDD;\n",
              "  }\n",
              "\n",
              "  [theme=dark] .colab-df-quickchart {\n",
              "      --bg-color: #3B4455;\n",
              "      --fill-color: #D2E3FC;\n",
              "      --hover-bg-color: #434B5C;\n",
              "      --hover-fill-color: #FFFFFF;\n",
              "      --disabled-bg-color: #3B4455;\n",
              "      --disabled-fill-color: #666;\n",
              "  }\n",
              "\n",
              "  .colab-df-quickchart {\n",
              "    background-color: var(--bg-color);\n",
              "    border: none;\n",
              "    border-radius: 50%;\n",
              "    cursor: pointer;\n",
              "    display: none;\n",
              "    fill: var(--fill-color);\n",
              "    height: 32px;\n",
              "    padding: 0;\n",
              "    width: 32px;\n",
              "  }\n",
              "\n",
              "  .colab-df-quickchart:hover {\n",
              "    background-color: var(--hover-bg-color);\n",
              "    box-shadow: 0 1px 2px rgba(60, 64, 67, 0.3), 0 1px 3px 1px rgba(60, 64, 67, 0.15);\n",
              "    fill: var(--button-hover-fill-color);\n",
              "  }\n",
              "\n",
              "  .colab-df-quickchart-complete:disabled,\n",
              "  .colab-df-quickchart-complete:disabled:hover {\n",
              "    background-color: var(--disabled-bg-color);\n",
              "    fill: var(--disabled-fill-color);\n",
              "    box-shadow: none;\n",
              "  }\n",
              "\n",
              "  .colab-df-spinner {\n",
              "    border: 2px solid var(--fill-color);\n",
              "    border-color: transparent;\n",
              "    border-bottom-color: var(--fill-color);\n",
              "    animation:\n",
              "      spin 1s steps(1) infinite;\n",
              "  }\n",
              "\n",
              "  @keyframes spin {\n",
              "    0% {\n",
              "      border-color: transparent;\n",
              "      border-bottom-color: var(--fill-color);\n",
              "      border-left-color: var(--fill-color);\n",
              "    }\n",
              "    20% {\n",
              "      border-color: transparent;\n",
              "      border-left-color: var(--fill-color);\n",
              "      border-top-color: var(--fill-color);\n",
              "    }\n",
              "    30% {\n",
              "      border-color: transparent;\n",
              "      border-left-color: var(--fill-color);\n",
              "      border-top-color: var(--fill-color);\n",
              "      border-right-color: var(--fill-color);\n",
              "    }\n",
              "    40% {\n",
              "      border-color: transparent;\n",
              "      border-right-color: var(--fill-color);\n",
              "      border-top-color: var(--fill-color);\n",
              "    }\n",
              "    60% {\n",
              "      border-color: transparent;\n",
              "      border-right-color: var(--fill-color);\n",
              "    }\n",
              "    80% {\n",
              "      border-color: transparent;\n",
              "      border-right-color: var(--fill-color);\n",
              "      border-bottom-color: var(--fill-color);\n",
              "    }\n",
              "    90% {\n",
              "      border-color: transparent;\n",
              "      border-bottom-color: var(--fill-color);\n",
              "    }\n",
              "  }\n",
              "</style>\n",
              "\n",
              "  <script>\n",
              "    async function quickchart(key) {\n",
              "      const quickchartButtonEl =\n",
              "        document.querySelector('#' + key + ' button');\n",
              "      quickchartButtonEl.disabled = true;  // To prevent multiple clicks.\n",
              "      quickchartButtonEl.classList.add('colab-df-spinner');\n",
              "      try {\n",
              "        const charts = await google.colab.kernel.invokeFunction(\n",
              "            'suggestCharts', [key], {});\n",
              "      } catch (error) {\n",
              "        console.error('Error during call to suggestCharts:', error);\n",
              "      }\n",
              "      quickchartButtonEl.classList.remove('colab-df-spinner');\n",
              "      quickchartButtonEl.classList.add('colab-df-quickchart-complete');\n",
              "    }\n",
              "    (() => {\n",
              "      let quickchartButtonEl =\n",
              "        document.querySelector('#df-73543865-084e-475c-be80-ab11167ae210 button');\n",
              "      quickchartButtonEl.style.display =\n",
              "        google.colab.kernel.accessAllowed ? 'block' : 'none';\n",
              "    })();\n",
              "  </script>\n",
              "</div>\n",
              "    </div>\n",
              "  </div>\n"
            ],
            "application/vnd.google.colaboratory.intrinsic+json": {
              "type": "dataframe",
              "variable_name": "datas",
              "summary": "{\n  \"name\": \"datas\",\n  \"rows\": 332,\n  \"fields\": [\n    {\n      \"column\": \"PRCOD_1\",\n      \"properties\": {\n        \"dtype\": \"category\",\n        \"num_unique_values\": 4,\n        \"samples\": [\n          \"Placebo+Framex\",\n          \"NLTX+Placebo\",\n          \"Placebo+Placebo\"\n        ],\n        \"semantic_type\": \"\",\n        \"description\": \"\"\n      }\n    },\n    {\n      \"column\": \"SEX_1\",\n      \"properties\": {\n        \"dtype\": \"category\",\n        \"num_unique_values\": 2,\n        \"samples\": [\n          \"female\",\n          \"male\"\n        ],\n        \"semantic_type\": \"\",\n        \"description\": \"\"\n      }\n    },\n    {\n      \"column\": \"BDI_1\",\n      \"properties\": {\n        \"dtype\": \"number\",\n        \"std\": 8.651123231483327,\n        \"min\": 2.0,\n        \"max\": 48.0,\n        \"num_unique_values\": 43,\n        \"samples\": [\n          38.0,\n          15.0\n        ],\n        \"semantic_type\": \"\",\n        \"description\": \"\"\n      }\n    },\n    {\n      \"column\": \"BDI_2\",\n      \"properties\": {\n        \"dtype\": \"number\",\n        \"std\": 6.923622162913882,\n        \"min\": 1.0,\n        \"max\": 44.0,\n        \"num_unique_values\": 36,\n        \"samples\": [\n          41.0,\n          27.0\n        ],\n        \"semantic_type\": \"\",\n        \"description\": \"\"\n      }\n    },\n    {\n      \"column\": \"BDI_6\",\n      \"properties\": {\n        \"dtype\": \"number\",\n        \"std\": 3.8966153731824975,\n        \"min\": 0.0,\n        \"max\": 33.0,\n        \"num_unique_values\": 22,\n        \"samples\": [\n          5.427536231884058,\n          16.0\n        ],\n        \"semantic_type\": \"\",\n        \"description\": \"\"\n      }\n    },\n    {\n      \"column\": \"BDI_7\",\n      \"properties\": {\n        \"dtype\": \"number\",\n        \"std\": 3.3526625967901107,\n        \"min\": 0.0,\n        \"max\": 23.0,\n        \"num_unique_values\": 21,\n        \"samples\": [\n          4.6640625,\n          11.0\n        ],\n        \"semantic_type\": \"\",\n        \"description\": \"\"\n      }\n    }\n  ]\n}"
            }
          },
          "metadata": {},
          "execution_count": 39
        }
      ]
    },
    {
      "cell_type": "code",
      "source": [
        "# Преобразуем данные в формат для анализа\n",
        "long_data = pd.melt(datas, id_vars=['PRCOD_1', 'SEX_1'], value_vars=['BDI_1', 'BDI_2', 'BDI_6', 'BDI_7'],\n",
        "                    var_name='Time', value_name='BDI')\n",
        "\n",
        "# Преобразуем время в категориальный тип\n",
        "long_data['Time'] = long_data['Time'].astype('category')\n",
        "\n",
        "long_data"
      ],
      "metadata": {
        "colab": {
          "base_uri": "https://localhost:8080/",
          "height": 423
        },
        "id": "3QR60tR4Iqtt",
        "outputId": "99708de2-4859-47e7-fb13-1ff0f23e4f59"
      },
      "execution_count": null,
      "outputs": [
        {
          "output_type": "execute_result",
          "data": {
            "text/plain": [
              "              PRCOD_1   SEX_1   Time        BDI\n",
              "0     Placebo+Placebo    male  BDI_1  20.350610\n",
              "1      Placebo+Framex    male  BDI_1  18.000000\n",
              "2         NLTX+Framex  female  BDI_1  12.000000\n",
              "3      Placebo+Framex    male  BDI_1  14.000000\n",
              "4        NLTX+Placebo    male  BDI_1  19.000000\n",
              "...               ...     ...    ...        ...\n",
              "1323  Placebo+Placebo    male  BDI_7   7.000000\n",
              "1324     NLTX+Placebo    male  BDI_7   4.664062\n",
              "1325     NLTX+Placebo    male  BDI_7  16.000000\n",
              "1326     NLTX+Placebo    male  BDI_7   0.000000\n",
              "1327  Placebo+Placebo  female  BDI_7   6.000000\n",
              "\n",
              "[1328 rows x 4 columns]"
            ],
            "text/html": [
              "\n",
              "  <div id=\"df-6a0b0bb0-ee69-457b-ab6c-c5a2ad31075a\" class=\"colab-df-container\">\n",
              "    <div>\n",
              "<style scoped>\n",
              "    .dataframe tbody tr th:only-of-type {\n",
              "        vertical-align: middle;\n",
              "    }\n",
              "\n",
              "    .dataframe tbody tr th {\n",
              "        vertical-align: top;\n",
              "    }\n",
              "\n",
              "    .dataframe thead th {\n",
              "        text-align: right;\n",
              "    }\n",
              "</style>\n",
              "<table border=\"1\" class=\"dataframe\">\n",
              "  <thead>\n",
              "    <tr style=\"text-align: right;\">\n",
              "      <th></th>\n",
              "      <th>PRCOD_1</th>\n",
              "      <th>SEX_1</th>\n",
              "      <th>Time</th>\n",
              "      <th>BDI</th>\n",
              "    </tr>\n",
              "  </thead>\n",
              "  <tbody>\n",
              "    <tr>\n",
              "      <th>0</th>\n",
              "      <td>Placebo+Placebo</td>\n",
              "      <td>male</td>\n",
              "      <td>BDI_1</td>\n",
              "      <td>20.350610</td>\n",
              "    </tr>\n",
              "    <tr>\n",
              "      <th>1</th>\n",
              "      <td>Placebo+Framex</td>\n",
              "      <td>male</td>\n",
              "      <td>BDI_1</td>\n",
              "      <td>18.000000</td>\n",
              "    </tr>\n",
              "    <tr>\n",
              "      <th>2</th>\n",
              "      <td>NLTX+Framex</td>\n",
              "      <td>female</td>\n",
              "      <td>BDI_1</td>\n",
              "      <td>12.000000</td>\n",
              "    </tr>\n",
              "    <tr>\n",
              "      <th>3</th>\n",
              "      <td>Placebo+Framex</td>\n",
              "      <td>male</td>\n",
              "      <td>BDI_1</td>\n",
              "      <td>14.000000</td>\n",
              "    </tr>\n",
              "    <tr>\n",
              "      <th>4</th>\n",
              "      <td>NLTX+Placebo</td>\n",
              "      <td>male</td>\n",
              "      <td>BDI_1</td>\n",
              "      <td>19.000000</td>\n",
              "    </tr>\n",
              "    <tr>\n",
              "      <th>...</th>\n",
              "      <td>...</td>\n",
              "      <td>...</td>\n",
              "      <td>...</td>\n",
              "      <td>...</td>\n",
              "    </tr>\n",
              "    <tr>\n",
              "      <th>1323</th>\n",
              "      <td>Placebo+Placebo</td>\n",
              "      <td>male</td>\n",
              "      <td>BDI_7</td>\n",
              "      <td>7.000000</td>\n",
              "    </tr>\n",
              "    <tr>\n",
              "      <th>1324</th>\n",
              "      <td>NLTX+Placebo</td>\n",
              "      <td>male</td>\n",
              "      <td>BDI_7</td>\n",
              "      <td>4.664062</td>\n",
              "    </tr>\n",
              "    <tr>\n",
              "      <th>1325</th>\n",
              "      <td>NLTX+Placebo</td>\n",
              "      <td>male</td>\n",
              "      <td>BDI_7</td>\n",
              "      <td>16.000000</td>\n",
              "    </tr>\n",
              "    <tr>\n",
              "      <th>1326</th>\n",
              "      <td>NLTX+Placebo</td>\n",
              "      <td>male</td>\n",
              "      <td>BDI_7</td>\n",
              "      <td>0.000000</td>\n",
              "    </tr>\n",
              "    <tr>\n",
              "      <th>1327</th>\n",
              "      <td>Placebo+Placebo</td>\n",
              "      <td>female</td>\n",
              "      <td>BDI_7</td>\n",
              "      <td>6.000000</td>\n",
              "    </tr>\n",
              "  </tbody>\n",
              "</table>\n",
              "<p>1328 rows × 4 columns</p>\n",
              "</div>\n",
              "    <div class=\"colab-df-buttons\">\n",
              "\n",
              "  <div class=\"colab-df-container\">\n",
              "    <button class=\"colab-df-convert\" onclick=\"convertToInteractive('df-6a0b0bb0-ee69-457b-ab6c-c5a2ad31075a')\"\n",
              "            title=\"Convert this dataframe to an interactive table.\"\n",
              "            style=\"display:none;\">\n",
              "\n",
              "  <svg xmlns=\"http://www.w3.org/2000/svg\" height=\"24px\" viewBox=\"0 -960 960 960\">\n",
              "    <path d=\"M120-120v-720h720v720H120Zm60-500h600v-160H180v160Zm220 220h160v-160H400v160Zm0 220h160v-160H400v160ZM180-400h160v-160H180v160Zm440 0h160v-160H620v160ZM180-180h160v-160H180v160Zm440 0h160v-160H620v160Z\"/>\n",
              "  </svg>\n",
              "    </button>\n",
              "\n",
              "  <style>\n",
              "    .colab-df-container {\n",
              "      display:flex;\n",
              "      gap: 12px;\n",
              "    }\n",
              "\n",
              "    .colab-df-convert {\n",
              "      background-color: #E8F0FE;\n",
              "      border: none;\n",
              "      border-radius: 50%;\n",
              "      cursor: pointer;\n",
              "      display: none;\n",
              "      fill: #1967D2;\n",
              "      height: 32px;\n",
              "      padding: 0 0 0 0;\n",
              "      width: 32px;\n",
              "    }\n",
              "\n",
              "    .colab-df-convert:hover {\n",
              "      background-color: #E2EBFA;\n",
              "      box-shadow: 0px 1px 2px rgba(60, 64, 67, 0.3), 0px 1px 3px 1px rgba(60, 64, 67, 0.15);\n",
              "      fill: #174EA6;\n",
              "    }\n",
              "\n",
              "    .colab-df-buttons div {\n",
              "      margin-bottom: 4px;\n",
              "    }\n",
              "\n",
              "    [theme=dark] .colab-df-convert {\n",
              "      background-color: #3B4455;\n",
              "      fill: #D2E3FC;\n",
              "    }\n",
              "\n",
              "    [theme=dark] .colab-df-convert:hover {\n",
              "      background-color: #434B5C;\n",
              "      box-shadow: 0px 1px 3px 1px rgba(0, 0, 0, 0.15);\n",
              "      filter: drop-shadow(0px 1px 2px rgba(0, 0, 0, 0.3));\n",
              "      fill: #FFFFFF;\n",
              "    }\n",
              "  </style>\n",
              "\n",
              "    <script>\n",
              "      const buttonEl =\n",
              "        document.querySelector('#df-6a0b0bb0-ee69-457b-ab6c-c5a2ad31075a button.colab-df-convert');\n",
              "      buttonEl.style.display =\n",
              "        google.colab.kernel.accessAllowed ? 'block' : 'none';\n",
              "\n",
              "      async function convertToInteractive(key) {\n",
              "        const element = document.querySelector('#df-6a0b0bb0-ee69-457b-ab6c-c5a2ad31075a');\n",
              "        const dataTable =\n",
              "          await google.colab.kernel.invokeFunction('convertToInteractive',\n",
              "                                                    [key], {});\n",
              "        if (!dataTable) return;\n",
              "\n",
              "        const docLinkHtml = 'Like what you see? Visit the ' +\n",
              "          '<a target=\"_blank\" href=https://colab.research.google.com/notebooks/data_table.ipynb>data table notebook</a>'\n",
              "          + ' to learn more about interactive tables.';\n",
              "        element.innerHTML = '';\n",
              "        dataTable['output_type'] = 'display_data';\n",
              "        await google.colab.output.renderOutput(dataTable, element);\n",
              "        const docLink = document.createElement('div');\n",
              "        docLink.innerHTML = docLinkHtml;\n",
              "        element.appendChild(docLink);\n",
              "      }\n",
              "    </script>\n",
              "  </div>\n",
              "\n",
              "\n",
              "<div id=\"df-f18ea99a-6be0-4843-96e6-b71dcd09aafc\">\n",
              "  <button class=\"colab-df-quickchart\" onclick=\"quickchart('df-f18ea99a-6be0-4843-96e6-b71dcd09aafc')\"\n",
              "            title=\"Suggest charts\"\n",
              "            style=\"display:none;\">\n",
              "\n",
              "<svg xmlns=\"http://www.w3.org/2000/svg\" height=\"24px\"viewBox=\"0 0 24 24\"\n",
              "     width=\"24px\">\n",
              "    <g>\n",
              "        <path d=\"M19 3H5c-1.1 0-2 .9-2 2v14c0 1.1.9 2 2 2h14c1.1 0 2-.9 2-2V5c0-1.1-.9-2-2-2zM9 17H7v-7h2v7zm4 0h-2V7h2v10zm4 0h-2v-4h2v4z\"/>\n",
              "    </g>\n",
              "</svg>\n",
              "  </button>\n",
              "\n",
              "<style>\n",
              "  .colab-df-quickchart {\n",
              "      --bg-color: #E8F0FE;\n",
              "      --fill-color: #1967D2;\n",
              "      --hover-bg-color: #E2EBFA;\n",
              "      --hover-fill-color: #174EA6;\n",
              "      --disabled-fill-color: #AAA;\n",
              "      --disabled-bg-color: #DDD;\n",
              "  }\n",
              "\n",
              "  [theme=dark] .colab-df-quickchart {\n",
              "      --bg-color: #3B4455;\n",
              "      --fill-color: #D2E3FC;\n",
              "      --hover-bg-color: #434B5C;\n",
              "      --hover-fill-color: #FFFFFF;\n",
              "      --disabled-bg-color: #3B4455;\n",
              "      --disabled-fill-color: #666;\n",
              "  }\n",
              "\n",
              "  .colab-df-quickchart {\n",
              "    background-color: var(--bg-color);\n",
              "    border: none;\n",
              "    border-radius: 50%;\n",
              "    cursor: pointer;\n",
              "    display: none;\n",
              "    fill: var(--fill-color);\n",
              "    height: 32px;\n",
              "    padding: 0;\n",
              "    width: 32px;\n",
              "  }\n",
              "\n",
              "  .colab-df-quickchart:hover {\n",
              "    background-color: var(--hover-bg-color);\n",
              "    box-shadow: 0 1px 2px rgba(60, 64, 67, 0.3), 0 1px 3px 1px rgba(60, 64, 67, 0.15);\n",
              "    fill: var(--button-hover-fill-color);\n",
              "  }\n",
              "\n",
              "  .colab-df-quickchart-complete:disabled,\n",
              "  .colab-df-quickchart-complete:disabled:hover {\n",
              "    background-color: var(--disabled-bg-color);\n",
              "    fill: var(--disabled-fill-color);\n",
              "    box-shadow: none;\n",
              "  }\n",
              "\n",
              "  .colab-df-spinner {\n",
              "    border: 2px solid var(--fill-color);\n",
              "    border-color: transparent;\n",
              "    border-bottom-color: var(--fill-color);\n",
              "    animation:\n",
              "      spin 1s steps(1) infinite;\n",
              "  }\n",
              "\n",
              "  @keyframes spin {\n",
              "    0% {\n",
              "      border-color: transparent;\n",
              "      border-bottom-color: var(--fill-color);\n",
              "      border-left-color: var(--fill-color);\n",
              "    }\n",
              "    20% {\n",
              "      border-color: transparent;\n",
              "      border-left-color: var(--fill-color);\n",
              "      border-top-color: var(--fill-color);\n",
              "    }\n",
              "    30% {\n",
              "      border-color: transparent;\n",
              "      border-left-color: var(--fill-color);\n",
              "      border-top-color: var(--fill-color);\n",
              "      border-right-color: var(--fill-color);\n",
              "    }\n",
              "    40% {\n",
              "      border-color: transparent;\n",
              "      border-right-color: var(--fill-color);\n",
              "      border-top-color: var(--fill-color);\n",
              "    }\n",
              "    60% {\n",
              "      border-color: transparent;\n",
              "      border-right-color: var(--fill-color);\n",
              "    }\n",
              "    80% {\n",
              "      border-color: transparent;\n",
              "      border-right-color: var(--fill-color);\n",
              "      border-bottom-color: var(--fill-color);\n",
              "    }\n",
              "    90% {\n",
              "      border-color: transparent;\n",
              "      border-bottom-color: var(--fill-color);\n",
              "    }\n",
              "  }\n",
              "</style>\n",
              "\n",
              "  <script>\n",
              "    async function quickchart(key) {\n",
              "      const quickchartButtonEl =\n",
              "        document.querySelector('#' + key + ' button');\n",
              "      quickchartButtonEl.disabled = true;  // To prevent multiple clicks.\n",
              "      quickchartButtonEl.classList.add('colab-df-spinner');\n",
              "      try {\n",
              "        const charts = await google.colab.kernel.invokeFunction(\n",
              "            'suggestCharts', [key], {});\n",
              "      } catch (error) {\n",
              "        console.error('Error during call to suggestCharts:', error);\n",
              "      }\n",
              "      quickchartButtonEl.classList.remove('colab-df-spinner');\n",
              "      quickchartButtonEl.classList.add('colab-df-quickchart-complete');\n",
              "    }\n",
              "    (() => {\n",
              "      let quickchartButtonEl =\n",
              "        document.querySelector('#df-f18ea99a-6be0-4843-96e6-b71dcd09aafc button');\n",
              "      quickchartButtonEl.style.display =\n",
              "        google.colab.kernel.accessAllowed ? 'block' : 'none';\n",
              "    })();\n",
              "  </script>\n",
              "</div>\n",
              "    </div>\n",
              "  </div>\n"
            ],
            "application/vnd.google.colaboratory.intrinsic+json": {
              "type": "dataframe",
              "variable_name": "long_data",
              "summary": "{\n  \"name\": \"long_data\",\n  \"rows\": 1328,\n  \"fields\": [\n    {\n      \"column\": \"PRCOD_1\",\n      \"properties\": {\n        \"dtype\": \"category\",\n        \"num_unique_values\": 4,\n        \"samples\": [\n          \"Placebo+Framex\",\n          \"NLTX+Placebo\",\n          \"Placebo+Placebo\"\n        ],\n        \"semantic_type\": \"\",\n        \"description\": \"\"\n      }\n    },\n    {\n      \"column\": \"SEX_1\",\n      \"properties\": {\n        \"dtype\": \"category\",\n        \"num_unique_values\": 2,\n        \"samples\": [\n          \"female\",\n          \"male\"\n        ],\n        \"semantic_type\": \"\",\n        \"description\": \"\"\n      }\n    },\n    {\n      \"column\": \"Time\",\n      \"properties\": {\n        \"dtype\": \"category\",\n        \"num_unique_values\": 4,\n        \"samples\": [\n          \"BDI_2\",\n          \"BDI_7\"\n        ],\n        \"semantic_type\": \"\",\n        \"description\": \"\"\n      }\n    },\n    {\n      \"column\": \"BDI\",\n      \"properties\": {\n        \"dtype\": \"number\",\n        \"std\": 8.825492508180094,\n        \"min\": 0.0,\n        \"max\": 48.0,\n        \"num_unique_values\": 50,\n        \"samples\": [\n          24.0,\n          6.0\n        ],\n        \"semantic_type\": \"\",\n        \"description\": \"\"\n      }\n    }\n  ]\n}"
            }
          },
          "metadata": {},
          "execution_count": 40
        }
      ]
    },
    {
      "cell_type": "markdown",
      "source": [
        "*Выполнение ANOVA Repeated Measures*"
      ],
      "metadata": {
        "id": "YOrvcWz-5Gp9"
      }
    },
    {
      "cell_type": "code",
      "source": [
        "# Выполнение ANOVA Repeated Measures\n",
        "anova_results = AnovaRM(data=long_data, depvar='BDI', subject='PRCOD_1', within=['Time', 'SEX_1'], \\\n",
        "                        aggregate_func='mean').fit()\n",
        "\n",
        "anova_results.summary()"
      ],
      "metadata": {
        "colab": {
          "base_uri": "https://localhost:8080/",
          "height": 120
        },
        "id": "4-iJVCbM4AdM",
        "outputId": "4f35ee62-10c4-4512-beb2-c2a45119444a"
      },
      "execution_count": null,
      "outputs": [
        {
          "output_type": "execute_result",
          "data": {
            "text/plain": [
              "<class 'statsmodels.iolib.summary2.Summary'>\n",
              "\"\"\"\n",
              "                 Anova\n",
              "========================================\n",
              "           F Value  Num DF Den DF Pr > F\n",
              "----------------------------------------\n",
              "Time       361.7890 3.0000 9.0000 0.0000\n",
              "SEX_1        8.1365 1.0000 3.0000 0.0650\n",
              "Time:SEX_1   7.9528 3.0000 9.0000 0.0067\n",
              "========================================\n",
              "\n",
              "\"\"\""
            ],
            "text/html": [
              "<table class=\"simpletable\">\n",
              "<tr>\n",
              "       <td></td>       <th>F Value</th> <th>Num DF</th> <th>Den DF</th> <th>Pr > F</th>\n",
              "</tr>\n",
              "<tr>\n",
              "  <th>Time</th>       <td>361.7890</td> <td>3.0000</td> <td>9.0000</td> <td>0.0000</td>\n",
              "</tr>\n",
              "<tr>\n",
              "  <th>SEX_1</th>       <td>8.1365</td>  <td>1.0000</td> <td>3.0000</td> <td>0.0650</td>\n",
              "</tr>\n",
              "<tr>\n",
              "  <th>Time:SEX_1</th>  <td>7.9528</td>  <td>3.0000</td> <td>9.0000</td> <td>0.0067</td>\n",
              "</tr>\n",
              "</table><br/>\n"
            ],
            "text/latex": "\\begin{table}\n\\caption{Anova}\n\\label{}\n\\begin{center}\n\\begin{tabular}{lrrrr}\n\\hline\n            &  F Value & Num DF & Den DF & Pr $>$ F  \\\\\n\\hline\nTime        & 361.7890 & 3.0000 & 9.0000 &   0.0000  \\\\\nSEX\\_1      &   8.1365 & 1.0000 & 3.0000 &   0.0650  \\\\\nTime:SEX\\_1 &   7.9528 & 3.0000 & 9.0000 &   0.0067  \\\\\n\\hline\n\\end{tabular}\n\\end{center}\n\\end{table}\n\\bigskip\n"
          },
          "metadata": {},
          "execution_count": 41
        }
      ]
    },
    {
      "cell_type": "markdown",
      "source": [
        "Время (Time): P-значение очень низкое, значит время оказывает статистически значимое влияние на уровень BDI, изменения в BDI в различные временные точки не могут быть случайными.\n",
        "\n",
        "Пол (SEX_1): пол не оказывает статистически значимого влияния на уровень BDI, так как p-значение больше 0.05, значит любые различия в уровне BDI между полами могут быть случайными.\n",
        "\n",
        "Взаимодействие времени и пола (Time:SEX_1): Взаимодействие между временем и полом является статистически значимым, а значит изменения в уровне BDI в различные временные точки, возможно, влияют по-разному на разные полы."
      ],
      "metadata": {
        "id": "56JU4G9t62jx"
      }
    },
    {
      "cell_type": "code",
      "source": [
        "# Выполнение ANOVA Repeated Measures\n",
        "anova_results = AnovaRM(data=long_data, depvar='BDI', subject='SEX_1', within=['Time', 'PRCOD_1'], \\\n",
        "                        aggregate_func='mean').fit()\n",
        "\n",
        "anova_results.summary()"
      ],
      "metadata": {
        "colab": {
          "base_uri": "https://localhost:8080/",
          "height": 120
        },
        "id": "UZTaPqhB6Tq_",
        "outputId": "7a7db2de-6122-4a37-9446-0b41c552940e"
      },
      "execution_count": null,
      "outputs": [
        {
          "output_type": "execute_result",
          "data": {
            "text/plain": [
              "<class 'statsmodels.iolib.summary2.Summary'>\n",
              "\"\"\"\n",
              "                  Anova\n",
              "=========================================\n",
              "             F Value Num DF Den DF Pr > F\n",
              "-----------------------------------------\n",
              "Time         81.4583 3.0000 3.0000 0.0023\n",
              "PRCOD_1       3.5718 3.0000 3.0000 0.1618\n",
              "Time:PRCOD_1  1.7906 9.0000 9.0000 0.1993\n",
              "=========================================\n",
              "\n",
              "\"\"\""
            ],
            "text/html": [
              "<table class=\"simpletable\">\n",
              "<tr>\n",
              "        <td></td>       <th>F Value</th> <th>Num DF</th> <th>Den DF</th> <th>Pr > F</th>\n",
              "</tr>\n",
              "<tr>\n",
              "  <th>Time</th>         <td>81.4583</td> <td>3.0000</td> <td>3.0000</td> <td>0.0023</td>\n",
              "</tr>\n",
              "<tr>\n",
              "  <th>PRCOD_1</th>      <td>3.5718</td>  <td>3.0000</td> <td>3.0000</td> <td>0.1618</td>\n",
              "</tr>\n",
              "<tr>\n",
              "  <th>Time:PRCOD_1</th> <td>1.7906</td>  <td>9.0000</td> <td>9.0000</td> <td>0.1993</td>\n",
              "</tr>\n",
              "</table><br/>\n"
            ],
            "text/latex": "\\begin{table}\n\\caption{Anova}\n\\label{}\n\\begin{center}\n\\begin{tabular}{lrrrr}\n\\hline\n              & F Value & Num DF & Den DF & Pr $>$ F  \\\\\n\\hline\nTime          & 81.4583 & 3.0000 & 3.0000 &   0.0023  \\\\\nPRCOD\\_1      &  3.5718 & 3.0000 & 3.0000 &   0.1618  \\\\\nTime:PRCOD\\_1 &  1.7906 & 9.0000 & 9.0000 &   0.1993  \\\\\n\\hline\n\\end{tabular}\n\\end{center}\n\\end{table}\n\\bigskip\n"
          },
          "metadata": {},
          "execution_count": 42
        }
      ]
    },
    {
      "cell_type": "markdown",
      "source": [
        "Время (Time): P-значение очень низкое, значит время оказывает статистически значимое влияние на уровень BDI, изменения в BDI в различные временные точки не могут быть случайными.\n",
        "\n",
        "Фактор (PRCOD_1): фактор не оказывает статистически значимого влияния на уровень BDI, поскольку p-значение выше 0.05, любые обнаруженные различия в уровнях BDI могут быть случайными.\n",
        "\n",
        "Взаимодействие времени и фактора PRCOD_1 (Time:PRCOD_1): Взаимодействие между временем и фактором PRCOD_1 также не является статистически значимым, так как p-значение выше 0.05, изменения в уровне BDI в различные временные точки не различаются существенно в зависимости от фактора PRCOD_1."
      ],
      "metadata": {
        "id": "z-7Qbr-363HH"
      }
    },
    {
      "cell_type": "code",
      "source": [
        "sns.lineplot(data=long_data, x='Time', y='BDI', hue='SEX_1', style='SEX_1', markers=True, dashes=False)\n",
        "plt.legend(title='Sex')\n",
        "plt.grid(True)\n",
        "plt.show()"
      ],
      "metadata": {
        "colab": {
          "base_uri": "https://localhost:8080/",
          "height": 449
        },
        "id": "hCubFxIYEu4z",
        "outputId": "af3028e7-3257-40b8-dd37-93cfd10733a4"
      },
      "execution_count": null,
      "outputs": [
        {
          "output_type": "display_data",
          "data": {
            "text/plain": [
              "<Figure size 640x480 with 1 Axes>"
            ],
            "image/png": "[encoded data removed]"
          },
          "metadata": {}
        }
      ]
    },
    {
      "cell_type": "code",
      "source": [
        "sns.lineplot(data=long_data, x='Time', y='BDI', hue='PRCOD_1', style='PRCOD_1', markers=True, dashes=False)\n",
        "plt.legend(title='PRCOD_1')\n",
        "plt.grid(True)\n",
        "plt.show()"
      ],
      "metadata": {
        "colab": {
          "base_uri": "https://localhost:8080/",
          "height": 449
        },
        "id": "oWSAgDTEFTIO",
        "outputId": "42d90ac6-06b5-4ce0-9e95-334cc5f748a3"
      },
      "execution_count": null,
      "outputs": [
        {
          "output_type": "display_data",
          "data": {
            "text/plain": [
              "<Figure size 640x480 with 1 Axes>"
            ],
            "image/png": "[encoded data removed]"
          },
          "metadata": {}
        }
      ]
    },
    {
      "cell_type": "code",
      "source": [
        "sns.boxplot(data=long_data, x='Time', y='BDI', hue='SEX_1')\n",
        "plt.legend(title='Sex')\n",
        "plt.show()"
      ],
      "metadata": {
        "colab": {
          "base_uri": "https://localhost:8080/",
          "height": 452
        },
        "id": "RBbNH7p9EuwT",
        "outputId": "a2118fcd-a047-4205-ff84-fda9213e60de"
      },
      "execution_count": null,
      "outputs": [
        {
          "output_type": "display_data",
          "data": {
            "text/plain": [
              "<Figure size 640x480 with 1 Axes>"
            ],
            "image/png": "[encoded data removed]"
          },
          "metadata": {}
        }
      ]
    },
    {
      "cell_type": "code",
      "source": [
        "sns.boxplot(data=long_data, x='Time', y='BDI', hue='PRCOD_1')\n",
        "plt.legend(title='PRCOD_1')\n",
        "plt.show()"
      ],
      "metadata": {
        "colab": {
          "base_uri": "https://localhost:8080/",
          "height": 452
        },
        "id": "kcrxsitpEuq0",
        "outputId": "6f7fd46d-8446-4316-e629-21daf776af8a"
      },
      "execution_count": null,
      "outputs": [
        {
          "output_type": "display_data",
          "data": {
            "text/plain": [
              "<Figure size 640x480 with 1 Axes>"
            ],
            "image/png": "[encoded data removed]"
          },
          "metadata": {}
        }
      ]
    }
  ]
}