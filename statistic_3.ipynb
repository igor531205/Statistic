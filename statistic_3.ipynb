{
  "nbformat": 4,
  "nbformat_minor": 0,
  "metadata": {
    "colab": {
      "provenance": [],
      "authorship_tag": "ABX9TyMaRjfsWzE6OQiEvLMmbahY",
      "include_colab_link": true
    },
    "kernelspec": {
      "name": "python3",
      "display_name": "Python 3"
    },
    "language_info": {
      "name": "python"
    }
  },
  "cells": [
    {
      "cell_type": "markdown",
      "metadata": {
        "id": "view-in-github",
        "colab_type": "text"
      },
      "source": [
        "<a href=\"https://colab.research.google.com/github/igor531205/statistic/blob/main/statistic_3.ipynb\" target=\"_parent\"><img src=\"https://colab.research.google.com/assets/colab-badge.svg\" alt=\"Open In Colab\"/></a>"
      ]
    },
    {
      "cell_type": "markdown",
      "source": [
        "***Выполнил Пушкарев Игорь Игоревич. Группа 23.М08-мм. Вариант 10***"
      ],
      "metadata": {
        "id": "AV-JtwmKsqXn"
      }
    },
    {
      "cell_type": "markdown",
      "source": [
        "## Методы статистической обработки информации.\n",
        "### Метод наименьших квадратов в задаче линейной и нелинейной регрессии. Непараметрические коэффициенты корреляции. Значимость частных коэффициентов регрессии.\n",
        "\n",
        "---\n",
        "\n",
        "* Вариант 10. Промоделировать нелинейную модель y = f(x, a, b) + δ с несмещенной нормально распределенной ошибкой, дисперсия которой равна ε, считая x стандартно нормально распределенной случайной величиной.\n",
        "* f(x, a, b) = ax² + bx + c, a = 1, b = 4, c = 2.5, ε = 2\n",
        "\n",
        "---"
      ],
      "metadata": {
        "id": "MT-Ou_3ust_F"
      }
    },
    {
      "cell_type": "markdown",
      "source": [
        "*Импортируем необходимые для дальнейшей работы библиотеки.*"
      ],
      "metadata": {
        "id": "SbjtPBlDAl_u"
      }
    },
    {
      "cell_type": "code",
      "execution_count": null,
      "metadata": {
        "id": "JNEHkxFdr7Zx"
      },
      "outputs": [],
      "source": [
        "import numpy as np\n",
        "import pandas as pd\n",
        "import seaborn as sns\n",
        "import matplotlib.pyplot as plt\n",
        "import statsmodels.api as sm\n",
        "from sklearn.preprocessing import MinMaxScaler\n",
        "from scipy.optimize import curve_fit\n",
        "from scipy.stats import f_oneway, pearsonr, t, f"
      ]
    },
    {
      "cell_type": "markdown",
      "source": [
        "*Произведем моделирование нелинейной модели y = f(x, a, b) + δ*"
      ],
      "metadata": {
        "id": "19H-bKaLnXUW"
      }
    },
    {
      "cell_type": "code",
      "source": [
        "# Параметры модели\n",
        "a = 1\n",
        "b = 4\n",
        "c = 2.5\n",
        "epsilon = 2\n",
        "N = 100\n",
        "\n",
        "# Генерация нормально распределенной случайной величины x\n",
        "np.random.seed(10)\n",
        "X = np.random.normal(0, 1, N)  # X ~ N(0, 1)\n",
        "delta = np.random.normal(0, np.sqrt(epsilon), N)  # δ ~ N(0, ε)\n",
        "\n",
        "# Функция f(x, a, b) нелинейной модели\n",
        "def F(x, a, b, c):\n",
        "    return a * x**2 + b * x + c\n",
        "\n",
        "# Функция y = alpha + beta*x линейной модели\n",
        "def L(x, alpha, beta):\n",
        "    return alpha + beta * x\n",
        "\n",
        "# Генерация Y\n",
        "Y = F(X, a, b, c) + delta\n",
        "\n",
        "# Выводим часть сгенерированных данных\n",
        "print(f'f(X, a, b) = Y\\n'+'-'*20)\n",
        "for i in range(5):\n",
        "    print(f'f({i}, {a}, {b}) = {Y[i]:.5f}')"
      ],
      "metadata": {
        "colab": {
          "base_uri": "https://localhost:8080/"
        },
        "id": "3OToiawwm3KL",
        "outputId": "521fd8a7-6b84-4191-933f-a1c8b8fe8d26"
      },
      "execution_count": null,
      "outputs": [
        {
          "output_type": "stream",
          "name": "stdout",
          "text": [
            "f(X, a, b) = Y\n",
            "--------------------\n",
            "f(0, 1, 4) = 9.76560\n",
            "f(1, 1, 4) = 3.17519\n",
            "f(2, 1, 4) = -2.59853\n",
            "f(3, 1, 4) = 3.13086\n",
            "f(4, 1, 4) = 5.16724\n"
          ]
        }
      ]
    },
    {
      "cell_type": "markdown",
      "source": [
        "---\n",
        "\n",
        "* Оценить параметры нелинейной модели по методу наименьших квадратов (численно). Применить к модельным данным линейную модель и оценить параметры. Построить на двумерной диаграмме основную и линейную модель. Сравнить невязки для обеих моделей.\n",
        "\n",
        "---"
      ],
      "metadata": {
        "id": "ZK2x-DNhvKGL"
      }
    },
    {
      "cell_type": "code",
      "source": [
        "# Оценка параметров нелинейной модели\n",
        "popt_f, pcov_f = curve_fit(F, X, Y)\n",
        "\n",
        "# Оценка параметров линейной модели\n",
        "popt_l, pcov_l = curve_fit(L, X, Y)\n",
        "\n",
        "a_est, b_est, c_est = popt_f\n",
        "A_est, B_est = popt_l\n",
        "\n",
        "print(f'Функция нелинейной модели Y = {a_est:.3f}x² + {b_est:.3f}x + {c_est:.3f}')\n",
        "print(f'Функция линейной модели Y = {A_est:.3f}x + {B_est:.3f}')"
      ],
      "metadata": {
        "colab": {
          "base_uri": "https://localhost:8080/"
        },
        "id": "fwTOiJ5mATv0",
        "outputId": "5693e519-5d65-4bea-a5ac-afe239caa2bc"
      },
      "execution_count": null,
      "outputs": [
        {
          "output_type": "stream",
          "name": "stdout",
          "text": [
            "Функция нелинейной модели Y = 0.964x² + 4.100x + 2.624\n",
            "Функция линейной модели Y = 3.518x + 4.266\n"
          ]
        }
      ]
    },
    {
      "cell_type": "code",
      "source": [
        "# Генерация значений X для графиков\n",
        "x_range = np.linspace(X.min(), X.max(), 100)\n",
        "\n",
        "# Генерация значений Y для графиков\n",
        "Y_f = F(x_range, *popt_f)\n",
        "Y_l = L(x_range, *popt_l)\n",
        "\n",
        "# Построение графика\n",
        "plt.scatter(X, Y, color='blue', label='Сгенерированные данные')\n",
        "plt.plot(x_range, Y_f, 'r-', label=f'Нелинейная модель: $y = {a_est:.2f}x^2 + {b_est:.2f}x + {c_est:.2f}$')\n",
        "plt.plot(x_range, Y_l, 'g--', label=f'Линейная модель: $y = {A_est:.2f}x + {B_est:.2f}$')\n",
        "plt.legend()\n",
        "plt.show()"
      ],
      "metadata": {
        "colab": {
          "base_uri": "https://localhost:8080/",
          "height": 430
        },
        "id": "iTjs4OWZDCRn",
        "outputId": "a4de732b-e9dc-4549-d842-78b4565aa08d"
      },
      "execution_count": null,
      "outputs": [
        {
          "output_type": "display_data",
          "data": {
            "text/plain": [
              "<Figure size 640x480 with 1 Axes>"
            ],
            "image/png": "[encoded data removed]"
          },
          "metadata": {}
        }
      ]
    },
    {
      "cell_type": "markdown",
      "source": [
        "Из графика видно, что нелинейная модель хорошо описывает данные, несмотря на шум."
      ],
      "metadata": {
        "id": "T9DJFTxUEyY2"
      }
    },
    {
      "cell_type": "markdown",
      "source": [
        "---\n",
        "\n",
        "* Для линейной модели выполнить дисперсионный анализ, проверить значимость прогноза и коэффициентов регрессии. Сравнить непосредственные вычисления с результатами встроенной функции.\n",
        "\n",
        "---"
      ],
      "metadata": {
        "id": "AHZiwppW6UQ6"
      }
    },
    {
      "cell_type": "code",
      "source": [
        "# Генерация значений Y для графиков\n",
        "Y_f = F(X, *popt_f)\n",
        "Y_l = L(X, *popt_l)\n",
        "\n",
        "# Источники вариации\n",
        "QT = np.sum((Y - np.mean(Y))**2) # общий\n",
        "QR = np.sum((Y_l - np.mean(Y))**2) # обусловленный регрессией\n",
        "QE = np.sum((Y - Y_l)**2) # невязка\n",
        "\n",
        "print(f'{QT=:.3f}, {QR=:.3f}, {QE=:.3f}')"
      ],
      "metadata": {
        "colab": {
          "base_uri": "https://localhost:8080/"
        },
        "id": "DEmN8W_ZNzVi",
        "outputId": "a8174728-b445-4f48-d535-a1ec90a3f8fa"
      },
      "execution_count": null,
      "outputs": [
        {
          "output_type": "stream",
          "name": "stdout",
          "text": [
            "QT=2067.385, QR=1701.723, QE=365.663\n"
          ]
        }
      ]
    },
    {
      "cell_type": "code",
      "source": [
        "print(f'{QT=:.3f} == {QR+QE=:.3f}')  # проверка равенства коэффициентов"
      ],
      "metadata": {
        "colab": {
          "base_uri": "https://localhost:8080/"
        },
        "id": "CcXCOY5_QTPa",
        "outputId": "604a2f36-c766-4da3-b89b-7b9e12178ba7"
      },
      "execution_count": null,
      "outputs": [
        {
          "output_type": "stream",
          "name": "stdout",
          "text": [
            "QT=2067.385 == QR+QE=2067.385\n"
          ]
        }
      ]
    },
    {
      "cell_type": "code",
      "source": [
        "# Коэффициент детерминации R²\n",
        "R2 = QR / QT\n",
        "\n",
        "print(f'{R2=:.2f}')"
      ],
      "metadata": {
        "colab": {
          "base_uri": "https://localhost:8080/"
        },
        "id": "LzYMhAnEOFfw",
        "outputId": "96cdbe8b-5c5b-41ae-c5d4-8b0f09c4545a"
      },
      "execution_count": null,
      "outputs": [
        {
          "output_type": "stream",
          "name": "stdout",
          "text": [
            "R2=0.82\n"
          ]
        }
      ]
    },
    {
      "cell_type": "markdown",
      "source": [
        "Коэффициент детерминации примерно равен 0.82, это означает, что модель\n",
        "описывает примерно 82% информации."
      ],
      "metadata": {
        "id": "lNTHgUi0Qn5G"
      }
    },
    {
      "cell_type": "code",
      "source": [
        "multiply_x = np.sum((X - np.mean(X))**2)\n",
        "S2 = QE / (N-2)\n",
        "S2_alpha = (S2 * np.sum(X**2)) / (N * multiply_x)\n",
        "S2_beta = S2 / multiply_x\n",
        "\n",
        "# Статистики\n",
        "stat_F = (QR * (N-2)) / QE\n",
        "P_Fisher = 1 - f.cdf(stat_F, 2, N-2)\n",
        "\n",
        "print(f'{P_Fisher=}')\n",
        "\n",
        "T_alpha = A_est / np.sqrt(S2_alpha)\n",
        "P_alpha = 2 * (1 - t.cdf(np.abs(T_alpha), N-2))\n",
        "\n",
        "print(f'{P_alpha=}')\n",
        "\n",
        "T_beta = B_est / np.sqrt(S2_beta)\n",
        "P_beta = 2 * (1 - t.cdf(np.abs(T_beta), N-2))\n",
        "\n",
        "print(f'{P_beta=}')"
      ],
      "metadata": {
        "colab": {
          "base_uri": "https://localhost:8080/"
        },
        "id": "mHFEX4HjOYlO",
        "outputId": "e46bef34-d1d7-4ac9-c975-ecabd96c7a56"
      },
      "execution_count": null,
      "outputs": [
        {
          "output_type": "stream",
          "name": "stdout",
          "text": [
            "P_Fisher=1.1102230246251565e-16\n",
            "P_alpha=0.0\n",
            "P_beta=0.0\n"
          ]
        }
      ]
    },
    {
      "cell_type": "code",
      "source": [
        "X_sm = sm.add_constant(X)\n",
        "model = sm.OLS(Y, X_sm)\n",
        "results = model.fit()\n",
        "\n",
        "# Сравнение коэффициентов детерминации и p-значений\n",
        "(R2, results.rsquared), (P_Fisher, results.f_pvalue), (P_alpha, results.pvalues[0]), (P_beta, results.pvalues[1])"
      ],
      "metadata": {
        "colab": {
          "base_uri": "https://localhost:8080/"
        },
        "id": "O6D9gXMiAN7a",
        "outputId": "f317972a-d151-42f4-d46e-1b9a17dc21d7"
      },
      "execution_count": null,
      "outputs": [
        {
          "output_type": "execute_result",
          "data": {
            "text/plain": [
              "((0.8231279467142765, 0.8231279429465482),\n",
              " (1.1102230246251565e-16, 1.2074224068039624e-38),\n",
              " (0.0, 4.111660967504188e-33),\n",
              " (0.0, 1.2074224068040268e-38))"
            ]
          },
          "metadata": {},
          "execution_count": 10
        }
      ]
    },
    {
      "cell_type": "markdown",
      "source": [
        "Коэффициент детерминации (R²): модель объясняет примерно 82.31% вариации данных, что указывает на хорошее соответствие модели.\n",
        "\n",
        "Коэффициэнт Фишера: Оба P-value меньше 0.05, что подтверждает статистическую значимость регрессионной модели.\n",
        "\n",
        "Значимость коэффициентов регрессии: Коэффициента значимы, так как P-value для них меньше порога 0.05.\n",
        "\n",
        "Все результаты подтверждают значимость регрессионной модели и её коэффициентов. Различия в точных значениях P-value между непосредственными вычислениями и встроенными функциями можно объяснить различиями в точности вычислений и алгоритмах, используемых библиотекой statsmodels. Но в обоих случаях выводы о значимости модели согласуются."
      ],
      "metadata": {
        "id": "y3_RTm7yYSDJ"
      }
    },
    {
      "cell_type": "code",
      "source": [
        "# Построение графика\n",
        "Y_original_f = F(X, a, b, c)\n",
        "plt.scatter(X, Y, color='blue', label='Сгенерированные данные')\n",
        "plt.plot(sorted(X), sorted(Y_original_f), 'r-', label=f'Исходная модель: ${a}x^2 + {b}x + {c}$')\n",
        "plt.plot(sorted(X), sorted(Y_f), 'm-', label=f'Нелинейная модель: ${a_est:.2f}x^2 + {b_est:.2f}x + {c_est:.2f}$')\n",
        "plt.plot(sorted(X), sorted(Y_l), 'g-', label=f'Линейная модель: ${A_est:.2f} + {B_est:.2f}x$')\n",
        "plt.legend()\n",
        "plt.show()"
      ],
      "metadata": {
        "colab": {
          "base_uri": "https://localhost:8080/",
          "height": 430
        },
        "id": "5-xwZDvdAN4h",
        "outputId": "82332f5c-dc8a-45e3-d2bf-f11f381079ee"
      },
      "execution_count": null,
      "outputs": [
        {
          "output_type": "display_data",
          "data": {
            "text/plain": [
              "<Figure size 640x480 with 1 Axes>"
            ],
            "image/png": "[encoded data removed]"
          },
          "metadata": {}
        }
      ]
    },
    {
      "cell_type": "code",
      "source": [
        "# Ошибки для каждой модели\n",
        "f_orig_error = np.sum((Y - F(X, a, b, c))**2)\n",
        "f_error = np.sum((Y - F(X, *popt_f))**2)\n",
        "l_error = np.sum((Y - L(X, *popt_l))**2)\n",
        "\n",
        "print(f'Сумма квадратов ошибок = {f_orig_error:.3f}, для исходной модели {a}x² + {b}x + {c}')\n",
        "print(f'Сумма квадратов ошибок = {f_error:.3f}, для нелинейной модели {a_est:.2f}x² + {b_est:.2f}x + {c_est:.3f}')\n",
        "print(f'Сумма квадратов ошибок = {l_error:.3f}, для линейной модели {A_est:.2f}x + {B_est:.2f}')"
      ],
      "metadata": {
        "colab": {
          "base_uri": "https://localhost:8080/"
        },
        "id": "Xkro73K-EwV6",
        "outputId": "fc4bc7f6-f4ac-4213-a4b7-9d892e7178b4"
      },
      "execution_count": null,
      "outputs": [
        {
          "output_type": "stream",
          "name": "stdout",
          "text": [
            "Сумма квадратов ошибок = 195.135, для исходной модели 1x² + 4x + 2.5\n",
            "Сумма квадратов ошибок = 193.110, для нелинейной модели 0.96x² + 4.10x + 2.624\n",
            "Сумма квадратов ошибок = 365.663, для линейной модели 3.52x + 4.27\n"
          ]
        }
      ]
    },
    {
      "cell_type": "markdown",
      "source": [
        "Сумма квадратов ошибок для линейной модели модели выше, т.к. линейная модель хуже описывает распределение данных."
      ],
      "metadata": {
        "id": "_cehpGm5H9Uv"
      }
    },
    {
      "cell_type": "markdown",
      "source": [
        "---\n",
        "\n",
        "* Данные [addicts.xlsx](https://github.com/igor531205/statistic/raw/main/data/addicts.xlsx). Построить корреляционную матрицу по метрическим переменным sstati, asi4_dr, asi1_med, asi6_soc и выделить наиболее значимую корреляцию. Для этого случая построить двумерную диаграмму.\n",
        "\n",
        "---"
      ],
      "metadata": {
        "id": "s1UayxhlIhbD"
      }
    },
    {
      "cell_type": "code",
      "source": [
        "# ссылка на данные\n",
        "link = 'https://github.com/igor531205/statistic/raw/main/data/addicts.xlsx'\n",
        "\n",
        "addicts_sheet_name = 'addicts'\n",
        "\n",
        "features = ['sstati', 'asi4_dr', 'asi1_med', 'asi6_soc']\n",
        "target = ['rabdru']\n",
        "\n",
        "# Считываем данные\n",
        "use_cols = features + target\n",
        "addicts=pd.read_excel(link, sheet_name=addicts_sheet_name, usecols=use_cols, index_col=False)\n",
        "\n",
        "# Отключаем ограничение в отображении столбцов\n",
        "pd.options.display.max_columns = None\n",
        "\n",
        "addicts.describe()"
      ],
      "metadata": {
        "id": "zdgOOqjPANx2",
        "colab": {
          "base_uri": "https://localhost:8080/",
          "height": 300
        },
        "outputId": "67bb6995-f348-4d5c-9dc8-435e7439b337"
      },
      "execution_count": null,
      "outputs": [
        {
          "output_type": "execute_result",
          "data": {
            "text/plain": [
              "         asi1_med     asi4_dr    asi6_soc      rabdru      sstati\n",
              "count  280.000000  280.000000  280.000000  280.000000  280.000000\n",
              "mean     0.243607    0.279321    0.418061    8.127143   48.382143\n",
              "std      0.268022    0.055680    0.250199    5.059656    8.916601\n",
              "min      0.000000    0.090000    0.000000    0.000000   23.000000\n",
              "25%      0.000000    0.250000    0.200000    4.000000   43.000000\n",
              "50%      0.185000    0.300000    0.430000    8.000000   48.000000\n",
              "75%      0.412500    0.300000    0.600000   12.000000   54.000000\n",
              "max      1.000000    0.660000    0.970000   21.000000   72.000000"
            ],
            "text/html": [
              "\n",
              "  <div id=\"df-b4b6fa0d-349d-49a8-bce7-3f0ac1173ab1\" class=\"colab-df-container\">\n",
              "    <div>\n",
              "<style scoped>\n",
              "    .dataframe tbody tr th:only-of-type {\n",
              "        vertical-align: middle;\n",
              "    }\n",
              "\n",
              "    .dataframe tbody tr th {\n",
              "        vertical-align: top;\n",
              "    }\n",
              "\n",
              "    .dataframe thead th {\n",
              "        text-align: right;\n",
              "    }\n",
              "</style>\n",
              "<table border=\"1\" class=\"dataframe\">\n",
              "  <thead>\n",
              "    <tr style=\"text-align: right;\">\n",
              "      <th></th>\n",
              "      <th>asi1_med</th>\n",
              "      <th>asi4_dr</th>\n",
              "      <th>asi6_soc</th>\n",
              "      <th>rabdru</th>\n",
              "      <th>sstati</th>\n",
              "    </tr>\n",
              "  </thead>\n",
              "  <tbody>\n",
              "    <tr>\n",
              "      <th>count</th>\n",
              "      <td>280.000000</td>\n",
              "      <td>280.000000</td>\n",
              "      <td>280.000000</td>\n",
              "      <td>280.000000</td>\n",
              "      <td>280.000000</td>\n",
              "    </tr>\n",
              "    <tr>\n",
              "      <th>mean</th>\n",
              "      <td>0.243607</td>\n",
              "      <td>0.279321</td>\n",
              "      <td>0.418061</td>\n",
              "      <td>8.127143</td>\n",
              "      <td>48.382143</td>\n",
              "    </tr>\n",
              "    <tr>\n",
              "      <th>std</th>\n",
              "      <td>0.268022</td>\n",
              "      <td>0.055680</td>\n",
              "      <td>0.250199</td>\n",
              "      <td>5.059656</td>\n",
              "      <td>8.916601</td>\n",
              "    </tr>\n",
              "    <tr>\n",
              "      <th>min</th>\n",
              "      <td>0.000000</td>\n",
              "      <td>0.090000</td>\n",
              "      <td>0.000000</td>\n",
              "      <td>0.000000</td>\n",
              "      <td>23.000000</td>\n",
              "    </tr>\n",
              "    <tr>\n",
              "      <th>25%</th>\n",
              "      <td>0.000000</td>\n",
              "      <td>0.250000</td>\n",
              "      <td>0.200000</td>\n",
              "      <td>4.000000</td>\n",
              "      <td>43.000000</td>\n",
              "    </tr>\n",
              "    <tr>\n",
              "      <th>50%</th>\n",
              "      <td>0.185000</td>\n",
              "      <td>0.300000</td>\n",
              "      <td>0.430000</td>\n",
              "      <td>8.000000</td>\n",
              "      <td>48.000000</td>\n",
              "    </tr>\n",
              "    <tr>\n",
              "      <th>75%</th>\n",
              "      <td>0.412500</td>\n",
              "      <td>0.300000</td>\n",
              "      <td>0.600000</td>\n",
              "      <td>12.000000</td>\n",
              "      <td>54.000000</td>\n",
              "    </tr>\n",
              "    <tr>\n",
              "      <th>max</th>\n",
              "      <td>1.000000</td>\n",
              "      <td>0.660000</td>\n",
              "      <td>0.970000</td>\n",
              "      <td>21.000000</td>\n",
              "      <td>72.000000</td>\n",
              "    </tr>\n",
              "  </tbody>\n",
              "</table>\n",
              "</div>\n",
              "    <div class=\"colab-df-buttons\">\n",
              "\n",
              "  <div class=\"colab-df-container\">\n",
              "    <button class=\"colab-df-convert\" onclick=\"convertToInteractive('df-b4b6fa0d-349d-49a8-bce7-3f0ac1173ab1')\"\n",
              "            title=\"Convert this dataframe to an interactive table.\"\n",
              "            style=\"display:none;\">\n",
              "\n",
              "  <svg xmlns=\"http://www.w3.org/2000/svg\" height=\"24px\" viewBox=\"0 -960 960 960\">\n",
              "    <path d=\"M120-120v-720h720v720H120Zm60-500h600v-160H180v160Zm220 220h160v-160H400v160Zm0 220h160v-160H400v160ZM180-400h160v-160H180v160Zm440 0h160v-160H620v160ZM180-180h160v-160H180v160Zm440 0h160v-160H620v160Z\"/>\n",
              "  </svg>\n",
              "    </button>\n",
              "\n",
              "  <style>\n",
              "    .colab-df-container {\n",
              "      display:flex;\n",
              "      gap: 12px;\n",
              "    }\n",
              "\n",
              "    .colab-df-convert {\n",
              "      background-color: #E8F0FE;\n",
              "      border: none;\n",
              "      border-radius: 50%;\n",
              "      cursor: pointer;\n",
              "      display: none;\n",
              "      fill: #1967D2;\n",
              "      height: 32px;\n",
              "      padding: 0 0 0 0;\n",
              "      width: 32px;\n",
              "    }\n",
              "\n",
              "    .colab-df-convert:hover {\n",
              "      background-color: #E2EBFA;\n",
              "      box-shadow: 0px 1px 2px rgba(60, 64, 67, 0.3), 0px 1px 3px 1px rgba(60, 64, 67, 0.15);\n",
              "      fill: #174EA6;\n",
              "    }\n",
              "\n",
              "    .colab-df-buttons div {\n",
              "      margin-bottom: 4px;\n",
              "    }\n",
              "\n",
              "    [theme=dark] .colab-df-convert {\n",
              "      background-color: #3B4455;\n",
              "      fill: #D2E3FC;\n",
              "    }\n",
              "\n",
              "    [theme=dark] .colab-df-convert:hover {\n",
              "      background-color: #434B5C;\n",
              "      box-shadow: 0px 1px 3px 1px rgba(0, 0, 0, 0.15);\n",
              "      filter: drop-shadow(0px 1px 2px rgba(0, 0, 0, 0.3));\n",
              "      fill: #FFFFFF;\n",
              "    }\n",
              "  </style>\n",
              "\n",
              "    <script>\n",
              "      const buttonEl =\n",
              "        document.querySelector('#df-b4b6fa0d-349d-49a8-bce7-3f0ac1173ab1 button.colab-df-convert');\n",
              "      buttonEl.style.display =\n",
              "        google.colab.kernel.accessAllowed ? 'block' : 'none';\n",
              "\n",
              "      async function convertToInteractive(key) {\n",
              "        const element = document.querySelector('#df-b4b6fa0d-349d-49a8-bce7-3f0ac1173ab1');\n",
              "        const dataTable =\n",
              "          await google.colab.kernel.invokeFunction('convertToInteractive',\n",
              "                                                    [key], {});\n",
              "        if (!dataTable) return;\n",
              "\n",
              "        const docLinkHtml = 'Like what you see? Visit the ' +\n",
              "          '<a target=\"_blank\" href=https://colab.research.google.com/notebooks/data_table.ipynb>data table notebook</a>'\n",
              "          + ' to learn more about interactive tables.';\n",
              "        element.innerHTML = '';\n",
              "        dataTable['output_type'] = 'display_data';\n",
              "        await google.colab.output.renderOutput(dataTable, element);\n",
              "        const docLink = document.createElement('div');\n",
              "        docLink.innerHTML = docLinkHtml;\n",
              "        element.appendChild(docLink);\n",
              "      }\n",
              "    </script>\n",
              "  </div>\n",
              "\n",
              "\n",
              "<div id=\"df-a1bd2fe2-001b-4b3c-be1c-47c7a3af5338\">\n",
              "  <button class=\"colab-df-quickchart\" onclick=\"quickchart('df-a1bd2fe2-001b-4b3c-be1c-47c7a3af5338')\"\n",
              "            title=\"Suggest charts\"\n",
              "            style=\"display:none;\">\n",
              "\n",
              "<svg xmlns=\"http://www.w3.org/2000/svg\" height=\"24px\"viewBox=\"0 0 24 24\"\n",
              "     width=\"24px\">\n",
              "    <g>\n",
              "        <path d=\"M19 3H5c-1.1 0-2 .9-2 2v14c0 1.1.9 2 2 2h14c1.1 0 2-.9 2-2V5c0-1.1-.9-2-2-2zM9 17H7v-7h2v7zm4 0h-2V7h2v10zm4 0h-2v-4h2v4z\"/>\n",
              "    </g>\n",
              "</svg>\n",
              "  </button>\n",
              "\n",
              "<style>\n",
              "  .colab-df-quickchart {\n",
              "      --bg-color: #E8F0FE;\n",
              "      --fill-color: #1967D2;\n",
              "      --hover-bg-color: #E2EBFA;\n",
              "      --hover-fill-color: #174EA6;\n",
              "      --disabled-fill-color: #AAA;\n",
              "      --disabled-bg-color: #DDD;\n",
              "  }\n",
              "\n",
              "  [theme=dark] .colab-df-quickchart {\n",
              "      --bg-color: #3B4455;\n",
              "      --fill-color: #D2E3FC;\n",
              "      --hover-bg-color: #434B5C;\n",
              "      --hover-fill-color: #FFFFFF;\n",
              "      --disabled-bg-color: #3B4455;\n",
              "      --disabled-fill-color: #666;\n",
              "  }\n",
              "\n",
              "  .colab-df-quickchart {\n",
              "    background-color: var(--bg-color);\n",
              "    border: none;\n",
              "    border-radius: 50%;\n",
              "    cursor: pointer;\n",
              "    display: none;\n",
              "    fill: var(--fill-color);\n",
              "    height: 32px;\n",
              "    padding: 0;\n",
              "    width: 32px;\n",
              "  }\n",
              "\n",
              "  .colab-df-quickchart:hover {\n",
              "    background-color: var(--hover-bg-color);\n",
              "    box-shadow: 0 1px 2px rgba(60, 64, 67, 0.3), 0 1px 3px 1px rgba(60, 64, 67, 0.15);\n",
              "    fill: var(--button-hover-fill-color);\n",
              "  }\n",
              "\n",
              "  .colab-df-quickchart-complete:disabled,\n",
              "  .colab-df-quickchart-complete:disabled:hover {\n",
              "    background-color: var(--disabled-bg-color);\n",
              "    fill: var(--disabled-fill-color);\n",
              "    box-shadow: none;\n",
              "  }\n",
              "\n",
              "  .colab-df-spinner {\n",
              "    border: 2px solid var(--fill-color);\n",
              "    border-color: transparent;\n",
              "    border-bottom-color: var(--fill-color);\n",
              "    animation:\n",
              "      spin 1s steps(1) infinite;\n",
              "  }\n",
              "\n",
              "  @keyframes spin {\n",
              "    0% {\n",
              "      border-color: transparent;\n",
              "      border-bottom-color: var(--fill-color);\n",
              "      border-left-color: var(--fill-color);\n",
              "    }\n",
              "    20% {\n",
              "      border-color: transparent;\n",
              "      border-left-color: var(--fill-color);\n",
              "      border-top-color: var(--fill-color);\n",
              "    }\n",
              "    30% {\n",
              "      border-color: transparent;\n",
              "      border-left-color: var(--fill-color);\n",
              "      border-top-color: var(--fill-color);\n",
              "      border-right-color: var(--fill-color);\n",
              "    }\n",
              "    40% {\n",
              "      border-color: transparent;\n",
              "      border-right-color: var(--fill-color);\n",
              "      border-top-color: var(--fill-color);\n",
              "    }\n",
              "    60% {\n",
              "      border-color: transparent;\n",
              "      border-right-color: var(--fill-color);\n",
              "    }\n",
              "    80% {\n",
              "      border-color: transparent;\n",
              "      border-right-color: var(--fill-color);\n",
              "      border-bottom-color: var(--fill-color);\n",
              "    }\n",
              "    90% {\n",
              "      border-color: transparent;\n",
              "      border-bottom-color: var(--fill-color);\n",
              "    }\n",
              "  }\n",
              "</style>\n",
              "\n",
              "  <script>\n",
              "    async function quickchart(key) {\n",
              "      const quickchartButtonEl =\n",
              "        document.querySelector('#' + key + ' button');\n",
              "      quickchartButtonEl.disabled = true;  // To prevent multiple clicks.\n",
              "      quickchartButtonEl.classList.add('colab-df-spinner');\n",
              "      try {\n",
              "        const charts = await google.colab.kernel.invokeFunction(\n",
              "            'suggestCharts', [key], {});\n",
              "      } catch (error) {\n",
              "        console.error('Error during call to suggestCharts:', error);\n",
              "      }\n",
              "      quickchartButtonEl.classList.remove('colab-df-spinner');\n",
              "      quickchartButtonEl.classList.add('colab-df-quickchart-complete');\n",
              "    }\n",
              "    (() => {\n",
              "      let quickchartButtonEl =\n",
              "        document.querySelector('#df-a1bd2fe2-001b-4b3c-be1c-47c7a3af5338 button');\n",
              "      quickchartButtonEl.style.display =\n",
              "        google.colab.kernel.accessAllowed ? 'block' : 'none';\n",
              "    })();\n",
              "  </script>\n",
              "</div>\n",
              "    </div>\n",
              "  </div>\n"
            ],
            "application/vnd.google.colaboratory.intrinsic+json": {
              "type": "dataframe",
              "summary": "{\n  \"name\": \"addicts\",\n  \"rows\": 8,\n  \"fields\": [\n    {\n      \"column\": \"asi1_med\",\n      \"properties\": {\n        \"dtype\": \"number\",\n        \"std\": 98.88892790484392,\n        \"min\": 0.0,\n        \"max\": 280.0,\n        \"num_unique_values\": 7,\n        \"samples\": [\n          280.0,\n          0.24360714285714288,\n          0.4125\n        ],\n        \"semantic_type\": \"\",\n        \"description\": \"\"\n      }\n    },\n    {\n      \"column\": \"asi4_dr\",\n      \"properties\": {\n        \"dtype\": \"number\",\n        \"std\": 98.89738491180049,\n        \"min\": 0.0556799311808404,\n        \"max\": 280.0,\n        \"num_unique_values\": 7,\n        \"samples\": [\n          280.0,\n          0.27932142857142855,\n          0.3\n        ],\n        \"semantic_type\": \"\",\n        \"description\": \"\"\n      }\n    },\n    {\n      \"column\": \"asi6_soc\",\n      \"properties\": {\n        \"dtype\": \"number\",\n        \"std\": 98.85050519266322,\n        \"min\": 0.0,\n        \"max\": 280.0,\n        \"num_unique_values\": 8,\n        \"samples\": [\n          0.41806071428571434,\n          0.43,\n          280.0\n        ],\n        \"semantic_type\": \"\",\n        \"description\": \"\"\n      }\n    },\n    {\n      \"column\": \"rabdru\",\n      \"properties\": {\n        \"dtype\": \"number\",\n        \"std\": 96.25884871382941,\n        \"min\": 0.0,\n        \"max\": 280.0,\n        \"num_unique_values\": 8,\n        \"samples\": [\n          8.127142857142857,\n          8.0,\n          280.0\n        ],\n        \"semantic_type\": \"\",\n        \"description\": \"\"\n      }\n    },\n    {\n      \"column\": \"sstati\",\n      \"properties\": {\n        \"dtype\": \"number\",\n        \"std\": 86.14199868742445,\n        \"min\": 8.916600987454965,\n        \"max\": 280.0,\n        \"num_unique_values\": 8,\n        \"samples\": [\n          48.38214285714286,\n          48.0,\n          280.0\n        ],\n        \"semantic_type\": \"\",\n        \"description\": \"\"\n      }\n    }\n  ]\n}"
            }
          },
          "metadata": {},
          "execution_count": 100
        }
      ]
    },
    {
      "cell_type": "markdown",
      "source": [
        "*Проверим пропущенные значения*"
      ],
      "metadata": {
        "id": "pcrpzNgHOLio"
      }
    },
    {
      "cell_type": "code",
      "source": [
        "addicts.isna().sum()"
      ],
      "metadata": {
        "id": "QBFQCFSJ7gI6",
        "colab": {
          "base_uri": "https://localhost:8080/"
        },
        "outputId": "20254fbe-1bfa-4a5e-d76a-54466e4e802e"
      },
      "execution_count": null,
      "outputs": [
        {
          "output_type": "execute_result",
          "data": {
            "text/plain": [
              "asi1_med    0\n",
              "asi4_dr     0\n",
              "asi6_soc    0\n",
              "rabdru      0\n",
              "sstati      0\n",
              "dtype: int64"
            ]
          },
          "metadata": {},
          "execution_count": 91
        }
      ]
    },
    {
      "cell_type": "markdown",
      "source": [
        "*Построим корреляционную матрицу по метрическим переменным sstati, asi4_dr, asi1_med и asi6_soc*"
      ],
      "metadata": {
        "id": "PU_d0OJJOx-b"
      }
    },
    {
      "cell_type": "code",
      "source": [
        "correlation_matrix = addicts[features].corr()\n",
        "correlation_matrix"
      ],
      "metadata": {
        "id": "0wlqLll07gCg",
        "colab": {
          "base_uri": "https://localhost:8080/",
          "height": 174
        },
        "outputId": "60e82d9f-d022-4d60-b9d0-145b451aba3d"
      },
      "execution_count": null,
      "outputs": [
        {
          "output_type": "execute_result",
          "data": {
            "text/plain": [
              "            sstati   asi4_dr  asi1_med  asi6_soc\n",
              "sstati    1.000000  0.178986  0.218868  0.191127\n",
              "asi4_dr   0.178986  1.000000  0.142780  0.294268\n",
              "asi1_med  0.218868  0.142780  1.000000  0.061617\n",
              "asi6_soc  0.191127  0.294268  0.061617  1.000000"
            ],
            "text/html": [
              "\n",
              "  <div id=\"df-65e93db0-5488-44a1-896b-fad2315d9454\" class=\"colab-df-container\">\n",
              "    <div>\n",
              "<style scoped>\n",
              "    .dataframe tbody tr th:only-of-type {\n",
              "        vertical-align: middle;\n",
              "    }\n",
              "\n",
              "    .dataframe tbody tr th {\n",
              "        vertical-align: top;\n",
              "    }\n",
              "\n",
              "    .dataframe thead th {\n",
              "        text-align: right;\n",
              "    }\n",
              "</style>\n",
              "<table border=\"1\" class=\"dataframe\">\n",
              "  <thead>\n",
              "    <tr style=\"text-align: right;\">\n",
              "      <th></th>\n",
              "      <th>sstati</th>\n",
              "      <th>asi4_dr</th>\n",
              "      <th>asi1_med</th>\n",
              "      <th>asi6_soc</th>\n",
              "    </tr>\n",
              "  </thead>\n",
              "  <tbody>\n",
              "    <tr>\n",
              "      <th>sstati</th>\n",
              "      <td>1.000000</td>\n",
              "      <td>0.178986</td>\n",
              "      <td>0.218868</td>\n",
              "      <td>0.191127</td>\n",
              "    </tr>\n",
              "    <tr>\n",
              "      <th>asi4_dr</th>\n",
              "      <td>0.178986</td>\n",
              "      <td>1.000000</td>\n",
              "      <td>0.142780</td>\n",
              "      <td>0.294268</td>\n",
              "    </tr>\n",
              "    <tr>\n",
              "      <th>asi1_med</th>\n",
              "      <td>0.218868</td>\n",
              "      <td>0.142780</td>\n",
              "      <td>1.000000</td>\n",
              "      <td>0.061617</td>\n",
              "    </tr>\n",
              "    <tr>\n",
              "      <th>asi6_soc</th>\n",
              "      <td>0.191127</td>\n",
              "      <td>0.294268</td>\n",
              "      <td>0.061617</td>\n",
              "      <td>1.000000</td>\n",
              "    </tr>\n",
              "  </tbody>\n",
              "</table>\n",
              "</div>\n",
              "    <div class=\"colab-df-buttons\">\n",
              "\n",
              "  <div class=\"colab-df-container\">\n",
              "    <button class=\"colab-df-convert\" onclick=\"convertToInteractive('df-65e93db0-5488-44a1-896b-fad2315d9454')\"\n",
              "            title=\"Convert this dataframe to an interactive table.\"\n",
              "            style=\"display:none;\">\n",
              "\n",
              "  <svg xmlns=\"http://www.w3.org/2000/svg\" height=\"24px\" viewBox=\"0 -960 960 960\">\n",
              "    <path d=\"M120-120v-720h720v720H120Zm60-500h600v-160H180v160Zm220 220h160v-160H400v160Zm0 220h160v-160H400v160ZM180-400h160v-160H180v160Zm440 0h160v-160H620v160ZM180-180h160v-160H180v160Zm440 0h160v-160H620v160Z\"/>\n",
              "  </svg>\n",
              "    </button>\n",
              "\n",
              "  <style>\n",
              "    .colab-df-container {\n",
              "      display:flex;\n",
              "      gap: 12px;\n",
              "    }\n",
              "\n",
              "    .colab-df-convert {\n",
              "      background-color: #E8F0FE;\n",
              "      border: none;\n",
              "      border-radius: 50%;\n",
              "      cursor: pointer;\n",
              "      display: none;\n",
              "      fill: #1967D2;\n",
              "      height: 32px;\n",
              "      padding: 0 0 0 0;\n",
              "      width: 32px;\n",
              "    }\n",
              "\n",
              "    .colab-df-convert:hover {\n",
              "      background-color: #E2EBFA;\n",
              "      box-shadow: 0px 1px 2px rgba(60, 64, 67, 0.3), 0px 1px 3px 1px rgba(60, 64, 67, 0.15);\n",
              "      fill: #174EA6;\n",
              "    }\n",
              "\n",
              "    .colab-df-buttons div {\n",
              "      margin-bottom: 4px;\n",
              "    }\n",
              "\n",
              "    [theme=dark] .colab-df-convert {\n",
              "      background-color: #3B4455;\n",
              "      fill: #D2E3FC;\n",
              "    }\n",
              "\n",
              "    [theme=dark] .colab-df-convert:hover {\n",
              "      background-color: #434B5C;\n",
              "      box-shadow: 0px 1px 3px 1px rgba(0, 0, 0, 0.15);\n",
              "      filter: drop-shadow(0px 1px 2px rgba(0, 0, 0, 0.3));\n",
              "      fill: #FFFFFF;\n",
              "    }\n",
              "  </style>\n",
              "\n",
              "    <script>\n",
              "      const buttonEl =\n",
              "        document.querySelector('#df-65e93db0-5488-44a1-896b-fad2315d9454 button.colab-df-convert');\n",
              "      buttonEl.style.display =\n",
              "        google.colab.kernel.accessAllowed ? 'block' : 'none';\n",
              "\n",
              "      async function convertToInteractive(key) {\n",
              "        const element = document.querySelector('#df-65e93db0-5488-44a1-896b-fad2315d9454');\n",
              "        const dataTable =\n",
              "          await google.colab.kernel.invokeFunction('convertToInteractive',\n",
              "                                                    [key], {});\n",
              "        if (!dataTable) return;\n",
              "\n",
              "        const docLinkHtml = 'Like what you see? Visit the ' +\n",
              "          '<a target=\"_blank\" href=https://colab.research.google.com/notebooks/data_table.ipynb>data table notebook</a>'\n",
              "          + ' to learn more about interactive tables.';\n",
              "        element.innerHTML = '';\n",
              "        dataTable['output_type'] = 'display_data';\n",
              "        await google.colab.output.renderOutput(dataTable, element);\n",
              "        const docLink = document.createElement('div');\n",
              "        docLink.innerHTML = docLinkHtml;\n",
              "        element.appendChild(docLink);\n",
              "      }\n",
              "    </script>\n",
              "  </div>\n",
              "\n",
              "\n",
              "<div id=\"df-4e930ae3-04b7-4165-9189-b4ad21c48cb8\">\n",
              "  <button class=\"colab-df-quickchart\" onclick=\"quickchart('df-4e930ae3-04b7-4165-9189-b4ad21c48cb8')\"\n",
              "            title=\"Suggest charts\"\n",
              "            style=\"display:none;\">\n",
              "\n",
              "<svg xmlns=\"http://www.w3.org/2000/svg\" height=\"24px\"viewBox=\"0 0 24 24\"\n",
              "     width=\"24px\">\n",
              "    <g>\n",
              "        <path d=\"M19 3H5c-1.1 0-2 .9-2 2v14c0 1.1.9 2 2 2h14c1.1 0 2-.9 2-2V5c0-1.1-.9-2-2-2zM9 17H7v-7h2v7zm4 0h-2V7h2v10zm4 0h-2v-4h2v4z\"/>\n",
              "    </g>\n",
              "</svg>\n",
              "  </button>\n",
              "\n",
              "<style>\n",
              "  .colab-df-quickchart {\n",
              "      --bg-color: #E8F0FE;\n",
              "      --fill-color: #1967D2;\n",
              "      --hover-bg-color: #E2EBFA;\n",
              "      --hover-fill-color: #174EA6;\n",
              "      --disabled-fill-color: #AAA;\n",
              "      --disabled-bg-color: #DDD;\n",
              "  }\n",
              "\n",
              "  [theme=dark] .colab-df-quickchart {\n",
              "      --bg-color: #3B4455;\n",
              "      --fill-color: #D2E3FC;\n",
              "      --hover-bg-color: #434B5C;\n",
              "      --hover-fill-color: #FFFFFF;\n",
              "      --disabled-bg-color: #3B4455;\n",
              "      --disabled-fill-color: #666;\n",
              "  }\n",
              "\n",
              "  .colab-df-quickchart {\n",
              "    background-color: var(--bg-color);\n",
              "    border: none;\n",
              "    border-radius: 50%;\n",
              "    cursor: pointer;\n",
              "    display: none;\n",
              "    fill: var(--fill-color);\n",
              "    height: 32px;\n",
              "    padding: 0;\n",
              "    width: 32px;\n",
              "  }\n",
              "\n",
              "  .colab-df-quickchart:hover {\n",
              "    background-color: var(--hover-bg-color);\n",
              "    box-shadow: 0 1px 2px rgba(60, 64, 67, 0.3), 0 1px 3px 1px rgba(60, 64, 67, 0.15);\n",
              "    fill: var(--button-hover-fill-color);\n",
              "  }\n",
              "\n",
              "  .colab-df-quickchart-complete:disabled,\n",
              "  .colab-df-quickchart-complete:disabled:hover {\n",
              "    background-color: var(--disabled-bg-color);\n",
              "    fill: var(--disabled-fill-color);\n",
              "    box-shadow: none;\n",
              "  }\n",
              "\n",
              "  .colab-df-spinner {\n",
              "    border: 2px solid var(--fill-color);\n",
              "    border-color: transparent;\n",
              "    border-bottom-color: var(--fill-color);\n",
              "    animation:\n",
              "      spin 1s steps(1) infinite;\n",
              "  }\n",
              "\n",
              "  @keyframes spin {\n",
              "    0% {\n",
              "      border-color: transparent;\n",
              "      border-bottom-color: var(--fill-color);\n",
              "      border-left-color: var(--fill-color);\n",
              "    }\n",
              "    20% {\n",
              "      border-color: transparent;\n",
              "      border-left-color: var(--fill-color);\n",
              "      border-top-color: var(--fill-color);\n",
              "    }\n",
              "    30% {\n",
              "      border-color: transparent;\n",
              "      border-left-color: var(--fill-color);\n",
              "      border-top-color: var(--fill-color);\n",
              "      border-right-color: var(--fill-color);\n",
              "    }\n",
              "    40% {\n",
              "      border-color: transparent;\n",
              "      border-right-color: var(--fill-color);\n",
              "      border-top-color: var(--fill-color);\n",
              "    }\n",
              "    60% {\n",
              "      border-color: transparent;\n",
              "      border-right-color: var(--fill-color);\n",
              "    }\n",
              "    80% {\n",
              "      border-color: transparent;\n",
              "      border-right-color: var(--fill-color);\n",
              "      border-bottom-color: var(--fill-color);\n",
              "    }\n",
              "    90% {\n",
              "      border-color: transparent;\n",
              "      border-bottom-color: var(--fill-color);\n",
              "    }\n",
              "  }\n",
              "</style>\n",
              "\n",
              "  <script>\n",
              "    async function quickchart(key) {\n",
              "      const quickchartButtonEl =\n",
              "        document.querySelector('#' + key + ' button');\n",
              "      quickchartButtonEl.disabled = true;  // To prevent multiple clicks.\n",
              "      quickchartButtonEl.classList.add('colab-df-spinner');\n",
              "      try {\n",
              "        const charts = await google.colab.kernel.invokeFunction(\n",
              "            'suggestCharts', [key], {});\n",
              "      } catch (error) {\n",
              "        console.error('Error during call to suggestCharts:', error);\n",
              "      }\n",
              "      quickchartButtonEl.classList.remove('colab-df-spinner');\n",
              "      quickchartButtonEl.classList.add('colab-df-quickchart-complete');\n",
              "    }\n",
              "    (() => {\n",
              "      let quickchartButtonEl =\n",
              "        document.querySelector('#df-4e930ae3-04b7-4165-9189-b4ad21c48cb8 button');\n",
              "      quickchartButtonEl.style.display =\n",
              "        google.colab.kernel.accessAllowed ? 'block' : 'none';\n",
              "    })();\n",
              "  </script>\n",
              "</div>\n",
              "    </div>\n",
              "  </div>\n"
            ],
            "application/vnd.google.colaboratory.intrinsic+json": {
              "type": "dataframe",
              "variable_name": "correlation_matrix",
              "summary": "{\n  \"name\": \"correlation_matrix\",\n  \"rows\": 4,\n  \"fields\": [\n    {\n      \"column\": \"sstati\",\n      \"properties\": {\n        \"dtype\": \"number\",\n        \"std\": 0.4021830566373656,\n        \"min\": 0.1789863752446574,\n        \"max\": 1.0,\n        \"num_unique_values\": 4,\n        \"samples\": [\n          0.1789863752446574,\n          0.19112662177688924,\n          1.0\n        ],\n        \"semantic_type\": \"\",\n        \"description\": \"\"\n      }\n    },\n    {\n      \"column\": \"asi4_dr\",\n      \"properties\": {\n        \"dtype\": \"number\",\n        \"std\": 0.40254363277095295,\n        \"min\": 0.14277989538038713,\n        \"max\": 1.0,\n        \"num_unique_values\": 4,\n        \"samples\": [\n          1.0,\n          0.29426825997744094,\n          0.1789863752446574\n        ],\n        \"semantic_type\": \"\",\n        \"description\": \"\"\n      }\n    },\n    {\n      \"column\": \"asi1_med\",\n      \"properties\": {\n        \"dtype\": \"number\",\n        \"std\": 0.43422919663675846,\n        \"min\": 0.06161748715428398,\n        \"max\": 1.0,\n        \"num_unique_values\": 4,\n        \"samples\": [\n          0.14277989538038713,\n          0.06161748715428398,\n          0.21886778735147142\n        ],\n        \"semantic_type\": \"\",\n        \"description\": \"\"\n      }\n    },\n    {\n      \"column\": \"asi6_soc\",\n      \"properties\": {\n        \"dtype\": \"number\",\n        \"std\": 0.41976505004432524,\n        \"min\": 0.06161748715428398,\n        \"max\": 1.0,\n        \"num_unique_values\": 4,\n        \"samples\": [\n          0.29426825997744094,\n          1.0,\n          0.19112662177688924\n        ],\n        \"semantic_type\": \"\",\n        \"description\": \"\"\n      }\n    }\n  ]\n}"
            }
          },
          "metadata": {},
          "execution_count": 92
        }
      ]
    },
    {
      "cell_type": "markdown",
      "source": [
        "*Визуально выделим наиболее значимую корреляцию*"
      ],
      "metadata": {
        "id": "5CA0KWa0RBMQ"
      }
    },
    {
      "cell_type": "code",
      "source": [
        "# Визуализация матрицы корреляций\n",
        "sns.heatmap(correlation_matrix, annot=True, cmap='Blues', fmt='.2f')\n",
        "plt.show()"
      ],
      "metadata": {
        "id": "Yqpfe3_WvJ0m",
        "colab": {
          "base_uri": "https://localhost:8080/",
          "height": 435
        },
        "outputId": "0b4f7018-89c1-48b3-83fa-5408901dd1d0"
      },
      "execution_count": null,
      "outputs": [
        {
          "output_type": "display_data",
          "data": {
            "text/plain": [
              "<Figure size 640x480 with 2 Axes>"
            ],
            "image/png": "[encoded data removed]"
          },
          "metadata": {}
        }
      ]
    },
    {
      "cell_type": "markdown",
      "source": [
        " Взаимосвязь между употреблением наркотиков (asi4_dr) и семейными отношениями (asi6_soc) коррелирует больше всего."
      ],
      "metadata": {
        "id": "cY6xWaoVQ78Q"
      }
    },
    {
      "cell_type": "markdown",
      "source": [
        "*Построим двумерную диаграмму для них.*"
      ],
      "metadata": {
        "id": "gzSm_T1gSeMm"
      }
    },
    {
      "cell_type": "code",
      "source": [
        "# Визуализация двумерной диаграммы\n",
        "plt.scatter(addicts['asi4_dr'], addicts['asi6_soc'], alpha=0.5)\n",
        "plt.xlabel('asi4_dr')\n",
        "plt.ylabel('asi6_soc')\n",
        "plt.show()"
      ],
      "metadata": {
        "id": "3LHS61eSvJxX",
        "colab": {
          "base_uri": "https://localhost:8080/",
          "height": 450
        },
        "outputId": "5c76c11b-7f41-48d4-eb2d-4c597a1c0870"
      },
      "execution_count": null,
      "outputs": [
        {
          "output_type": "display_data",
          "data": {
            "text/plain": [
              "<Figure size 640x480 with 1 Axes>"
            ],
            "image/png": "[encoded data removed]"
          },
          "metadata": {}
        }
      ]
    },
    {
      "cell_type": "markdown",
      "source": [
        "Просматриваются точки выстроенные в линии asi6_soc=0.0 и asi4_dr=0.3, что указывает на слабую корреляцию этих двух признаков. Если смотреть на облако точек в целом, то прослеживается увеличение напряженности в семейных отношениях с увеличением употребления наркотиков."
      ],
      "metadata": {
        "id": "D978d-_QaZA6"
      }
    },
    {
      "cell_type": "markdown",
      "source": [
        "---\n",
        "\n",
        "* Применить модель множественной регрессии для зависимой переменной rabdru и для независимых переменных sstati, asi4_dr, asi1_med, asi6_soc. Определить значимость прогноза и указать наиболее значимые переменные.\n",
        "\n",
        "---"
      ],
      "metadata": {
        "id": "f4KUMSMmcSUE"
      }
    },
    {
      "cell_type": "code",
      "source": [
        "# Функция f(x, a, b) нелинейной модели\n",
        "def F(x, a, b, c):\n",
        "    return a * x**2 + b * x + c"
      ],
      "metadata": {
        "id": "abnoWLolH46f"
      },
      "execution_count": null,
      "outputs": []
    },
    {
      "cell_type": "code",
      "source": [
        "# Оценка параметров нелинейной модели\n",
        "popt_f, pcov_f = curve_fit(F, addicts['asi4_dr'], addicts['asi6_soc'])\n",
        "\n",
        "a_est, b_est, c_est = popt_f\n",
        "\n",
        "print(f'Функция нелинейной модели Y = {a_est:.3f}x² + {b_est:.3f}x + {c_est:.3f}')"
      ],
      "metadata": {
        "colab": {
          "base_uri": "https://localhost:8080/"
        },
        "id": "hHvKqbk3Hek7",
        "outputId": "36742aa1-7a5b-4a91-bf96-84cfdbd06733"
      },
      "execution_count": null,
      "outputs": [
        {
          "output_type": "stream",
          "name": "stdout",
          "text": [
            "Функция нелинейной модели Y = -6.036x² + 4.909x + -0.464\n"
          ]
        }
      ]
    },
    {
      "cell_type": "code",
      "source": [
        "# Визуализация двумерной диаграммы\n",
        "Y_f = F(addicts['asi4_dr'], a_est, b_est, c_est)\n",
        "plt.scatter(addicts['asi4_dr'], addicts['asi6_soc'], alpha=0.5, color='blue', label='Данные')\n",
        "plt.plot(sorted(addicts['asi4_dr']), sorted(Y_f), 'r-', label=f'Модель: ${a_est:.2f}x^2 + {b_est:.2f}x + {c_est:.2f}$')\n",
        "plt.xlabel('asi4_dr')\n",
        "plt.ylabel('asi6_soc')\n",
        "plt.legend()\n",
        "plt.show()"
      ],
      "metadata": {
        "colab": {
          "base_uri": "https://localhost:8080/",
          "height": 450
        },
        "id": "h79VNPBAHehr",
        "outputId": "028d8d43-b7be-4730-87c2-9361c24e75e7"
      },
      "execution_count": null,
      "outputs": [
        {
          "output_type": "display_data",
          "data": {
            "text/plain": [
              "<Figure size 640x480 with 1 Axes>"
            ],
            "image/png": "[encoded data removed]"
          },
          "metadata": {}
        }
      ]
    },
    {
      "cell_type": "code",
      "source": [
        "# Подготовка данных для множественной регрессии\n",
        "X = addicts[features]  # Независимые переменные\n",
        "y = addicts[target]  # Зависимая переменная\n",
        "\n",
        "# Добавление константы\n",
        "X = sm.add_constant(X)\n",
        "\n",
        "# Применение модели множественной регрессии\n",
        "model = sm.OLS(y, X).fit()\n",
        "\n",
        "# Вывод результатов\n",
        "model_summary = model.summary()\n",
        "model_summary"
      ],
      "metadata": {
        "colab": {
          "base_uri": "https://localhost:8080/",
          "height": 516
        },
        "id": "anRvqwHXcQHj",
        "outputId": "b1a3d8a4-4dd5-4cab-eb25-d948f2729235"
      },
      "execution_count": null,
      "outputs": [
        {
          "output_type": "execute_result",
          "data": {
            "text/plain": [
              "<class 'statsmodels.iolib.summary.Summary'>\n",
              "\"\"\"\n",
              "                            OLS Regression Results                            \n",
              "==============================================================================\n",
              "Dep. Variable:                 rabdru   R-squared:                       0.007\n",
              "Model:                            OLS   Adj. R-squared:                 -0.007\n",
              "Method:                 Least Squares   F-statistic:                    0.4847\n",
              "Date:                Thu, 25 Apr 2024   Prob (F-statistic):              0.747\n",
              "Time:                        19:01:29   Log-Likelihood:                -849.78\n",
              "No. Observations:                 280   AIC:                             1710.\n",
              "Df Residuals:                     275   BIC:                             1728.\n",
              "Df Model:                           4                                         \n",
              "Covariance Type:            nonrobust                                         \n",
              "==============================================================================\n",
              "                 coef    std err          t      P>|t|      [0.025      0.975]\n",
              "------------------------------------------------------------------------------\n",
              "const          8.2674      2.109      3.920      0.000       4.115      12.419\n",
              "sstati        -0.0083      0.036     -0.231      0.818      -0.079       0.062\n",
              "asi4_dr        0.7592      5.796      0.131      0.896     -10.651      12.169\n",
              "asi1_med      -1.3303      1.169     -1.138      0.256      -3.633       0.972\n",
              "asi6_soc       0.8874      1.286      0.690      0.491      -1.643       3.418\n",
              "==============================================================================\n",
              "Omnibus:                       17.125   Durbin-Watson:                   1.858\n",
              "Prob(Omnibus):                  0.000   Jarque-Bera (JB):               10.054\n",
              "Skew:                           0.305   Prob(JB):                      0.00656\n",
              "Kurtosis:                       2.301   Cond. No.                         965.\n",
              "==============================================================================\n",
              "\n",
              "Notes:\n",
              "[1] Standard Errors assume that the covariance matrix of the errors is correctly specified.\n",
              "\"\"\""
            ],
            "text/html": [
              "<table class=\"simpletable\">\n",
              "<caption>OLS Regression Results</caption>\n",
              "<tr>\n",
              "  <th>Dep. Variable:</th>         <td>rabdru</td>      <th>  R-squared:         </th> <td>   0.007</td>\n",
              "</tr>\n",
              "<tr>\n",
              "  <th>Model:</th>                   <td>OLS</td>       <th>  Adj. R-squared:    </th> <td>  -0.007</td>\n",
              "</tr>\n",
              "<tr>\n",
              "  <th>Method:</th>             <td>Least Squares</td>  <th>  F-statistic:       </th> <td>  0.4847</td>\n",
              "</tr>\n",
              "<tr>\n",
              "  <th>Date:</th>             <td>Thu, 25 Apr 2024</td> <th>  Prob (F-statistic):</th>  <td> 0.747</td> \n",
              "</tr>\n",
              "<tr>\n",
              "  <th>Time:</th>                 <td>19:01:29</td>     <th>  Log-Likelihood:    </th> <td> -849.78</td>\n",
              "</tr>\n",
              "<tr>\n",
              "  <th>No. Observations:</th>      <td>   280</td>      <th>  AIC:               </th> <td>   1710.</td>\n",
              "</tr>\n",
              "<tr>\n",
              "  <th>Df Residuals:</th>          <td>   275</td>      <th>  BIC:               </th> <td>   1728.</td>\n",
              "</tr>\n",
              "<tr>\n",
              "  <th>Df Model:</th>              <td>     4</td>      <th>                     </th>     <td> </td>   \n",
              "</tr>\n",
              "<tr>\n",
              "  <th>Covariance Type:</th>      <td>nonrobust</td>    <th>                     </th>     <td> </td>   \n",
              "</tr>\n",
              "</table>\n",
              "<table class=\"simpletable\">\n",
              "<tr>\n",
              "      <td></td>        <th>coef</th>     <th>std err</th>      <th>t</th>      <th>P>|t|</th>  <th>[0.025</th>    <th>0.975]</th>  \n",
              "</tr>\n",
              "<tr>\n",
              "  <th>const</th>    <td>    8.2674</td> <td>    2.109</td> <td>    3.920</td> <td> 0.000</td> <td>    4.115</td> <td>   12.419</td>\n",
              "</tr>\n",
              "<tr>\n",
              "  <th>sstati</th>   <td>   -0.0083</td> <td>    0.036</td> <td>   -0.231</td> <td> 0.818</td> <td>   -0.079</td> <td>    0.062</td>\n",
              "</tr>\n",
              "<tr>\n",
              "  <th>asi4_dr</th>  <td>    0.7592</td> <td>    5.796</td> <td>    0.131</td> <td> 0.896</td> <td>  -10.651</td> <td>   12.169</td>\n",
              "</tr>\n",
              "<tr>\n",
              "  <th>asi1_med</th> <td>   -1.3303</td> <td>    1.169</td> <td>   -1.138</td> <td> 0.256</td> <td>   -3.633</td> <td>    0.972</td>\n",
              "</tr>\n",
              "<tr>\n",
              "  <th>asi6_soc</th> <td>    0.8874</td> <td>    1.286</td> <td>    0.690</td> <td> 0.491</td> <td>   -1.643</td> <td>    3.418</td>\n",
              "</tr>\n",
              "</table>\n",
              "<table class=\"simpletable\">\n",
              "<tr>\n",
              "  <th>Omnibus:</th>       <td>17.125</td> <th>  Durbin-Watson:     </th> <td>   1.858</td>\n",
              "</tr>\n",
              "<tr>\n",
              "  <th>Prob(Omnibus):</th> <td> 0.000</td> <th>  Jarque-Bera (JB):  </th> <td>  10.054</td>\n",
              "</tr>\n",
              "<tr>\n",
              "  <th>Skew:</th>          <td> 0.305</td> <th>  Prob(JB):          </th> <td> 0.00656</td>\n",
              "</tr>\n",
              "<tr>\n",
              "  <th>Kurtosis:</th>      <td> 2.301</td> <th>  Cond. No.          </th> <td>    965.</td>\n",
              "</tr>\n",
              "</table><br/><br/>Notes:<br/>[1] Standard Errors assume that the covariance matrix of the errors is correctly specified."
            ],
            "text/latex": "\\begin{center}\n\\begin{tabular}{lclc}\n\\toprule\n\\textbf{Dep. Variable:}    &      rabdru      & \\textbf{  R-squared:         } &     0.007   \\\\\n\\textbf{Model:}            &       OLS        & \\textbf{  Adj. R-squared:    } &    -0.007   \\\\\n\\textbf{Method:}           &  Least Squares   & \\textbf{  F-statistic:       } &    0.4847   \\\\\n\\textbf{Date:}             & Thu, 25 Apr 2024 & \\textbf{  Prob (F-statistic):} &    0.747    \\\\\n\\textbf{Time:}             &     19:01:29     & \\textbf{  Log-Likelihood:    } &   -849.78   \\\\\n\\textbf{No. Observations:} &         280      & \\textbf{  AIC:               } &     1710.   \\\\\n\\textbf{Df Residuals:}     &         275      & \\textbf{  BIC:               } &     1728.   \\\\\n\\textbf{Df Model:}         &           4      & \\textbf{                     } &             \\\\\n\\textbf{Covariance Type:}  &    nonrobust     & \\textbf{                     } &             \\\\\n\\bottomrule\n\\end{tabular}\n\\begin{tabular}{lcccccc}\n                   & \\textbf{coef} & \\textbf{std err} & \\textbf{t} & \\textbf{P$> |$t$|$} & \\textbf{[0.025} & \\textbf{0.975]}  \\\\\n\\midrule\n\\textbf{const}     &       8.2674  &        2.109     &     3.920  &         0.000        &        4.115    &       12.419     \\\\\n\\textbf{sstati}    &      -0.0083  &        0.036     &    -0.231  &         0.818        &       -0.079    &        0.062     \\\\\n\\textbf{asi4\\_dr}  &       0.7592  &        5.796     &     0.131  &         0.896        &      -10.651    &       12.169     \\\\\n\\textbf{asi1\\_med} &      -1.3303  &        1.169     &    -1.138  &         0.256        &       -3.633    &        0.972     \\\\\n\\textbf{asi6\\_soc} &       0.8874  &        1.286     &     0.690  &         0.491        &       -1.643    &        3.418     \\\\\n\\bottomrule\n\\end{tabular}\n\\begin{tabular}{lclc}\n\\textbf{Omnibus:}       & 17.125 & \\textbf{  Durbin-Watson:     } &    1.858  \\\\\n\\textbf{Prob(Omnibus):} &  0.000 & \\textbf{  Jarque-Bera (JB):  } &   10.054  \\\\\n\\textbf{Skew:}          &  0.305 & \\textbf{  Prob(JB):          } &  0.00656  \\\\\n\\textbf{Kurtosis:}      &  2.301 & \\textbf{  Cond. No.          } &     965.  \\\\\n\\bottomrule\n\\end{tabular}\n%\\caption{OLS Regression Results}\n\\end{center}\n\nNotes: \\newline\n [1] Standard Errors assume that the covariance matrix of the errors is correctly specified."
          },
          "metadata": {},
          "execution_count": 99
        }
      ]
    },
    {
      "cell_type": "markdown",
      "source": [
        "R-квадрат: модель хорошо описывает только 0.7% распределения данных, что указывает на очень слабую подгонку модели к данным.\n",
        "\n",
        "F-статистика: 0.48 с вероятностью 0.75, показывает, что модель в целом не является статистически значимой. А предсказание не выше среднего.\n",
        "\n",
        "Анализ коэффициентов:\n",
        "* sstati - уровень тревожности не является значимым фактором для риска употребления наркотиков;\n",
        "* asi4_dr - употребление наркотиков не является значимым фактором для риска употребления наркотиков, видимо не достаточно данных, т.к. я считаю этот признак должен быть значимым;\n",
        "* asi1_med - медицинский статус не является значимым фактором для риска употребления наркотиков;\n",
        "* asi6_soc - семейные отношения не является значимым фактором для риска употребления наркотиков.\n",
        "\n",
        "Как видно из результатов, ни одна из независимых переменных не является статистически значимой в предсказании риска употребления наркотиков. Это может означать, что данные переменные не подходят для предсказания данного параметра или модель плохо обучилась."
      ],
      "metadata": {
        "id": "NT6achf_jZoh"
      }
    },
    {
      "cell_type": "markdown",
      "source": [
        "---\n",
        "\n",
        "* Найти частный коэффициент корреляции между каждой из независимых переменных sstati, asi4_dr, asi1_med, asi6_soc и зависимой переменной rabdru. Проверить его значимость отклонения от нуля.\n",
        "\n",
        "---"
      ],
      "metadata": {
        "id": "uAs5M4QMgPQh"
      }
    },
    {
      "cell_type": "code",
      "source": [
        "# Функция расчета частного коэффициента корреляции и проверки его значимости\n",
        "def calculate_partial_correlation(data, x, y, controls):\n",
        "    Y = data[y]\n",
        "    X_controls = sm.add_constant(data[controls])\n",
        "    model_y = sm.OLS(Y, X_controls).fit()\n",
        "    residuals_y = model_y.resid\n",
        "\n",
        "    X = data[x]\n",
        "    model_x = sm.OLS(X, X_controls).fit()\n",
        "    residuals_x = model_x.resid\n",
        "\n",
        "    corr, p_value = pearsonr(residuals_x, residuals_y)\n",
        "    return corr, p_value\n",
        "\n",
        "# Расчет частных корреляций\n",
        "partial_corrs = {}\n",
        "for var in features:\n",
        "    controls = [v for v in features if v != var]\n",
        "    corr, p_val = calculate_partial_correlation(addicts, var, target, controls)\n",
        "    partial_corrs[var] = (corr, p_val)\n",
        "\n",
        "for var, (coef, p_value) in partial_corrs.items():\n",
        "    print(f\"Признак: {var},\\t коэффициент корреляции: {coef:.4f},\\t p-value (значимость): {p_value:.4f}\")"
      ],
      "metadata": {
        "colab": {
          "base_uri": "https://localhost:8080/"
        },
        "id": "pOzu-0_Wmj2Z",
        "outputId": "aad26fb6-487d-4ce0-804c-447f63d3a70c"
      },
      "execution_count": null,
      "outputs": [
        {
          "output_type": "stream",
          "name": "stdout",
          "text": [
            "Признак: sstati,\t коэффициент корреляции: -0.0139,\t p-value (значимость): 0.8166\n",
            "Признак: asi4_dr,\t коэффициент корреляции: 0.0079,\t p-value (значимость): 0.8953\n",
            "Признак: asi1_med,\t коэффициент корреляции: -0.0684,\t p-value (значимость): 0.2537\n",
            "Признак: asi6_soc,\t коэффициент корреляции: 0.0416,\t p-value (значимость): 0.4883\n"
          ]
        }
      ]
    },
    {
      "cell_type": "markdown",
      "source": [
        "Анализ коэффициентов:\n",
        "* sstati - уровень тревожности не является значимым фактором для риска употребления наркотиков;\n",
        "* asi4_dr - употребление наркотиков не является значимым фактором для риска употребления наркотиков, видимо не достаточно данных, т.к. я считаю этот признак должен быть значимым;\n",
        "* asi1_med - медицинский статус не является значимым фактором для риска употребления наркотиков;\n",
        "* asi6_soc - семейные отношения не является значимым фактором для риска употребления наркотиков.\n",
        "\n",
        "Все полученные корреляции не отличаются от нуля на статистически значимом уровне. Это означает, что между этими независимыми переменными и переменной 'rabdru' нет значимой линейной связи."
      ],
      "metadata": {
        "id": "GOC6MJ5HdVCi"
      }
    },
    {
      "cell_type": "code",
      "source": [],
      "metadata": {
        "id": "dHXCL6hRpXwU"
      },
      "execution_count": null,
      "outputs": []
    },
    {
      "cell_type": "code",
      "source": [],
      "metadata": {
        "id": "SapSJ06mqZ7g"
      },
      "execution_count": null,
      "outputs": []
    },
    {
      "cell_type": "code",
      "source": [],
      "metadata": {
        "id": "kfsxrYFPqZ2A"
      },
      "execution_count": null,
      "outputs": []
    }
  ]
}